{
 "cells": [
  {
   "cell_type": "code",
   "execution_count": 1,
   "metadata": {},
   "outputs": [],
   "source": [
    "import pandas as pd"
   ]
  },
  {
   "cell_type": "code",
   "execution_count": 22,
   "metadata": {},
   "outputs": [],
   "source": [
    "import pandas as pd\n",
    "\n",
    "# Cargar el archivo CSV\n",
    "df = pd.read_csv('C:/Users/natal/OneDrive/Escritorio/Canadian Pr/datasets/combined_data_no_dates.csv')\n",
    "\n",
    "# Convertir 'year' y 'month' a enteros (sin decimales)\n",
    "df['year'] = df['year'].astype('Int64')\n",
    "df['month'] = df['month'].astype('Int64')\n",
    "\n",
    "# Guardar los cambios en el mismo archivo CSV\n",
    "df.to_csv('combined_data_no_dates.csv', index=False)\n"
   ]
  },
  {
   "cell_type": "code",
   "execution_count": 59,
   "metadata": {},
   "outputs": [
    {
     "data": {
      "text/html": [
       "<div>\n",
       "<style scoped>\n",
       "    .dataframe tbody tr th:only-of-type {\n",
       "        vertical-align: middle;\n",
       "    }\n",
       "\n",
       "    .dataframe tbody tr th {\n",
       "        vertical-align: top;\n",
       "    }\n",
       "\n",
       "    .dataframe thead th {\n",
       "        text-align: right;\n",
       "    }\n",
       "</style>\n",
       "<table border=\"1\" class=\"dataframe\">\n",
       "  <thead>\n",
       "    <tr style=\"text-align: right;\">\n",
       "      <th></th>\n",
       "      <th>year_x</th>\n",
       "      <th>month_x</th>\n",
       "      <th>owner_org</th>\n",
       "      <th>owner_org_title_x</th>\n",
       "      <th>reference_number</th>\n",
       "      <th>procurement_id</th>\n",
       "      <th>vendor_name</th>\n",
       "      <th>vendor_postal_code</th>\n",
       "      <th>buyer_name</th>\n",
       "      <th>contract_date</th>\n",
       "      <th>economic_object_code</th>\n",
       "      <th>description_en</th>\n",
       "      <th>description_fr</th>\n",
       "      <th>contract_period_start</th>\n",
       "      <th>delivery_date</th>\n",
       "      <th>contract_value</th>\n",
       "      <th>original_value</th>\n",
       "      <th>amendment_value</th>\n",
       "      <th>comments_en</th>\n",
       "      <th>comments_fr</th>\n",
       "      <th>additional_comments_en</th>\n",
       "      <th>additional_comments_fr</th>\n",
       "      <th>agreement_type_code</th>\n",
       "      <th>trade_agreement</th>\n",
       "      <th>land_claims</th>\n",
       "      <th>commodity_type</th>\n",
       "      <th>commodity_code</th>\n",
       "      <th>country_of_vendor</th>\n",
       "      <th>solicitation_procedure</th>\n",
       "      <th>limited_tendering_reason</th>\n",
       "      <th>trade_agreement_exceptions</th>\n",
       "      <th>aboriginal_business</th>\n",
       "      <th>aboriginal_business_incidental</th>\n",
       "      <th>intellectual_property</th>\n",
       "      <th>potential_commercial_exploitation</th>\n",
       "      <th>former_public_servant</th>\n",
       "      <th>contracting_entity</th>\n",
       "      <th>standing_offer_number</th>\n",
       "      <th>instrument_type</th>\n",
       "      <th>ministers_office</th>\n",
       "      <th>number_of_bids</th>\n",
       "      <th>article_6_exceptions</th>\n",
       "      <th>award_criteria</th>\n",
       "      <th>socioeconomic_indicator</th>\n",
       "      <th>reporting_period</th>\n",
       "      <th>record_created</th>\n",
       "      <th>record_modified</th>\n",
       "      <th>user_modified</th>\n",
       "      <th>owner_org_title_y</th>\n",
       "      <th>year_y</th>\n",
       "      <th>month_y</th>\n",
       "      <th>_merge</th>\n",
       "    </tr>\n",
       "  </thead>\n",
       "  <tbody>\n",
       "    <tr>\n",
       "      <th>0</th>\n",
       "      <td>2020</td>\n",
       "      <td>4</td>\n",
       "      <td>chrc-ccdp</td>\n",
       "      <td>Canadian Human Rights Commission | Commission ...</td>\n",
       "      <td>P1600422</td>\n",
       "      <td>P1600422</td>\n",
       "      <td>Advanced Chippewa Technologies Inc.</td>\n",
       "      <td>NaN</td>\n",
       "      <td>NaN</td>\n",
       "      <td>2016-02-09</td>\n",
       "      <td>NaN</td>\n",
       "      <td>0584 License/Maintenance fees for Server Opera...</td>\n",
       "      <td>584-Frais de licence/maintenance du système d'...</td>\n",
       "      <td>2016-03-23</td>\n",
       "      <td>2017-03-22</td>\n",
       "      <td>11618.10</td>\n",
       "      <td>11618.10</td>\n",
       "      <td>NaN</td>\n",
       "      <td>Purchase of Watchguard firewall for internet s...</td>\n",
       "      <td>Achat du pare-feu Watchguard utilisé pour la s...</td>\n",
       "      <td>NaN</td>\n",
       "      <td>NaN</td>\n",
       "      <td>NaN</td>\n",
       "      <td>NaN</td>\n",
       "      <td>NaN</td>\n",
       "      <td>G</td>\n",
       "      <td>N7030</td>\n",
       "      <td>CA</td>\n",
       "      <td>TC</td>\n",
       "      <td>NaN</td>\n",
       "      <td>0.0</td>\n",
       "      <td>NaN</td>\n",
       "      <td>Y</td>\n",
       "      <td>B</td>\n",
       "      <td>N</td>\n",
       "      <td>N</td>\n",
       "      <td>1</td>\n",
       "      <td>EN578-100808/142/EE</td>\n",
       "      <td>C</td>\n",
       "      <td>NaN</td>\n",
       "      <td>NaN</td>\n",
       "      <td>NaN</td>\n",
       "      <td>NaN</td>\n",
       "      <td>NaN</td>\n",
       "      <td>2015-2016-Q4</td>\n",
       "      <td>NaN</td>\n",
       "      <td>NaN</td>\n",
       "      <td>*</td>\n",
       "      <td>NaN</td>\n",
       "      <td>2016</td>\n",
       "      <td>2</td>\n",
       "      <td>both</td>\n",
       "    </tr>\n",
       "    <tr>\n",
       "      <th>1</th>\n",
       "      <td>2020</td>\n",
       "      <td>4</td>\n",
       "      <td>chrc-ccdp</td>\n",
       "      <td>Canadian Human Rights Commission | Commission ...</td>\n",
       "      <td>P1300405-4</td>\n",
       "      <td>P1300405-4</td>\n",
       "      <td>Alcea Technologies Inc.</td>\n",
       "      <td>NaN</td>\n",
       "      <td>NaN</td>\n",
       "      <td>2013-01-30</td>\n",
       "      <td>NaN</td>\n",
       "      <td>0664 Repair &amp; Maintenance of Communications/Ne...</td>\n",
       "      <td>0664 Réparation et entretien d'équipement de c...</td>\n",
       "      <td>2013-04-01</td>\n",
       "      <td>2017-03-31</td>\n",
       "      <td>423428.96</td>\n",
       "      <td>321731.20</td>\n",
       "      <td>101697.76</td>\n",
       "      <td>Provision of services to support and maintain ...</td>\n",
       "      <td>Prestation de services de soutien et d’entreti...</td>\n",
       "      <td>NaN</td>\n",
       "      <td>NaN</td>\n",
       "      <td>Y</td>\n",
       "      <td>NaN</td>\n",
       "      <td>NaN</td>\n",
       "      <td>S</td>\n",
       "      <td>D302A</td>\n",
       "      <td>CA</td>\n",
       "      <td>TC</td>\n",
       "      <td>NaN</td>\n",
       "      <td>0.0</td>\n",
       "      <td>NaN</td>\n",
       "      <td>N</td>\n",
       "      <td>A5</td>\n",
       "      <td>N</td>\n",
       "      <td>N</td>\n",
       "      <td>1</td>\n",
       "      <td>EN578-055605/417/EI</td>\n",
       "      <td>A</td>\n",
       "      <td>NaN</td>\n",
       "      <td>NaN</td>\n",
       "      <td>NaN</td>\n",
       "      <td>NaN</td>\n",
       "      <td>NaN</td>\n",
       "      <td>2015-2016-Q4</td>\n",
       "      <td>NaN</td>\n",
       "      <td>NaN</td>\n",
       "      <td>*</td>\n",
       "      <td>NaN</td>\n",
       "      <td>2013</td>\n",
       "      <td>1</td>\n",
       "      <td>both</td>\n",
       "    </tr>\n",
       "    <tr>\n",
       "      <th>2</th>\n",
       "      <td>2020</td>\n",
       "      <td>4</td>\n",
       "      <td>chrc-ccdp</td>\n",
       "      <td>Canadian Human Rights Commission | Commission ...</td>\n",
       "      <td>P1600425</td>\n",
       "      <td>P1600425</td>\n",
       "      <td>Alphinat Inc.</td>\n",
       "      <td>NaN</td>\n",
       "      <td>NaN</td>\n",
       "      <td>2016-02-10</td>\n",
       "      <td>NaN</td>\n",
       "      <td>0473 Information Technology and Telecommunicat...</td>\n",
       "      <td>0473 Experts-conseil en technologie de l'infor...</td>\n",
       "      <td>2016-02-10</td>\n",
       "      <td>2016-03-31</td>\n",
       "      <td>16904.80</td>\n",
       "      <td>16904.80</td>\n",
       "      <td>NaN</td>\n",
       "      <td>Provision of programming services in support o...</td>\n",
       "      <td>Prestation de services de programmation en app...</td>\n",
       "      <td>NaN</td>\n",
       "      <td>NaN</td>\n",
       "      <td>NaN</td>\n",
       "      <td>NaN</td>\n",
       "      <td>NaN</td>\n",
       "      <td>S</td>\n",
       "      <td>D302A</td>\n",
       "      <td>CA</td>\n",
       "      <td>TN</td>\n",
       "      <td>NaN</td>\n",
       "      <td>0.0</td>\n",
       "      <td>NaN</td>\n",
       "      <td>N</td>\n",
       "      <td>A5</td>\n",
       "      <td>N</td>\n",
       "      <td>N</td>\n",
       "      <td>0</td>\n",
       "      <td>NaN</td>\n",
       "      <td>C</td>\n",
       "      <td>NaN</td>\n",
       "      <td>NaN</td>\n",
       "      <td>NaN</td>\n",
       "      <td>NaN</td>\n",
       "      <td>NaN</td>\n",
       "      <td>2015-2016-Q4</td>\n",
       "      <td>NaN</td>\n",
       "      <td>NaN</td>\n",
       "      <td>*</td>\n",
       "      <td>NaN</td>\n",
       "      <td>2016</td>\n",
       "      <td>2</td>\n",
       "      <td>both</td>\n",
       "    </tr>\n",
       "    <tr>\n",
       "      <th>3</th>\n",
       "      <td>2020</td>\n",
       "      <td>4</td>\n",
       "      <td>chrc-ccdp</td>\n",
       "      <td>Canadian Human Rights Commission | Commission ...</td>\n",
       "      <td>P1700005</td>\n",
       "      <td>P1700005</td>\n",
       "      <td>Anthony Macauley &amp; Associates Inc.</td>\n",
       "      <td>NaN</td>\n",
       "      <td>NaN</td>\n",
       "      <td>2016-03-31</td>\n",
       "      <td>NaN</td>\n",
       "      <td>0583 License/Maintenance fees for Application ...</td>\n",
       "      <td>0583 Frais de licence/maintenance de logiciels...</td>\n",
       "      <td>2016-04-01</td>\n",
       "      <td>2017-03-31</td>\n",
       "      <td>24679.20</td>\n",
       "      <td>24679.20</td>\n",
       "      <td>NaN</td>\n",
       "      <td>Renewal of annual software license and mainten...</td>\n",
       "      <td>Renouvellement annuel d’une licence de logicie...</td>\n",
       "      <td>NaN</td>\n",
       "      <td>NaN</td>\n",
       "      <td>NaN</td>\n",
       "      <td>NaN</td>\n",
       "      <td>NaN</td>\n",
       "      <td>G</td>\n",
       "      <td>N7030</td>\n",
       "      <td>CA</td>\n",
       "      <td>TN</td>\n",
       "      <td>NaN</td>\n",
       "      <td>0.0</td>\n",
       "      <td>NaN</td>\n",
       "      <td>N</td>\n",
       "      <td>B</td>\n",
       "      <td>N</td>\n",
       "      <td>N</td>\n",
       "      <td>1</td>\n",
       "      <td>EN578-100808/055/EE</td>\n",
       "      <td>C</td>\n",
       "      <td>NaN</td>\n",
       "      <td>NaN</td>\n",
       "      <td>NaN</td>\n",
       "      <td>NaN</td>\n",
       "      <td>NaN</td>\n",
       "      <td>2015-2016-Q4</td>\n",
       "      <td>NaN</td>\n",
       "      <td>NaN</td>\n",
       "      <td>*</td>\n",
       "      <td>NaN</td>\n",
       "      <td>2016</td>\n",
       "      <td>3</td>\n",
       "      <td>both</td>\n",
       "    </tr>\n",
       "    <tr>\n",
       "      <th>4</th>\n",
       "      <td>2020</td>\n",
       "      <td>4</td>\n",
       "      <td>chrc-ccdp</td>\n",
       "      <td>Canadian Human Rights Commission | Commission ...</td>\n",
       "      <td>P1600403</td>\n",
       "      <td>P1600403</td>\n",
       "      <td>Asokan Business Interiors Inc.</td>\n",
       "      <td>NaN</td>\n",
       "      <td>NaN</td>\n",
       "      <td>2016-01-25</td>\n",
       "      <td>NaN</td>\n",
       "      <td>1231 Office furniture and furnishings, incl. P...</td>\n",
       "      <td>1231 Mobilier et ameublement du bureau incluan...</td>\n",
       "      <td>2016-01-25</td>\n",
       "      <td>2016-01-25</td>\n",
       "      <td>12045.80</td>\n",
       "      <td>12045.80</td>\n",
       "      <td>NaN</td>\n",
       "      <td>Purchase of office chairs.</td>\n",
       "      <td>Achat de chaises de bureau.</td>\n",
       "      <td>NaN</td>\n",
       "      <td>NaN</td>\n",
       "      <td>NaN</td>\n",
       "      <td>NaN</td>\n",
       "      <td>NaN</td>\n",
       "      <td>G</td>\n",
       "      <td>N7110C</td>\n",
       "      <td>CA</td>\n",
       "      <td>TC</td>\n",
       "      <td>NaN</td>\n",
       "      <td>0.0</td>\n",
       "      <td>NaN</td>\n",
       "      <td>Y</td>\n",
       "      <td>C</td>\n",
       "      <td>N</td>\n",
       "      <td>N</td>\n",
       "      <td>1</td>\n",
       "      <td>E60PQ-120001/027/PQ</td>\n",
       "      <td>C</td>\n",
       "      <td>NaN</td>\n",
       "      <td>NaN</td>\n",
       "      <td>NaN</td>\n",
       "      <td>NaN</td>\n",
       "      <td>NaN</td>\n",
       "      <td>2015-2016-Q4</td>\n",
       "      <td>NaN</td>\n",
       "      <td>NaN</td>\n",
       "      <td>*</td>\n",
       "      <td>NaN</td>\n",
       "      <td>2016</td>\n",
       "      <td>1</td>\n",
       "      <td>both</td>\n",
       "    </tr>\n",
       "    <tr>\n",
       "      <th>...</th>\n",
       "      <td>...</td>\n",
       "      <td>...</td>\n",
       "      <td>...</td>\n",
       "      <td>...</td>\n",
       "      <td>...</td>\n",
       "      <td>...</td>\n",
       "      <td>...</td>\n",
       "      <td>...</td>\n",
       "      <td>...</td>\n",
       "      <td>...</td>\n",
       "      <td>...</td>\n",
       "      <td>...</td>\n",
       "      <td>...</td>\n",
       "      <td>...</td>\n",
       "      <td>...</td>\n",
       "      <td>...</td>\n",
       "      <td>...</td>\n",
       "      <td>...</td>\n",
       "      <td>...</td>\n",
       "      <td>...</td>\n",
       "      <td>...</td>\n",
       "      <td>...</td>\n",
       "      <td>...</td>\n",
       "      <td>...</td>\n",
       "      <td>...</td>\n",
       "      <td>...</td>\n",
       "      <td>...</td>\n",
       "      <td>...</td>\n",
       "      <td>...</td>\n",
       "      <td>...</td>\n",
       "      <td>...</td>\n",
       "      <td>...</td>\n",
       "      <td>...</td>\n",
       "      <td>...</td>\n",
       "      <td>...</td>\n",
       "      <td>...</td>\n",
       "      <td>...</td>\n",
       "      <td>...</td>\n",
       "      <td>...</td>\n",
       "      <td>...</td>\n",
       "      <td>...</td>\n",
       "      <td>...</td>\n",
       "      <td>...</td>\n",
       "      <td>...</td>\n",
       "      <td>...</td>\n",
       "      <td>...</td>\n",
       "      <td>...</td>\n",
       "      <td>...</td>\n",
       "      <td>...</td>\n",
       "      <td>...</td>\n",
       "      <td>...</td>\n",
       "      <td>...</td>\n",
       "    </tr>\n",
       "    <tr>\n",
       "      <th>3929</th>\n",
       "      <td>2023</td>\n",
       "      <td>11</td>\n",
       "      <td>sshrc-crsh</td>\n",
       "      <td>Social Sciences and Humanities Research Counci...</td>\n",
       "      <td>C-2018-2019-Q4-00002</td>\n",
       "      <td>S13-14178</td>\n",
       "      <td>MEDIAMISER LTD.</td>\n",
       "      <td>NaN</td>\n",
       "      <td>NaN</td>\n",
       "      <td>2014-03-11</td>\n",
       "      <td>352</td>\n",
       "      <td>Public relations services</td>\n",
       "      <td>Services de relations publiques</td>\n",
       "      <td>2014-04-01</td>\n",
       "      <td>2019-03-31</td>\n",
       "      <td>269521.96</td>\n",
       "      <td>40612.20</td>\n",
       "      <td>56500.00</td>\n",
       "      <td>This contract was competitively sourced /with ...</td>\n",
       "      <td>Le présent marché a été adjugé dans le cadre d...</td>\n",
       "      <td>Media monitoring services April 1, 2014 - Marc...</td>\n",
       "      <td>Services de surveillance des médias – 1er avri...</td>\n",
       "      <td>0</td>\n",
       "      <td>NaN</td>\n",
       "      <td>NaN</td>\n",
       "      <td>S</td>\n",
       "      <td>T004K\\r\\n\\r\\nT004K</td>\n",
       "      <td>CA</td>\n",
       "      <td>TC</td>\n",
       "      <td>0.0</td>\n",
       "      <td>0.0</td>\n",
       "      <td>NaN</td>\n",
       "      <td>N</td>\n",
       "      <td>C</td>\n",
       "      <td>N</td>\n",
       "      <td>N</td>\n",
       "      <td>NaN</td>\n",
       "      <td>NaN</td>\n",
       "      <td>A</td>\n",
       "      <td>NaN</td>\n",
       "      <td>NaN</td>\n",
       "      <td>NaN</td>\n",
       "      <td>NaN</td>\n",
       "      <td>NaN</td>\n",
       "      <td>2018-2019-Q4</td>\n",
       "      <td>NaN</td>\n",
       "      <td>NaN</td>\n",
       "      <td>*</td>\n",
       "      <td>NaN</td>\n",
       "      <td>2014</td>\n",
       "      <td>3</td>\n",
       "      <td>both</td>\n",
       "    </tr>\n",
       "    <tr>\n",
       "      <th>3930</th>\n",
       "      <td>2023</td>\n",
       "      <td>12</td>\n",
       "      <td>sshrc-crsh</td>\n",
       "      <td>Social Sciences and Humanities Research Counci...</td>\n",
       "      <td>C-2018-2019-Q4-00002</td>\n",
       "      <td>S13-14178</td>\n",
       "      <td>MEDIAMISER LTD.</td>\n",
       "      <td>NaN</td>\n",
       "      <td>NaN</td>\n",
       "      <td>2014-03-11</td>\n",
       "      <td>352</td>\n",
       "      <td>Public relations services</td>\n",
       "      <td>Services de relations publiques</td>\n",
       "      <td>2014-04-01</td>\n",
       "      <td>2019-03-31</td>\n",
       "      <td>269521.96</td>\n",
       "      <td>40612.20</td>\n",
       "      <td>56500.00</td>\n",
       "      <td>This contract was competitively sourced /with ...</td>\n",
       "      <td>Le présent marché a été adjugé dans le cadre d...</td>\n",
       "      <td>Media monitoring services April 1, 2014 - Marc...</td>\n",
       "      <td>Services de surveillance des médias – 1er avri...</td>\n",
       "      <td>0</td>\n",
       "      <td>NaN</td>\n",
       "      <td>NaN</td>\n",
       "      <td>S</td>\n",
       "      <td>T004K\\r\\n\\r\\nT004K</td>\n",
       "      <td>CA</td>\n",
       "      <td>TC</td>\n",
       "      <td>0.0</td>\n",
       "      <td>0.0</td>\n",
       "      <td>NaN</td>\n",
       "      <td>N</td>\n",
       "      <td>C</td>\n",
       "      <td>N</td>\n",
       "      <td>N</td>\n",
       "      <td>NaN</td>\n",
       "      <td>NaN</td>\n",
       "      <td>A</td>\n",
       "      <td>NaN</td>\n",
       "      <td>NaN</td>\n",
       "      <td>NaN</td>\n",
       "      <td>NaN</td>\n",
       "      <td>NaN</td>\n",
       "      <td>2018-2019-Q4</td>\n",
       "      <td>NaN</td>\n",
       "      <td>NaN</td>\n",
       "      <td>*</td>\n",
       "      <td>NaN</td>\n",
       "      <td>2014</td>\n",
       "      <td>3</td>\n",
       "      <td>both</td>\n",
       "    </tr>\n",
       "    <tr>\n",
       "      <th>3931</th>\n",
       "      <td>2024</td>\n",
       "      <td>3</td>\n",
       "      <td>sshrc-crsh</td>\n",
       "      <td>Social Sciences and Humanities Research Counci...</td>\n",
       "      <td>C-2018-2019-Q4-00002</td>\n",
       "      <td>S13-14178</td>\n",
       "      <td>MEDIAMISER LTD.</td>\n",
       "      <td>NaN</td>\n",
       "      <td>NaN</td>\n",
       "      <td>2014-03-11</td>\n",
       "      <td>352</td>\n",
       "      <td>Public relations services</td>\n",
       "      <td>Services de relations publiques</td>\n",
       "      <td>2014-04-01</td>\n",
       "      <td>2019-03-31</td>\n",
       "      <td>269521.96</td>\n",
       "      <td>40612.20</td>\n",
       "      <td>56500.00</td>\n",
       "      <td>This contract was competitively sourced /with ...</td>\n",
       "      <td>Le présent marché a été adjugé dans le cadre d...</td>\n",
       "      <td>Media monitoring services April 1, 2014 - Marc...</td>\n",
       "      <td>Services de surveillance des médias – 1er avri...</td>\n",
       "      <td>0</td>\n",
       "      <td>NaN</td>\n",
       "      <td>NaN</td>\n",
       "      <td>S</td>\n",
       "      <td>T004K\\r\\n\\r\\nT004K</td>\n",
       "      <td>CA</td>\n",
       "      <td>TC</td>\n",
       "      <td>0.0</td>\n",
       "      <td>0.0</td>\n",
       "      <td>NaN</td>\n",
       "      <td>N</td>\n",
       "      <td>C</td>\n",
       "      <td>N</td>\n",
       "      <td>N</td>\n",
       "      <td>NaN</td>\n",
       "      <td>NaN</td>\n",
       "      <td>A</td>\n",
       "      <td>NaN</td>\n",
       "      <td>NaN</td>\n",
       "      <td>NaN</td>\n",
       "      <td>NaN</td>\n",
       "      <td>NaN</td>\n",
       "      <td>2018-2019-Q4</td>\n",
       "      <td>NaN</td>\n",
       "      <td>NaN</td>\n",
       "      <td>*</td>\n",
       "      <td>NaN</td>\n",
       "      <td>2014</td>\n",
       "      <td>3</td>\n",
       "      <td>both</td>\n",
       "    </tr>\n",
       "    <tr>\n",
       "      <th>3932</th>\n",
       "      <td>2024</td>\n",
       "      <td>6</td>\n",
       "      <td>sshrc-crsh</td>\n",
       "      <td>Social Sciences and Humanities Research Counci...</td>\n",
       "      <td>C-2018-2019-Q4-00002</td>\n",
       "      <td>S13-14178</td>\n",
       "      <td>MEDIAMISER LTD.</td>\n",
       "      <td>NaN</td>\n",
       "      <td>NaN</td>\n",
       "      <td>2014-03-11</td>\n",
       "      <td>352</td>\n",
       "      <td>Public relations services</td>\n",
       "      <td>Services de relations publiques</td>\n",
       "      <td>2014-04-01</td>\n",
       "      <td>2019-03-31</td>\n",
       "      <td>269521.96</td>\n",
       "      <td>40612.20</td>\n",
       "      <td>56500.00</td>\n",
       "      <td>This contract was competitively sourced /with ...</td>\n",
       "      <td>Le présent marché a été adjugé dans le cadre d...</td>\n",
       "      <td>Media monitoring services April 1, 2014 - Marc...</td>\n",
       "      <td>Services de surveillance des médias – 1er avri...</td>\n",
       "      <td>0</td>\n",
       "      <td>NaN</td>\n",
       "      <td>NaN</td>\n",
       "      <td>S</td>\n",
       "      <td>T004K\\r\\n\\r\\nT004K</td>\n",
       "      <td>CA</td>\n",
       "      <td>TC</td>\n",
       "      <td>0.0</td>\n",
       "      <td>0.0</td>\n",
       "      <td>NaN</td>\n",
       "      <td>N</td>\n",
       "      <td>C</td>\n",
       "      <td>N</td>\n",
       "      <td>N</td>\n",
       "      <td>NaN</td>\n",
       "      <td>NaN</td>\n",
       "      <td>A</td>\n",
       "      <td>NaN</td>\n",
       "      <td>NaN</td>\n",
       "      <td>NaN</td>\n",
       "      <td>NaN</td>\n",
       "      <td>NaN</td>\n",
       "      <td>2018-2019-Q4</td>\n",
       "      <td>NaN</td>\n",
       "      <td>NaN</td>\n",
       "      <td>*</td>\n",
       "      <td>NaN</td>\n",
       "      <td>2014</td>\n",
       "      <td>3</td>\n",
       "      <td>both</td>\n",
       "    </tr>\n",
       "    <tr>\n",
       "      <th>3933</th>\n",
       "      <td>2020</td>\n",
       "      <td>4</td>\n",
       "      <td>statcan</td>\n",
       "      <td>Statistics Canada | Statistique Canada</td>\n",
       "      <td>C-2019-2020-Q3-00011</td>\n",
       "      <td>11308</td>\n",
       "      <td>ENVELOPPE CONCEPT INC - Lasalle, Que</td>\n",
       "      <td>NaN</td>\n",
       "      <td>NaN</td>\n",
       "      <td>2019-10-17</td>\n",
       "      <td>321</td>\n",
       "      <td>PRINTING SERVICES</td>\n",
       "      <td>SERVICES D'IMPRIMERIE</td>\n",
       "      <td>2019-10-11</td>\n",
       "      <td>2019-11-29</td>\n",
       "      <td>14692.26</td>\n",
       "      <td>14692.26</td>\n",
       "      <td>0.00</td>\n",
       "      <td>Printing</td>\n",
       "      <td>Impression</td>\n",
       "      <td>NaN</td>\n",
       "      <td>NaN</td>\n",
       "      <td>0</td>\n",
       "      <td>NaN</td>\n",
       "      <td>NaN</td>\n",
       "      <td>S</td>\n",
       "      <td>821215000</td>\n",
       "      <td>CA</td>\n",
       "      <td>TC</td>\n",
       "      <td>0.0</td>\n",
       "      <td>0.0</td>\n",
       "      <td>NaN</td>\n",
       "      <td>N</td>\n",
       "      <td>C</td>\n",
       "      <td>N</td>\n",
       "      <td>N</td>\n",
       "      <td>NaN</td>\n",
       "      <td>NaN</td>\n",
       "      <td>C</td>\n",
       "      <td>N</td>\n",
       "      <td>NaN</td>\n",
       "      <td>NaN</td>\n",
       "      <td>NaN</td>\n",
       "      <td>NaN</td>\n",
       "      <td>2019-2020-Q3</td>\n",
       "      <td>NaN</td>\n",
       "      <td>NaN</td>\n",
       "      <td>*</td>\n",
       "      <td>NaN</td>\n",
       "      <td>2019</td>\n",
       "      <td>10</td>\n",
       "      <td>both</td>\n",
       "    </tr>\n",
       "  </tbody>\n",
       "</table>\n",
       "<p>3934 rows × 52 columns</p>\n",
       "</div>"
      ],
      "text/plain": [
       "      year_x  month_x   owner_org  \\\n",
       "0       2020        4   chrc-ccdp   \n",
       "1       2020        4   chrc-ccdp   \n",
       "2       2020        4   chrc-ccdp   \n",
       "3       2020        4   chrc-ccdp   \n",
       "4       2020        4   chrc-ccdp   \n",
       "...      ...      ...         ...   \n",
       "3929    2023       11  sshrc-crsh   \n",
       "3930    2023       12  sshrc-crsh   \n",
       "3931    2024        3  sshrc-crsh   \n",
       "3932    2024        6  sshrc-crsh   \n",
       "3933    2020        4     statcan   \n",
       "\n",
       "                                      owner_org_title_x      reference_number  \\\n",
       "0     Canadian Human Rights Commission | Commission ...              P1600422   \n",
       "1     Canadian Human Rights Commission | Commission ...            P1300405-4   \n",
       "2     Canadian Human Rights Commission | Commission ...              P1600425   \n",
       "3     Canadian Human Rights Commission | Commission ...              P1700005   \n",
       "4     Canadian Human Rights Commission | Commission ...              P1600403   \n",
       "...                                                 ...                   ...   \n",
       "3929  Social Sciences and Humanities Research Counci...  C-2018-2019-Q4-00002   \n",
       "3930  Social Sciences and Humanities Research Counci...  C-2018-2019-Q4-00002   \n",
       "3931  Social Sciences and Humanities Research Counci...  C-2018-2019-Q4-00002   \n",
       "3932  Social Sciences and Humanities Research Counci...  C-2018-2019-Q4-00002   \n",
       "3933             Statistics Canada | Statistique Canada  C-2019-2020-Q3-00011   \n",
       "\n",
       "                 procurement_id                           vendor_name  \\\n",
       "0                      P1600422   Advanced Chippewa Technologies Inc.   \n",
       "1                    P1300405-4               Alcea Technologies Inc.   \n",
       "2                      P1600425                         Alphinat Inc.   \n",
       "3                      P1700005    Anthony Macauley & Associates Inc.   \n",
       "4                      P1600403        Asokan Business Interiors Inc.   \n",
       "...                         ...                                   ...   \n",
       "3929  S13-14178                        MEDIAMISER LTD.                  \n",
       "3930  S13-14178                        MEDIAMISER LTD.                  \n",
       "3931  S13-14178                        MEDIAMISER LTD.                  \n",
       "3932  S13-14178                        MEDIAMISER LTD.                  \n",
       "3933                      11308  ENVELOPPE CONCEPT INC - Lasalle, Que   \n",
       "\n",
       "      vendor_postal_code  buyer_name contract_date economic_object_code  \\\n",
       "0                    NaN         NaN    2016-02-09                  NaN   \n",
       "1                    NaN         NaN    2013-01-30                  NaN   \n",
       "2                    NaN         NaN    2016-02-10                  NaN   \n",
       "3                    NaN         NaN    2016-03-31                  NaN   \n",
       "4                    NaN         NaN    2016-01-25                  NaN   \n",
       "...                  ...         ...           ...                  ...   \n",
       "3929                 NaN         NaN    2014-03-11                  352   \n",
       "3930                 NaN         NaN    2014-03-11                  352   \n",
       "3931                 NaN         NaN    2014-03-11                  352   \n",
       "3932                 NaN         NaN    2014-03-11                  352   \n",
       "3933                 NaN         NaN    2019-10-17                  321   \n",
       "\n",
       "                                         description_en  \\\n",
       "0     0584 License/Maintenance fees for Server Opera...   \n",
       "1     0664 Repair & Maintenance of Communications/Ne...   \n",
       "2     0473 Information Technology and Telecommunicat...   \n",
       "3     0583 License/Maintenance fees for Application ...   \n",
       "4     1231 Office furniture and furnishings, incl. P...   \n",
       "...                                                 ...   \n",
       "3929                          Public relations services   \n",
       "3930                          Public relations services   \n",
       "3931                          Public relations services   \n",
       "3932                          Public relations services   \n",
       "3933                                  PRINTING SERVICES   \n",
       "\n",
       "                                         description_fr contract_period_start  \\\n",
       "0     584-Frais de licence/maintenance du système d'...            2016-03-23   \n",
       "1     0664 Réparation et entretien d'équipement de c...            2013-04-01   \n",
       "2     0473 Experts-conseil en technologie de l'infor...            2016-02-10   \n",
       "3     0583 Frais de licence/maintenance de logiciels...            2016-04-01   \n",
       "4     1231 Mobilier et ameublement du bureau incluan...            2016-01-25   \n",
       "...                                                 ...                   ...   \n",
       "3929                   Services de relations publiques             2014-04-01   \n",
       "3930                   Services de relations publiques             2014-04-01   \n",
       "3931                   Services de relations publiques             2014-04-01   \n",
       "3932                   Services de relations publiques             2014-04-01   \n",
       "3933                              SERVICES D'IMPRIMERIE            2019-10-11   \n",
       "\n",
       "     delivery_date  contract_value  original_value  amendment_value  \\\n",
       "0       2017-03-22        11618.10        11618.10              NaN   \n",
       "1       2017-03-31       423428.96       321731.20        101697.76   \n",
       "2       2016-03-31        16904.80        16904.80              NaN   \n",
       "3       2017-03-31        24679.20        24679.20              NaN   \n",
       "4       2016-01-25        12045.80        12045.80              NaN   \n",
       "...            ...             ...             ...              ...   \n",
       "3929    2019-03-31       269521.96        40612.20         56500.00   \n",
       "3930    2019-03-31       269521.96        40612.20         56500.00   \n",
       "3931    2019-03-31       269521.96        40612.20         56500.00   \n",
       "3932    2019-03-31       269521.96        40612.20         56500.00   \n",
       "3933    2019-11-29        14692.26        14692.26             0.00   \n",
       "\n",
       "                                            comments_en  \\\n",
       "0     Purchase of Watchguard firewall for internet s...   \n",
       "1     Provision of services to support and maintain ...   \n",
       "2     Provision of programming services in support o...   \n",
       "3     Renewal of annual software license and mainten...   \n",
       "4                            Purchase of office chairs.   \n",
       "...                                                 ...   \n",
       "3929  This contract was competitively sourced /with ...   \n",
       "3930  This contract was competitively sourced /with ...   \n",
       "3931  This contract was competitively sourced /with ...   \n",
       "3932  This contract was competitively sourced /with ...   \n",
       "3933                                           Printing   \n",
       "\n",
       "                                            comments_fr  \\\n",
       "0     Achat du pare-feu Watchguard utilisé pour la s...   \n",
       "1     Prestation de services de soutien et d’entreti...   \n",
       "2     Prestation de services de programmation en app...   \n",
       "3     Renouvellement annuel d’une licence de logicie...   \n",
       "4                           Achat de chaises de bureau.   \n",
       "...                                                 ...   \n",
       "3929  Le présent marché a été adjugé dans le cadre d...   \n",
       "3930  Le présent marché a été adjugé dans le cadre d...   \n",
       "3931  Le présent marché a été adjugé dans le cadre d...   \n",
       "3932  Le présent marché a été adjugé dans le cadre d...   \n",
       "3933                                         Impression   \n",
       "\n",
       "                                 additional_comments_en  \\\n",
       "0                                                   NaN   \n",
       "1                                                   NaN   \n",
       "2                                                   NaN   \n",
       "3                                                   NaN   \n",
       "4                                                   NaN   \n",
       "...                                                 ...   \n",
       "3929  Media monitoring services April 1, 2014 - Marc...   \n",
       "3930  Media monitoring services April 1, 2014 - Marc...   \n",
       "3931  Media monitoring services April 1, 2014 - Marc...   \n",
       "3932  Media monitoring services April 1, 2014 - Marc...   \n",
       "3933                                                NaN   \n",
       "\n",
       "                                 additional_comments_fr agreement_type_code  \\\n",
       "0                                                   NaN                 NaN   \n",
       "1                                                   NaN                   Y   \n",
       "2                                                   NaN                 NaN   \n",
       "3                                                   NaN                 NaN   \n",
       "4                                                   NaN                 NaN   \n",
       "...                                                 ...                 ...   \n",
       "3929  Services de surveillance des médias – 1er avri...                   0   \n",
       "3930  Services de surveillance des médias – 1er avri...                   0   \n",
       "3931  Services de surveillance des médias – 1er avri...                   0   \n",
       "3932  Services de surveillance des médias – 1er avri...                   0   \n",
       "3933                                                NaN                   0   \n",
       "\n",
       "      trade_agreement  land_claims commodity_type        commodity_code  \\\n",
       "0                 NaN          NaN              G                 N7030   \n",
       "1                 NaN          NaN              S                 D302A   \n",
       "2                 NaN          NaN              S                 D302A   \n",
       "3                 NaN          NaN              G                 N7030   \n",
       "4                 NaN          NaN              G                N7110C   \n",
       "...               ...          ...            ...                   ...   \n",
       "3929              NaN          NaN              S  T004K\\r\\n\\r\\nT004K     \n",
       "3930              NaN          NaN              S  T004K\\r\\n\\r\\nT004K     \n",
       "3931              NaN          NaN              S  T004K\\r\\n\\r\\nT004K     \n",
       "3932              NaN          NaN              S  T004K\\r\\n\\r\\nT004K     \n",
       "3933              NaN          NaN              S             821215000   \n",
       "\n",
       "     country_of_vendor solicitation_procedure  limited_tendering_reason  \\\n",
       "0                   CA                     TC                       NaN   \n",
       "1                   CA                     TC                       NaN   \n",
       "2                   CA                     TN                       NaN   \n",
       "3                   CA                     TN                       NaN   \n",
       "4                   CA                     TC                       NaN   \n",
       "...                ...                    ...                       ...   \n",
       "3929                CA                     TC                       0.0   \n",
       "3930                CA                     TC                       0.0   \n",
       "3931                CA                     TC                       0.0   \n",
       "3932                CA                     TC                       0.0   \n",
       "3933                CA                     TC                       0.0   \n",
       "\n",
       "      trade_agreement_exceptions  aboriginal_business  \\\n",
       "0                            0.0                  NaN   \n",
       "1                            0.0                  NaN   \n",
       "2                            0.0                  NaN   \n",
       "3                            0.0                  NaN   \n",
       "4                            0.0                  NaN   \n",
       "...                          ...                  ...   \n",
       "3929                         0.0                  NaN   \n",
       "3930                         0.0                  NaN   \n",
       "3931                         0.0                  NaN   \n",
       "3932                         0.0                  NaN   \n",
       "3933                         0.0                  NaN   \n",
       "\n",
       "     aboriginal_business_incidental intellectual_property  \\\n",
       "0                                 Y                     B   \n",
       "1                                 N                    A5   \n",
       "2                                 N                    A5   \n",
       "3                                 N                     B   \n",
       "4                                 Y                     C   \n",
       "...                             ...                   ...   \n",
       "3929                              N                     C   \n",
       "3930                              N                     C   \n",
       "3931                              N                     C   \n",
       "3932                              N                     C   \n",
       "3933                              N                     C   \n",
       "\n",
       "     potential_commercial_exploitation former_public_servant  \\\n",
       "0                                    N                     N   \n",
       "1                                    N                     N   \n",
       "2                                    N                     N   \n",
       "3                                    N                     N   \n",
       "4                                    N                     N   \n",
       "...                                ...                   ...   \n",
       "3929                                 N                     N   \n",
       "3930                                 N                     N   \n",
       "3931                                 N                     N   \n",
       "3932                                 N                     N   \n",
       "3933                                 N                     N   \n",
       "\n",
       "     contracting_entity standing_offer_number instrument_type  \\\n",
       "0                     1   EN578-100808/142/EE               C   \n",
       "1                     1   EN578-055605/417/EI               A   \n",
       "2                     0                   NaN               C   \n",
       "3                     1   EN578-100808/055/EE               C   \n",
       "4                     1   E60PQ-120001/027/PQ               C   \n",
       "...                 ...                   ...             ...   \n",
       "3929                NaN                   NaN               A   \n",
       "3930                NaN                   NaN               A   \n",
       "3931                NaN                   NaN               A   \n",
       "3932                NaN                   NaN               A   \n",
       "3933                NaN                   NaN               C   \n",
       "\n",
       "     ministers_office  number_of_bids  article_6_exceptions  award_criteria  \\\n",
       "0                 NaN             NaN                   NaN             NaN   \n",
       "1                 NaN             NaN                   NaN             NaN   \n",
       "2                 NaN             NaN                   NaN             NaN   \n",
       "3                 NaN             NaN                   NaN             NaN   \n",
       "4                 NaN             NaN                   NaN             NaN   \n",
       "...               ...             ...                   ...             ...   \n",
       "3929              NaN             NaN                   NaN             NaN   \n",
       "3930              NaN             NaN                   NaN             NaN   \n",
       "3931              NaN             NaN                   NaN             NaN   \n",
       "3932              NaN             NaN                   NaN             NaN   \n",
       "3933                N             NaN                   NaN             NaN   \n",
       "\n",
       "      socioeconomic_indicator reporting_period  record_created  \\\n",
       "0                         NaN     2015-2016-Q4             NaN   \n",
       "1                         NaN     2015-2016-Q4             NaN   \n",
       "2                         NaN     2015-2016-Q4             NaN   \n",
       "3                         NaN     2015-2016-Q4             NaN   \n",
       "4                         NaN     2015-2016-Q4             NaN   \n",
       "...                       ...              ...             ...   \n",
       "3929                      NaN     2018-2019-Q4             NaN   \n",
       "3930                      NaN     2018-2019-Q4             NaN   \n",
       "3931                      NaN     2018-2019-Q4             NaN   \n",
       "3932                      NaN     2018-2019-Q4             NaN   \n",
       "3933                      NaN     2019-2020-Q3             NaN   \n",
       "\n",
       "      record_modified user_modified  owner_org_title_y  year_y  month_y _merge  \n",
       "0                 NaN             *                NaN    2016        2   both  \n",
       "1                 NaN             *                NaN    2013        1   both  \n",
       "2                 NaN             *                NaN    2016        2   both  \n",
       "3                 NaN             *                NaN    2016        3   both  \n",
       "4                 NaN             *                NaN    2016        1   both  \n",
       "...               ...           ...                ...     ...      ...    ...  \n",
       "3929              NaN             *                NaN    2014        3   both  \n",
       "3930              NaN             *                NaN    2014        3   both  \n",
       "3931              NaN             *                NaN    2014        3   both  \n",
       "3932              NaN             *                NaN    2014        3   both  \n",
       "3933              NaN             *                NaN    2019       10   both  \n",
       "\n",
       "[3934 rows x 52 columns]"
      ]
     },
     "metadata": {},
     "output_type": "display_data"
    }
   ],
   "source": [
    "df = pd.read_csv('C:/Users/natal/OneDrive/Escritorio/Canadian Pr/datasets/combined_data_both_corrected.csv', \n",
    "                 dtype={'year_x': 'Int64', 'month_x': 'Int64','year_y':'Int64','month_y':'Int64'})\n",
    "pd.set_option('display.max_columns', None)\n",
    "display(df)"
   ]
  },
  {
   "cell_type": "markdown",
   "metadata": {},
   "source": [
    "General Data Description\n",
    "Statistical Summary: Obtain a statistical summary of both numerical and categorical columns to understand the overall distribution.\n",
    "Null Values Count: Check how many missing values are in each column to determine if you need to impute data or exclude certain columns from the analysis."
   ]
  },
  {
   "cell_type": "markdown",
   "metadata": {},
   "source": [
    "Records Analysis by Organization\n",
    "\n",
    "Record Count by 'owner_org': Understand which organizations have the most records."
   ]
  },
  {
   "cell_type": "code",
   "execution_count": 35,
   "metadata": {},
   "outputs": [
    {
     "name": "stdout",
     "output_type": "stream",
     "text": [
      "Military Grievances External Review Committee | Comité externe d’examen des griefs militaires                                                                    1128\n",
      "Crown-Indigenous Relations and Northern Affairs Canada | Relations Couronne-Autochtones et Affaires du Nord Canada                                                946\n",
      "National Film Board | Office national du film                                                                                                                     513\n",
      "Canadian Human Rights Commission | Commission canadienne des droits de la personne                                                                                360\n",
      "Parole Board of Canada | Commission des libérations conditionnelles du Canada                                                                                     330\n",
      "Elections Canada | Élections Canada                                                                                                                               212\n",
      "Natural Sciences and Engineering Research Council of Canada | Conseil de recherches en sciences naturelles et en génie du Canada                                   99\n",
      "Public Service Commission of Canada | Commission de la fonction publique du Canada                                                                                 99\n",
      "Federal Economic Development Agency for Southern Ontario | Agence fédérale de développement économique pour le Sud de l'Ontario                                    63\n",
      "Canadian Space Agency | Agence spatiale canadienne                                                                                                                 50\n",
      "Impact Assessment Agency of Canada | Agence d'évaluation d'impact du Canada                                                                                        30\n",
      "Office of the Public Sector Integrity Commissioner of Canada | Commissariat à l'intégrité du secteur public du Canada                                              28\n",
      "Canadian Northern Economic Development Agency | Agence canadienne de développement économique du Nord                                                              26\n",
      "Civilian Review and Complaints Commission for the RCMP | Commission civile d'examen et de traitement des plaintes relatives à la Gendarmerie royale du Canada      23\n",
      "Social Sciences and Humanities Research Council of Canada | Conseil de recherches en sciences humaines du Canada                                                   12\n",
      "Canadian Radio-television and Telecommunications Commission | Conseil de la radiodiffusion et des télécommunications canadiennes                                    8\n",
      "Office of the Superintendent of Financial Institutions Canada | Bureau du surintendant des institutions financières Canada                                          6\n",
      "Statistics Canada | Statistique Canada                                                                                                                              1\n",
      "Name: owner_org_title_x, dtype: int64\n"
     ]
    }
   ],
   "source": [
    "# Conteo de registros por 'owner_org'\n",
    "print(df['owner_org_title_x'].value_counts())"
   ]
  },
  {
   "cell_type": "markdown",
   "metadata": {},
   "source": [
    "3.Análisis de Solicitudes por Departamento"
   ]
  },
  {
   "cell_type": "markdown",
   "metadata": {},
   "source": [
    "Keyword Analysis in Comments\n",
    "Text Analysis: Look for patterns or keywords in the comment or description columns."
   ]
  },
  {
   "cell_type": "code",
   "execution_count": 37,
   "metadata": {},
   "outputs": [
    {
     "data": {
      "image/png": "[encoded data removed]",
      "text/plain": [
       "<Figure size 640x480 with 1 Axes>"
      ]
     },
     "metadata": {},
     "output_type": "display_data"
    }
   ],
   "source": [
    "from wordcloud import WordCloud\n",
    "\n",
    "# Generación de nube de palabras para comentarios en inglés\n",
    "text = ' '.join(df['comments_en'].dropna())\n",
    "wordcloud = WordCloud(width=1500, height=1000, background_color='white').generate(text)\n",
    "plt.imshow(wordcloud, interpolation='bilinear')\n",
    "plt.axis('off')\n",
    "plt.show()"
   ]
  },
  {
   "cell_type": "code",
   "execution_count": 38,
   "metadata": {},
   "outputs": [],
   "source": [
    "import pandas as pd\n",
    "import matplotlib.pyplot as plt\n",
    "import seaborn as sns"
   ]
  },
  {
   "cell_type": "code",
   "execution_count": 42,
   "metadata": {},
   "outputs": [
    {
     "name": "stdout",
     "output_type": "stream",
     "text": [
      "Inspección inicial de la columna 'year_peticiones':\n",
      "0     2020\n",
      "1     2020\n",
      "2     2020\n",
      "3     2020\n",
      "4     2020\n",
      "5     2020\n",
      "6     2020\n",
      "7     2020\n",
      "8     2020\n",
      "9     2020\n",
      "10    2020\n",
      "11    2020\n",
      "12    2020\n",
      "13    2020\n",
      "14    2020\n",
      "15    2020\n",
      "16    2020\n",
      "17    2020\n",
      "18    2020\n",
      "19    2020\n",
      "Name: year_x, dtype: int64\n",
      "Inspección inicial de la columna 'year_contratos':\n",
      "0     2016\n",
      "1     2013\n",
      "2     2016\n",
      "3     2016\n",
      "4     2016\n",
      "5     2016\n",
      "6     2016\n",
      "7     2016\n",
      "8     2016\n",
      "9     2016\n",
      "10    2016\n",
      "11    2016\n",
      "12    2016\n",
      "13    2016\n",
      "14    2016\n",
      "15    2015\n",
      "16    2016\n",
      "17    2016\n",
      "18    2016\n",
      "19    2016\n",
      "Name: year_y, dtype: int64\n",
      "\n",
      "Valores únicos en 'year_peticiones': [2020 2021 2022 2023 2024]\n",
      "\n",
      "Valores únicos en 'year_contratos': [2016 2013 2015 2019 2017 2018 2008 2014]\n",
      "\n",
      "Valores únicos en 'year_peticiones' después de la limpieza: [2020 2021 2022 2023 2024]\n",
      "\n",
      "Valores únicos en 'year_contratos' después de la limpieza: [2016 2013 2015 2019 2017 2018 2008 2014]\n",
      "\n",
      "Cantidad de valores nulos en 'year_peticiones' después de la limpieza: 0\n",
      "\n",
      "Cantidad de valores nulos en 'year_contratos' después de la limpieza: 0\n",
      "Top 100 Contratos con Mayor Valor:\n",
      "        owner_org                              vendor_name  contract_value  \\\n",
      "395       csa-asc  MACDONALD DETTWILER AND ASSOCIATES INC.      3413376.65   \n",
      "400       csa-asc  MACDONALD DETTWILER AND ASSOCIATES INC.      3413376.65   \n",
      "405       csa-asc  MACDONALD DETTWILER AND ASSOCIATES INC.      3413376.65   \n",
      "410       csa-asc  MACDONALD DETTWILER AND ASSOCIATES INC.      3413376.65   \n",
      "415       csa-asc  MACDONALD DETTWILER AND ASSOCIATES INC.      3413376.65   \n",
      "...           ...                                      ...             ...   \n",
      "1398  aandc-aadnc            RAYMOND CHABOT GRANT THORNTON       617415.75   \n",
      "1429    elections                                   MAXSYS       610467.12   \n",
      "1482    elections                                   MAXSYS       610467.12   \n",
      "1535    elections                                   MAXSYS       610467.12   \n",
      "1588    elections                                   MAXSYS       610467.12   \n",
      "\n",
      "      year_y  month_y  \n",
      "395     2017      8.0  \n",
      "400     2017      8.0  \n",
      "405     2017      8.0  \n",
      "410     2017      8.0  \n",
      "415     2017      8.0  \n",
      "...      ...      ...  \n",
      "1398    2016     12.0  \n",
      "1429    2017      3.0  \n",
      "1482    2017      3.0  \n",
      "1535    2017      3.0  \n",
      "1588    2017      3.0  \n",
      "\n",
      "[100 rows x 5 columns]\n"
     ]
    }
   ],
   "source": [
    "import pandas as pd\n",
    "\n",
    "# Inspección inicial de la columna 'year'\n",
    "print(\"Inspección inicial de la columna 'year_peticiones':\")\n",
    "print(df['year_x'].head(20))  # Muestra las primeras 20 filas de la columna 'year'\n",
    "print(\"Inspección inicial de la columna 'year_contratos':\")\n",
    "print(df['year_y'].head(20))  # Muestra las primeras 20 filas de la columna 'year'\n",
    "\n",
    "# Revisar valores únicos para identificar posibles problemas\n",
    "print(\"\\nValores únicos en 'year_peticiones':\", df['year_x'].unique())\n",
    "print(\"\\nValores únicos en 'year_contratos':\", df['year_y'].unique())\n",
    "\n",
    "# Paso 1: Limpiar espacios y convertir a tipo string para análisis\n",
    "df['year_x'] = df['year_x'].astype(str).str.strip()\n",
    "df['year_y'] = df['year_y'].astype(str).str.strip()\n",
    "\n",
    "# Paso 2: Extraer sólo los números, ignorando caracteres inusuales\n",
    "df['year_x'] = df['year_x'].str.extract('(\\d{4})')  # Extrae años de 4 dígitos\n",
    "df['year_x'] = pd.to_numeric(df['year_x'], errors='coerce')  # Convierte a numérico, convierte errores a NaN\n",
    "\n",
    "df['year_y'] = df['year_y'].str.extract('(\\d{4})')  # Extrae años de 4 dígitos\n",
    "df['year_y'] = pd.to_numeric(df['year_y'], errors='coerce')  # Convierte a numérico, convierte errores a NaN\n",
    "\n",
    "# Mostrar valores únicos después de limpieza\n",
    "print(\"\\nValores únicos en 'year_peticiones' después de la limpieza:\", df['year_x'].unique())\n",
    "print(\"\\nValores únicos en 'year_contratos' después de la limpieza:\", df['year_y'].unique())\n",
    "\n",
    "# Verificar si hay valores nulos después de la limpieza y conversión\n",
    "print(\"\\nCantidad de valores nulos en 'year_peticiones' después de la limpieza:\", df['year_x'].isnull().sum())\n",
    "print(\"\\nCantidad de valores nulos en 'year_contratos' después de la limpieza:\", df['year_y'].isnull().sum())\n",
    "\n",
    "# Filtrar los datos para mantener sólo años válidos (2000 a 2024)\n",
    "df = df.dropna(subset=['year_x'])  # Remover filas con valores nulos en 'year'\n",
    "df = df[(df['year_x'] >= 2000) & (df['year_x'] <= 2024)]  # Filtrar para años válidos\n",
    "\n",
    "df = df.dropna(subset=['year_y'])  # Remover filas con valores nulos en 'year'\n",
    "df = df[(df['year_y'] >= 2000) & (df['year_y'] <= 2024)]  # Filtrar para años válidos\n",
    "\n",
    "# Verificar si se han filtrado correctamente los datos\n",
    "if df.empty:\n",
    "    print(\"No se encontraron contratos con valores en el rango esperado. Verifica los datos originales o ajusta el rango de fechas.\")\n",
    "else:\n",
    "    # Mostrar el top de contratos más valiosos para validación\n",
    "    top_contracts = df.nlargest(100, 'contract_value')\n",
    "    print(\"Top 100 Contratos con Mayor Valor:\")\n",
    "    print(top_contracts[['owner_org', 'vendor_name', 'contract_value', 'year_y', 'month_y']])\n"
   ]
  },
  {
   "cell_type": "markdown",
   "metadata": {},
   "source": [
    "Temporal Distribution of Contracts and Requests\n",
    "Objective: Visualize how contracts and requests have evolved over time, which can reveal trends or peaks of interest."
   ]
  },
  {
   "cell_type": "code",
   "execution_count": 43,
   "metadata": {},
   "outputs": [],
   "source": [
    "import pandas as pd\n",
    "\n",
    "# Convertir 'year' a enteros para eliminar decimales\n",
    "df['year_x'] = df['year_x'].astype(int)  # Esto corrige los valores de año para ser enteros.\n",
    "df['year_y'] = df['year_y'].astype(int)  # Esto corrige los valores de año para ser enteros."
   ]
  },
  {
   "cell_type": "code",
   "execution_count": 47,
   "metadata": {},
   "outputs": [
    {
     "data": {
      "application/vnd.plotly.v1+json": {
       "config": {
        "plotlyServerURL": "https://plot.ly"
       },
       "data": [
        {
         "hovertemplate": "year_x=%{x}<br>Cantidad=%{y}<extra></extra>",
         "legendgroup": "",
         "line": {
          "color": "#636efa",
          "dash": "solid"
         },
         "marker": {
          "symbol": "circle"
         },
         "mode": "lines+markers",
         "name": "",
         "orientation": "v",
         "showlegend": false,
         "type": "scatter",
         "x": [
          2020,
          2021,
          2022,
          2023,
          2024
         ],
         "xaxis": "x",
         "y": [
          1511,
          670,
          627,
          666,
          460
         ],
         "yaxis": "y"
        }
       ],
       "layout": {
        "legend": {
         "tracegroupgap": 0
        },
        "template": {
         "data": {
          "bar": [
           {
            "error_x": {
             "color": "#2a3f5f"
            },
            "error_y": {
             "color": "#2a3f5f"
            },
            "marker": {
             "line": {
              "color": "#E5ECF6",
              "width": 0.5
             },
             "pattern": {
              "fillmode": "overlay",
              "size": 10,
              "solidity": 0.2
             }
            },
            "type": "bar"
           }
          ],
          "barpolar": [
           {
            "marker": {
             "line": {
              "color": "#E5ECF6",
              "width": 0.5
             },
             "pattern": {
              "fillmode": "overlay",
              "size": 10,
              "solidity": 0.2
             }
            },
            "type": "barpolar"
           }
          ],
          "carpet": [
           {
            "aaxis": {
             "endlinecolor": "#2a3f5f",
             "gridcolor": "white",
             "linecolor": "white",
             "minorgridcolor": "white",
             "startlinecolor": "#2a3f5f"
            },
            "baxis": {
             "endlinecolor": "#2a3f5f",
             "gridcolor": "white",
             "linecolor": "white",
             "minorgridcolor": "white",
             "startlinecolor": "#2a3f5f"
            },
            "type": "carpet"
           }
          ],
          "choropleth": [
           {
            "colorbar": {
             "outlinewidth": 0,
             "ticks": ""
            },
            "type": "choropleth"
           }
          ],
          "contour": [
           {
            "colorbar": {
             "outlinewidth": 0,
             "ticks": ""
            },
            "colorscale": [
             [
              0,
              "#0d0887"
             ],
             [
              0.1111111111111111,
              "#46039f"
             ],
             [
              0.2222222222222222,
              "#7201a8"
             ],
             [
              0.3333333333333333,
              "#9c179e"
             ],
             [
              0.4444444444444444,
              "#bd3786"
             ],
             [
              0.5555555555555556,
              "#d8576b"
             ],
             [
              0.6666666666666666,
              "#ed7953"
             ],
             [
              0.7777777777777778,
              "#fb9f3a"
             ],
             [
              0.8888888888888888,
              "#fdca26"
             ],
             [
              1,
              "#f0f921"
             ]
            ],
            "type": "contour"
           }
          ],
          "contourcarpet": [
           {
            "colorbar": {
             "outlinewidth": 0,
             "ticks": ""
            },
            "type": "contourcarpet"
           }
          ],
          "heatmap": [
           {
            "colorbar": {
             "outlinewidth": 0,
             "ticks": ""
            },
            "colorscale": [
             [
              0,
              "#0d0887"
             ],
             [
              0.1111111111111111,
              "#46039f"
             ],
             [
              0.2222222222222222,
              "#7201a8"
             ],
             [
              0.3333333333333333,
              "#9c179e"
             ],
             [
              0.4444444444444444,
              "#bd3786"
             ],
             [
              0.5555555555555556,
              "#d8576b"
             ],
             [
              0.6666666666666666,
              "#ed7953"
             ],
             [
              0.7777777777777778,
              "#fb9f3a"
             ],
             [
              0.8888888888888888,
              "#fdca26"
             ],
             [
              1,
              "#f0f921"
             ]
            ],
            "type": "heatmap"
           }
          ],
          "heatmapgl": [
           {
            "colorbar": {
             "outlinewidth": 0,
             "ticks": ""
            },
            "colorscale": [
             [
              0,
              "#0d0887"
             ],
             [
              0.1111111111111111,
              "#46039f"
             ],
             [
              0.2222222222222222,
              "#7201a8"
             ],
             [
              0.3333333333333333,
              "#9c179e"
             ],
             [
              0.4444444444444444,
              "#bd3786"
             ],
             [
              0.5555555555555556,
              "#d8576b"
             ],
             [
              0.6666666666666666,
              "#ed7953"
             ],
             [
              0.7777777777777778,
              "#fb9f3a"
             ],
             [
              0.8888888888888888,
              "#fdca26"
             ],
             [
              1,
              "#f0f921"
             ]
            ],
            "type": "heatmapgl"
           }
          ],
          "histogram": [
           {
            "marker": {
             "pattern": {
              "fillmode": "overlay",
              "size": 10,
              "solidity": 0.2
             }
            },
            "type": "histogram"
           }
          ],
          "histogram2d": [
           {
            "colorbar": {
             "outlinewidth": 0,
             "ticks": ""
            },
            "colorscale": [
             [
              0,
              "#0d0887"
             ],
             [
              0.1111111111111111,
              "#46039f"
             ],
             [
              0.2222222222222222,
              "#7201a8"
             ],
             [
              0.3333333333333333,
              "#9c179e"
             ],
             [
              0.4444444444444444,
              "#bd3786"
             ],
             [
              0.5555555555555556,
              "#d8576b"
             ],
             [
              0.6666666666666666,
              "#ed7953"
             ],
             [
              0.7777777777777778,
              "#fb9f3a"
             ],
             [
              0.8888888888888888,
              "#fdca26"
             ],
             [
              1,
              "#f0f921"
             ]
            ],
            "type": "histogram2d"
           }
          ],
          "histogram2dcontour": [
           {
            "colorbar": {
             "outlinewidth": 0,
             "ticks": ""
            },
            "colorscale": [
             [
              0,
              "#0d0887"
             ],
             [
              0.1111111111111111,
              "#46039f"
             ],
             [
              0.2222222222222222,
              "#7201a8"
             ],
             [
              0.3333333333333333,
              "#9c179e"
             ],
             [
              0.4444444444444444,
              "#bd3786"
             ],
             [
              0.5555555555555556,
              "#d8576b"
             ],
             [
              0.6666666666666666,
              "#ed7953"
             ],
             [
              0.7777777777777778,
              "#fb9f3a"
             ],
             [
              0.8888888888888888,
              "#fdca26"
             ],
             [
              1,
              "#f0f921"
             ]
            ],
            "type": "histogram2dcontour"
           }
          ],
          "mesh3d": [
           {
            "colorbar": {
             "outlinewidth": 0,
             "ticks": ""
            },
            "type": "mesh3d"
           }
          ],
          "parcoords": [
           {
            "line": {
             "colorbar": {
              "outlinewidth": 0,
              "ticks": ""
             }
            },
            "type": "parcoords"
           }
          ],
          "pie": [
           {
            "automargin": true,
            "type": "pie"
           }
          ],
          "scatter": [
           {
            "fillpattern": {
             "fillmode": "overlay",
             "size": 10,
             "solidity": 0.2
            },
            "type": "scatter"
           }
          ],
          "scatter3d": [
           {
            "line": {
             "colorbar": {
              "outlinewidth": 0,
              "ticks": ""
             }
            },
            "marker": {
             "colorbar": {
              "outlinewidth": 0,
              "ticks": ""
             }
            },
            "type": "scatter3d"
           }
          ],
          "scattercarpet": [
           {
            "marker": {
             "colorbar": {
              "outlinewidth": 0,
              "ticks": ""
             }
            },
            "type": "scattercarpet"
           }
          ],
          "scattergeo": [
           {
            "marker": {
             "colorbar": {
              "outlinewidth": 0,
              "ticks": ""
             }
            },
            "type": "scattergeo"
           }
          ],
          "scattergl": [
           {
            "marker": {
             "colorbar": {
              "outlinewidth": 0,
              "ticks": ""
             }
            },
            "type": "scattergl"
           }
          ],
          "scattermapbox": [
           {
            "marker": {
             "colorbar": {
              "outlinewidth": 0,
              "ticks": ""
             }
            },
            "type": "scattermapbox"
           }
          ],
          "scatterpolar": [
           {
            "marker": {
             "colorbar": {
              "outlinewidth": 0,
              "ticks": ""
             }
            },
            "type": "scatterpolar"
           }
          ],
          "scatterpolargl": [
           {
            "marker": {
             "colorbar": {
              "outlinewidth": 0,
              "ticks": ""
             }
            },
            "type": "scatterpolargl"
           }
          ],
          "scatterternary": [
           {
            "marker": {
             "colorbar": {
              "outlinewidth": 0,
              "ticks": ""
             }
            },
            "type": "scatterternary"
           }
          ],
          "surface": [
           {
            "colorbar": {
             "outlinewidth": 0,
             "ticks": ""
            },
            "colorscale": [
             [
              0,
              "#0d0887"
             ],
             [
              0.1111111111111111,
              "#46039f"
             ],
             [
              0.2222222222222222,
              "#7201a8"
             ],
             [
              0.3333333333333333,
              "#9c179e"
             ],
             [
              0.4444444444444444,
              "#bd3786"
             ],
             [
              0.5555555555555556,
              "#d8576b"
             ],
             [
              0.6666666666666666,
              "#ed7953"
             ],
             [
              0.7777777777777778,
              "#fb9f3a"
             ],
             [
              0.8888888888888888,
              "#fdca26"
             ],
             [
              1,
              "#f0f921"
             ]
            ],
            "type": "surface"
           }
          ],
          "table": [
           {
            "cells": {
             "fill": {
              "color": "#EBF0F8"
             },
             "line": {
              "color": "white"
             }
            },
            "header": {
             "fill": {
              "color": "#C8D4E3"
             },
             "line": {
              "color": "white"
             }
            },
            "type": "table"
           }
          ]
         },
         "layout": {
          "annotationdefaults": {
           "arrowcolor": "#2a3f5f",
           "arrowhead": 0,
           "arrowwidth": 1
          },
          "autotypenumbers": "strict",
          "coloraxis": {
           "colorbar": {
            "outlinewidth": 0,
            "ticks": ""
           }
          },
          "colorscale": {
           "diverging": [
            [
             0,
             "#8e0152"
            ],
            [
             0.1,
             "#c51b7d"
            ],
            [
             0.2,
             "#de77ae"
            ],
            [
             0.3,
             "#f1b6da"
            ],
            [
             0.4,
             "#fde0ef"
            ],
            [
             0.5,
             "#f7f7f7"
            ],
            [
             0.6,
             "#e6f5d0"
            ],
            [
             0.7,
             "#b8e186"
            ],
            [
             0.8,
             "#7fbc41"
            ],
            [
             0.9,
             "#4d9221"
            ],
            [
             1,
             "#276419"
            ]
           ],
           "sequential": [
            [
             0,
             "#0d0887"
            ],
            [
             0.1111111111111111,
             "#46039f"
            ],
            [
             0.2222222222222222,
             "#7201a8"
            ],
            [
             0.3333333333333333,
             "#9c179e"
            ],
            [
             0.4444444444444444,
             "#bd3786"
            ],
            [
             0.5555555555555556,
             "#d8576b"
            ],
            [
             0.6666666666666666,
             "#ed7953"
            ],
            [
             0.7777777777777778,
             "#fb9f3a"
            ],
            [
             0.8888888888888888,
             "#fdca26"
            ],
            [
             1,
             "#f0f921"
            ]
           ],
           "sequentialminus": [
            [
             0,
             "#0d0887"
            ],
            [
             0.1111111111111111,
             "#46039f"
            ],
            [
             0.2222222222222222,
             "#7201a8"
            ],
            [
             0.3333333333333333,
             "#9c179e"
            ],
            [
             0.4444444444444444,
             "#bd3786"
            ],
            [
             0.5555555555555556,
             "#d8576b"
            ],
            [
             0.6666666666666666,
             "#ed7953"
            ],
            [
             0.7777777777777778,
             "#fb9f3a"
            ],
            [
             0.8888888888888888,
             "#fdca26"
            ],
            [
             1,
             "#f0f921"
            ]
           ]
          },
          "colorway": [
           "#636efa",
           "#EF553B",
           "#00cc96",
           "#ab63fa",
           "#FFA15A",
           "#19d3f3",
           "#FF6692",
           "#B6E880",
           "#FF97FF",
           "#FECB52"
          ],
          "font": {
           "color": "#2a3f5f"
          },
          "geo": {
           "bgcolor": "white",
           "lakecolor": "white",
           "landcolor": "#E5ECF6",
           "showlakes": true,
           "showland": true,
           "subunitcolor": "white"
          },
          "hoverlabel": {
           "align": "left"
          },
          "hovermode": "closest",
          "mapbox": {
           "style": "light"
          },
          "paper_bgcolor": "white",
          "plot_bgcolor": "#E5ECF6",
          "polar": {
           "angularaxis": {
            "gridcolor": "white",
            "linecolor": "white",
            "ticks": ""
           },
           "bgcolor": "#E5ECF6",
           "radialaxis": {
            "gridcolor": "white",
            "linecolor": "white",
            "ticks": ""
           }
          },
          "scene": {
           "xaxis": {
            "backgroundcolor": "#E5ECF6",
            "gridcolor": "white",
            "gridwidth": 2,
            "linecolor": "white",
            "showbackground": true,
            "ticks": "",
            "zerolinecolor": "white"
           },
           "yaxis": {
            "backgroundcolor": "#E5ECF6",
            "gridcolor": "white",
            "gridwidth": 2,
            "linecolor": "white",
            "showbackground": true,
            "ticks": "",
            "zerolinecolor": "white"
           },
           "zaxis": {
            "backgroundcolor": "#E5ECF6",
            "gridcolor": "white",
            "gridwidth": 2,
            "linecolor": "white",
            "showbackground": true,
            "ticks": "",
            "zerolinecolor": "white"
           }
          },
          "shapedefaults": {
           "line": {
            "color": "#2a3f5f"
           }
          },
          "ternary": {
           "aaxis": {
            "gridcolor": "white",
            "linecolor": "white",
            "ticks": ""
           },
           "baxis": {
            "gridcolor": "white",
            "linecolor": "white",
            "ticks": ""
           },
           "bgcolor": "#E5ECF6",
           "caxis": {
            "gridcolor": "white",
            "linecolor": "white",
            "ticks": ""
           }
          },
          "title": {
           "x": 0.05
          },
          "xaxis": {
           "automargin": true,
           "gridcolor": "white",
           "linecolor": "white",
           "ticks": "",
           "title": {
            "standoff": 15
           },
           "zerolinecolor": "white",
           "zerolinewidth": 2
          },
          "yaxis": {
           "automargin": true,
           "gridcolor": "white",
           "linecolor": "white",
           "ticks": "",
           "title": {
            "standoff": 15
           },
           "zerolinecolor": "white",
           "zerolinewidth": 2
          }
         }
        },
        "title": {
         "text": "Distribución Temporal de Solicitudes"
        },
        "xaxis": {
         "anchor": "y",
         "domain": [
          0,
          1
         ],
         "title": {
          "text": "year_x"
         }
        },
        "yaxis": {
         "anchor": "x",
         "domain": [
          0,
          1
         ],
         "title": {
          "text": "Cantidad"
         }
        }
       }
      }
     },
     "metadata": {},
     "output_type": "display_data"
    }
   ],
   "source": [
    "import plotly.express as px\n",
    "\n",
    "# Asegúrate de contar la cantidad de registros por año\n",
    "df_annual = df.groupby('year_x').size().reset_index(name='count')\n",
    "\n",
    "# Crear el gráfico de líneas\n",
    "fig = px.line(\n",
    "    df_annual, \n",
    "    x='year_x', \n",
    "    y='count', \n",
    "    title='Distribución Temporal de Solicitudes', \n",
    "    labels={'year': 'Año', 'count': 'Cantidad'},\n",
    "    markers=True  # Añade marcadores para cada punto\n",
    ")\n",
    "\n",
    "# Mostrar el gráfico\n",
    "fig.show()\n"
   ]
  },
  {
   "cell_type": "code",
   "execution_count": 46,
   "metadata": {},
   "outputs": [
    {
     "data": {
      "application/vnd.plotly.v1+json": {
       "config": {
        "plotlyServerURL": "https://plot.ly"
       },
       "data": [
        {
         "hovertemplate": "year_y=%{x}<br>Cantidad=%{y}<extra></extra>",
         "legendgroup": "",
         "line": {
          "color": "#636efa",
          "dash": "solid"
         },
         "marker": {
          "symbol": "circle"
         },
         "mode": "lines+markers",
         "name": "",
         "orientation": "v",
         "showlegend": false,
         "type": "scatter",
         "x": [
          2008,
          2013,
          2014,
          2015,
          2016,
          2017,
          2018,
          2019
         ],
         "xaxis": "x",
         "y": [
          99,
          15,
          12,
          1191,
          725,
          225,
          1582,
          85
         ],
         "yaxis": "y"
        }
       ],
       "layout": {
        "legend": {
         "tracegroupgap": 0
        },
        "template": {
         "data": {
          "bar": [
           {
            "error_x": {
             "color": "#2a3f5f"
            },
            "error_y": {
             "color": "#2a3f5f"
            },
            "marker": {
             "line": {
              "color": "#E5ECF6",
              "width": 0.5
             },
             "pattern": {
              "fillmode": "overlay",
              "size": 10,
              "solidity": 0.2
             }
            },
            "type": "bar"
           }
          ],
          "barpolar": [
           {
            "marker": {
             "line": {
              "color": "#E5ECF6",
              "width": 0.5
             },
             "pattern": {
              "fillmode": "overlay",
              "size": 10,
              "solidity": 0.2
             }
            },
            "type": "barpolar"
           }
          ],
          "carpet": [
           {
            "aaxis": {
             "endlinecolor": "#2a3f5f",
             "gridcolor": "white",
             "linecolor": "white",
             "minorgridcolor": "white",
             "startlinecolor": "#2a3f5f"
            },
            "baxis": {
             "endlinecolor": "#2a3f5f",
             "gridcolor": "white",
             "linecolor": "white",
             "minorgridcolor": "white",
             "startlinecolor": "#2a3f5f"
            },
            "type": "carpet"
           }
          ],
          "choropleth": [
           {
            "colorbar": {
             "outlinewidth": 0,
             "ticks": ""
            },
            "type": "choropleth"
           }
          ],
          "contour": [
           {
            "colorbar": {
             "outlinewidth": 0,
             "ticks": ""
            },
            "colorscale": [
             [
              0,
              "#0d0887"
             ],
             [
              0.1111111111111111,
              "#46039f"
             ],
             [
              0.2222222222222222,
              "#7201a8"
             ],
             [
              0.3333333333333333,
              "#9c179e"
             ],
             [
              0.4444444444444444,
              "#bd3786"
             ],
             [
              0.5555555555555556,
              "#d8576b"
             ],
             [
              0.6666666666666666,
              "#ed7953"
             ],
             [
              0.7777777777777778,
              "#fb9f3a"
             ],
             [
              0.8888888888888888,
              "#fdca26"
             ],
             [
              1,
              "#f0f921"
             ]
            ],
            "type": "contour"
           }
          ],
          "contourcarpet": [
           {
            "colorbar": {
             "outlinewidth": 0,
             "ticks": ""
            },
            "type": "contourcarpet"
           }
          ],
          "heatmap": [
           {
            "colorbar": {
             "outlinewidth": 0,
             "ticks": ""
            },
            "colorscale": [
             [
              0,
              "#0d0887"
             ],
             [
              0.1111111111111111,
              "#46039f"
             ],
             [
              0.2222222222222222,
              "#7201a8"
             ],
             [
              0.3333333333333333,
              "#9c179e"
             ],
             [
              0.4444444444444444,
              "#bd3786"
             ],
             [
              0.5555555555555556,
              "#d8576b"
             ],
             [
              0.6666666666666666,
              "#ed7953"
             ],
             [
              0.7777777777777778,
              "#fb9f3a"
             ],
             [
              0.8888888888888888,
              "#fdca26"
             ],
             [
              1,
              "#f0f921"
             ]
            ],
            "type": "heatmap"
           }
          ],
          "heatmapgl": [
           {
            "colorbar": {
             "outlinewidth": 0,
             "ticks": ""
            },
            "colorscale": [
             [
              0,
              "#0d0887"
             ],
             [
              0.1111111111111111,
              "#46039f"
             ],
             [
              0.2222222222222222,
              "#7201a8"
             ],
             [
              0.3333333333333333,
              "#9c179e"
             ],
             [
              0.4444444444444444,
              "#bd3786"
             ],
             [
              0.5555555555555556,
              "#d8576b"
             ],
             [
              0.6666666666666666,
              "#ed7953"
             ],
             [
              0.7777777777777778,
              "#fb9f3a"
             ],
             [
              0.8888888888888888,
              "#fdca26"
             ],
             [
              1,
              "#f0f921"
             ]
            ],
            "type": "heatmapgl"
           }
          ],
          "histogram": [
           {
            "marker": {
             "pattern": {
              "fillmode": "overlay",
              "size": 10,
              "solidity": 0.2
             }
            },
            "type": "histogram"
           }
          ],
          "histogram2d": [
           {
            "colorbar": {
             "outlinewidth": 0,
             "ticks": ""
            },
            "colorscale": [
             [
              0,
              "#0d0887"
             ],
             [
              0.1111111111111111,
              "#46039f"
             ],
             [
              0.2222222222222222,
              "#7201a8"
             ],
             [
              0.3333333333333333,
              "#9c179e"
             ],
             [
              0.4444444444444444,
              "#bd3786"
             ],
             [
              0.5555555555555556,
              "#d8576b"
             ],
             [
              0.6666666666666666,
              "#ed7953"
             ],
             [
              0.7777777777777778,
              "#fb9f3a"
             ],
             [
              0.8888888888888888,
              "#fdca26"
             ],
             [
              1,
              "#f0f921"
             ]
            ],
            "type": "histogram2d"
           }
          ],
          "histogram2dcontour": [
           {
            "colorbar": {
             "outlinewidth": 0,
             "ticks": ""
            },
            "colorscale": [
             [
              0,
              "#0d0887"
             ],
             [
              0.1111111111111111,
              "#46039f"
             ],
             [
              0.2222222222222222,
              "#7201a8"
             ],
             [
              0.3333333333333333,
              "#9c179e"
             ],
             [
              0.4444444444444444,
              "#bd3786"
             ],
             [
              0.5555555555555556,
              "#d8576b"
             ],
             [
              0.6666666666666666,
              "#ed7953"
             ],
             [
              0.7777777777777778,
              "#fb9f3a"
             ],
             [
              0.8888888888888888,
              "#fdca26"
             ],
             [
              1,
              "#f0f921"
             ]
            ],
            "type": "histogram2dcontour"
           }
          ],
          "mesh3d": [
           {
            "colorbar": {
             "outlinewidth": 0,
             "ticks": ""
            },
            "type": "mesh3d"
           }
          ],
          "parcoords": [
           {
            "line": {
             "colorbar": {
              "outlinewidth": 0,
              "ticks": ""
             }
            },
            "type": "parcoords"
           }
          ],
          "pie": [
           {
            "automargin": true,
            "type": "pie"
           }
          ],
          "scatter": [
           {
            "fillpattern": {
             "fillmode": "overlay",
             "size": 10,
             "solidity": 0.2
            },
            "type": "scatter"
           }
          ],
          "scatter3d": [
           {
            "line": {
             "colorbar": {
              "outlinewidth": 0,
              "ticks": ""
             }
            },
            "marker": {
             "colorbar": {
              "outlinewidth": 0,
              "ticks": ""
             }
            },
            "type": "scatter3d"
           }
          ],
          "scattercarpet": [
           {
            "marker": {
             "colorbar": {
              "outlinewidth": 0,
              "ticks": ""
             }
            },
            "type": "scattercarpet"
           }
          ],
          "scattergeo": [
           {
            "marker": {
             "colorbar": {
              "outlinewidth": 0,
              "ticks": ""
             }
            },
            "type": "scattergeo"
           }
          ],
          "scattergl": [
           {
            "marker": {
             "colorbar": {
              "outlinewidth": 0,
              "ticks": ""
             }
            },
            "type": "scattergl"
           }
          ],
          "scattermapbox": [
           {
            "marker": {
             "colorbar": {
              "outlinewidth": 0,
              "ticks": ""
             }
            },
            "type": "scattermapbox"
           }
          ],
          "scatterpolar": [
           {
            "marker": {
             "colorbar": {
              "outlinewidth": 0,
              "ticks": ""
             }
            },
            "type": "scatterpolar"
           }
          ],
          "scatterpolargl": [
           {
            "marker": {
             "colorbar": {
              "outlinewidth": 0,
              "ticks": ""
             }
            },
            "type": "scatterpolargl"
           }
          ],
          "scatterternary": [
           {
            "marker": {
             "colorbar": {
              "outlinewidth": 0,
              "ticks": ""
             }
            },
            "type": "scatterternary"
           }
          ],
          "surface": [
           {
            "colorbar": {
             "outlinewidth": 0,
             "ticks": ""
            },
            "colorscale": [
             [
              0,
              "#0d0887"
             ],
             [
              0.1111111111111111,
              "#46039f"
             ],
             [
              0.2222222222222222,
              "#7201a8"
             ],
             [
              0.3333333333333333,
              "#9c179e"
             ],
             [
              0.4444444444444444,
              "#bd3786"
             ],
             [
              0.5555555555555556,
              "#d8576b"
             ],
             [
              0.6666666666666666,
              "#ed7953"
             ],
             [
              0.7777777777777778,
              "#fb9f3a"
             ],
             [
              0.8888888888888888,
              "#fdca26"
             ],
             [
              1,
              "#f0f921"
             ]
            ],
            "type": "surface"
           }
          ],
          "table": [
           {
            "cells": {
             "fill": {
              "color": "#EBF0F8"
             },
             "line": {
              "color": "white"
             }
            },
            "header": {
             "fill": {
              "color": "#C8D4E3"
             },
             "line": {
              "color": "white"
             }
            },
            "type": "table"
           }
          ]
         },
         "layout": {
          "annotationdefaults": {
           "arrowcolor": "#2a3f5f",
           "arrowhead": 0,
           "arrowwidth": 1
          },
          "autotypenumbers": "strict",
          "coloraxis": {
           "colorbar": {
            "outlinewidth": 0,
            "ticks": ""
           }
          },
          "colorscale": {
           "diverging": [
            [
             0,
             "#8e0152"
            ],
            [
             0.1,
             "#c51b7d"
            ],
            [
             0.2,
             "#de77ae"
            ],
            [
             0.3,
             "#f1b6da"
            ],
            [
             0.4,
             "#fde0ef"
            ],
            [
             0.5,
             "#f7f7f7"
            ],
            [
             0.6,
             "#e6f5d0"
            ],
            [
             0.7,
             "#b8e186"
            ],
            [
             0.8,
             "#7fbc41"
            ],
            [
             0.9,
             "#4d9221"
            ],
            [
             1,
             "#276419"
            ]
           ],
           "sequential": [
            [
             0,
             "#0d0887"
            ],
            [
             0.1111111111111111,
             "#46039f"
            ],
            [
             0.2222222222222222,
             "#7201a8"
            ],
            [
             0.3333333333333333,
             "#9c179e"
            ],
            [
             0.4444444444444444,
             "#bd3786"
            ],
            [
             0.5555555555555556,
             "#d8576b"
            ],
            [
             0.6666666666666666,
             "#ed7953"
            ],
            [
             0.7777777777777778,
             "#fb9f3a"
            ],
            [
             0.8888888888888888,
             "#fdca26"
            ],
            [
             1,
             "#f0f921"
            ]
           ],
           "sequentialminus": [
            [
             0,
             "#0d0887"
            ],
            [
             0.1111111111111111,
             "#46039f"
            ],
            [
             0.2222222222222222,
             "#7201a8"
            ],
            [
             0.3333333333333333,
             "#9c179e"
            ],
            [
             0.4444444444444444,
             "#bd3786"
            ],
            [
             0.5555555555555556,
             "#d8576b"
            ],
            [
             0.6666666666666666,
             "#ed7953"
            ],
            [
             0.7777777777777778,
             "#fb9f3a"
            ],
            [
             0.8888888888888888,
             "#fdca26"
            ],
            [
             1,
             "#f0f921"
            ]
           ]
          },
          "colorway": [
           "#636efa",
           "#EF553B",
           "#00cc96",
           "#ab63fa",
           "#FFA15A",
           "#19d3f3",
           "#FF6692",
           "#B6E880",
           "#FF97FF",
           "#FECB52"
          ],
          "font": {
           "color": "#2a3f5f"
          },
          "geo": {
           "bgcolor": "white",
           "lakecolor": "white",
           "landcolor": "#E5ECF6",
           "showlakes": true,
           "showland": true,
           "subunitcolor": "white"
          },
          "hoverlabel": {
           "align": "left"
          },
          "hovermode": "closest",
          "mapbox": {
           "style": "light"
          },
          "paper_bgcolor": "white",
          "plot_bgcolor": "#E5ECF6",
          "polar": {
           "angularaxis": {
            "gridcolor": "white",
            "linecolor": "white",
            "ticks": ""
           },
           "bgcolor": "#E5ECF6",
           "radialaxis": {
            "gridcolor": "white",
            "linecolor": "white",
            "ticks": ""
           }
          },
          "scene": {
           "xaxis": {
            "backgroundcolor": "#E5ECF6",
            "gridcolor": "white",
            "gridwidth": 2,
            "linecolor": "white",
            "showbackground": true,
            "ticks": "",
            "zerolinecolor": "white"
           },
           "yaxis": {
            "backgroundcolor": "#E5ECF6",
            "gridcolor": "white",
            "gridwidth": 2,
            "linecolor": "white",
            "showbackground": true,
            "ticks": "",
            "zerolinecolor": "white"
           },
           "zaxis": {
            "backgroundcolor": "#E5ECF6",
            "gridcolor": "white",
            "gridwidth": 2,
            "linecolor": "white",
            "showbackground": true,
            "ticks": "",
            "zerolinecolor": "white"
           }
          },
          "shapedefaults": {
           "line": {
            "color": "#2a3f5f"
           }
          },
          "ternary": {
           "aaxis": {
            "gridcolor": "white",
            "linecolor": "white",
            "ticks": ""
           },
           "baxis": {
            "gridcolor": "white",
            "linecolor": "white",
            "ticks": ""
           },
           "bgcolor": "#E5ECF6",
           "caxis": {
            "gridcolor": "white",
            "linecolor": "white",
            "ticks": ""
           }
          },
          "title": {
           "x": 0.05
          },
          "xaxis": {
           "automargin": true,
           "gridcolor": "white",
           "linecolor": "white",
           "ticks": "",
           "title": {
            "standoff": 15
           },
           "zerolinecolor": "white",
           "zerolinewidth": 2
          },
          "yaxis": {
           "automargin": true,
           "gridcolor": "white",
           "linecolor": "white",
           "ticks": "",
           "title": {
            "standoff": 15
           },
           "zerolinecolor": "white",
           "zerolinewidth": 2
          }
         }
        },
        "title": {
         "text": "Distribución Temporal de Contratos"
        },
        "xaxis": {
         "anchor": "y",
         "domain": [
          0,
          1
         ],
         "title": {
          "text": "year_y"
         }
        },
        "yaxis": {
         "anchor": "x",
         "domain": [
          0,
          1
         ],
         "title": {
          "text": "Cantidad"
         }
        }
       }
      }
     },
     "metadata": {},
     "output_type": "display_data"
    }
   ],
   "source": [
    "import plotly.express as px\n",
    "\n",
    "# Asegúrate de contar la cantidad de registros por año\n",
    "df_annual = df.groupby('year_y').size().reset_index(name='count')\n",
    "\n",
    "# Crear el gráfico de líneas\n",
    "fig = px.line(\n",
    "    df_annual, \n",
    "    x='year_y', \n",
    "    y='count', \n",
    "    title='Distribución Temporal de Contratos', \n",
    "    labels={'year': 'Año', 'count': 'Cantidad'},\n",
    "    markers=True  # Añade marcadores para cada punto\n",
    ")\n",
    "\n",
    "# Mostrar el gráfico\n",
    "fig.show()"
   ]
  },
  {
   "cell_type": "markdown",
   "metadata": {},
   "source": [
    "Trend Analysis in the Chart:\n",
    "\n",
    "Decline in 2021: There is a significant decrease in the number of contracts and requests between 2020 and 2021. This may indicate a reduction in contracting activity or in the number of information access requests during that period. This trend could be related to external events such as the COVID-19 pandemic, which may have impacted government operations and contract execution.\n",
    "\n",
    "Stability between 2021 and 2022: After the sharp initial decline, the number of contracts and requests remains relatively stable during 2021 and 2022. This suggests that, despite the initial drop, contracting activity stabilized, though at lower levels than in 2020.\n",
    "\n",
    "Slight Increase in 2023: There is a small increase in 2023, which may indicate a partial recovery in contracting activity or an increase in access requests. This could reflect a gradual post-pandemic reactivation or changes in transparency policies.\n",
    "\n",
    "New Decline in 2024: Finally, the chart shows another decrease in 2024. This may indicate factors such as budget adjustments, changes in contracting policies, or a reduction in demand for information access requests."
   ]
  },
  {
   "cell_type": "markdown",
   "metadata": {},
   "source": [
    "Investigate Causes of the Decline in 2021\n",
    "\n",
    "To investigate the drop between 2020 and 2021, we can take the following steps:\n",
    "\n",
    "Filter Specific Data for 2020 and 2021: Analyze specific contracts and requests from these years. Identify if there are any changes in contracting policies or in the request procedures."
   ]
  },
  {
   "cell_type": "code",
   "execution_count": 55,
   "metadata": {},
   "outputs": [
    {
     "name": "stdout",
     "output_type": "stream",
     "text": [
      "Contratos 2018: 1582\n",
      "Contratos 2019: 85\n"
     ]
    }
   ],
   "source": [
    "df_2018 = df[df['year_y'] == 2018]\n",
    "df_2019 = df[df['year_y'] == 2019]\n",
    "\n",
    "# Comparar número de contratos y solicitudes\n",
    "print(\"Contratos 2018:\", df_2018.shape[0])\n",
    "print(\"Contratos 2019:\", df_2019.shape[0])\n"
   ]
  },
  {
   "cell_type": "code",
   "execution_count": 56,
   "metadata": {},
   "outputs": [
    {
     "name": "stdout",
     "output_type": "stream",
     "text": [
      "Solicitudes 2020: 1511\n",
      "Solicitudes 2021: 670\n"
     ]
    }
   ],
   "source": [
    "df_2020 = df[df['year_x'] == 2020]\n",
    "df_2021 = df[df['year_x'] == 2021]\n",
    "\n",
    "# Comparar número de contratos y solicitudes\n",
    "print(\"Solicitudes 2020:\", df_2020.shape[0])\n",
    "print(\"Solicitudes 2021:\", df_2021.shape[0])"
   ]
  },
  {
   "cell_type": "markdown",
   "metadata": {},
   "source": [
    "Analysis of Policy or Budget Changes:\n",
    "\n",
    "Check the data for changes in contract values, types of contracts, or any notes on budget restrictions or shifts in government policies."
   ]
  },
  {
   "cell_type": "code",
   "execution_count": 57,
   "metadata": {},
   "outputs": [
    {
     "name": "stdout",
     "output_type": "stream",
     "text": [
      "                                            comments_en  \\\n",
      "1327                                Protection Services   \n",
      "1328                 Rental of Motor and Other Vehicles   \n",
      "1329  Communication, Photographic, Mapping, Printing...   \n",
      "1330                      Passenger Air Charter Service   \n",
      "1331                      Passenger Air Charter Service   \n",
      "1332     Administrative and Management Support Services   \n",
      "1333     Administrative and Management Support Services   \n",
      "1334  Temporary Help Services Acquired For General Help   \n",
      "1335  Acq (incl Res) Office Furniture/ Furnishing & ...   \n",
      "1336                      Passenger Air Charter Service   \n",
      "1337                                Protection Services   \n",
      "1338                                Protection Services   \n",
      "1339                                Protection Services   \n",
      "1340                                     Guard Services   \n",
      "1341      ADP Input-Output and Storage Devices - Rental   \n",
      "1342       License/Maintenance Fees for Client Software   \n",
      "1343                            Staff Language Training   \n",
      "1344                                     Guard Services   \n",
      "1345  Communication, Photographic, Mapping, Printing...   \n",
      "1346     Administrative and Management Support Services   \n",
      "1347                                Protection Services   \n",
      "1348                Program Management/Support Services   \n",
      "1349     Administrative and Management Support Services   \n",
      "1350        Course Development and Training Counsultant   \n",
      "1351                      Accounting and Audit Services   \n",
      "1352     Administrative and Management Support Services   \n",
      "1353     Administrative and Management Support Services   \n",
      "1354                    IT Applications D&M Consultants   \n",
      "1355     Administrative and Management Support Services   \n",
      "1356  Acq (incl Res) Image/Video Communications Equi...   \n",
      "\n",
      "                       additional_comments_en  \n",
      "1327  Contract amendment value is only for Q1  \n",
      "1328  Contract amendment value is only for Q1  \n",
      "1329  Contract amendment value is only for Q1  \n",
      "1330  Contract amendment value is only for Q1  \n",
      "1331  Contract amendment value is only for Q1  \n",
      "1332  Contract amendment value is only for Q1  \n",
      "1333  Contract amendment value is only for Q1  \n",
      "1334  Contract amendment value is only for Q1  \n",
      "1335  Contract amendment value is only for Q1  \n",
      "1336  Contract amendment value is only for Q1  \n",
      "1337  Contract amendment value is only for Q1  \n",
      "1338  Contract amendment value is only for Q1  \n",
      "1339  Contract amendment value is only for Q1  \n",
      "1340  Contract amendment value is only for Q1  \n",
      "1341  Contract amendment value is only for Q1  \n",
      "1342  Contract amendment value is only for Q1  \n",
      "1343  Contract amendment value is only for Q1  \n",
      "1344  Contract amendment value is only for Q1  \n",
      "1345  Contract amendment value is only for Q1  \n",
      "1346  Contract amendment value is only for Q1  \n",
      "1347  Contract amendment value is only for Q1  \n",
      "1348  Contract amendment value is only for Q1  \n",
      "1349  Contract amendment value is only for Q1  \n",
      "1350  Contract amendment value is only for Q1  \n",
      "1351  Contract amendment value is only for Q1  \n",
      "1352  Contract amendment value is only for Q1  \n",
      "1353  Contract amendment value is only for Q1  \n",
      "1354  Contract amendment value is only for Q1  \n",
      "1355  Contract amendment value is only for Q1  \n",
      "1356  Contract amendment value is only for Q1  \n"
     ]
    }
   ],
   "source": [
    "# Analizar comentarios o notas en los contratos de 2021\n",
    "cambios_politicos = df_2021[['comments_en', 'additional_comments_en']].dropna()\n",
    "print(cambios_politicos.head(30))\n"
   ]
  },
  {
   "cell_type": "markdown",
   "metadata": {},
   "source": [
    "Decline in 2021:\n",
    "\n",
    "Observation: There was a significant decrease in the number of contracts and information access requests between 2020 and 2021.\n",
    "Potential Causes: This could be related to the pandemic, where budget restrictions or changes in government policies may have reduced contracting activity and requests.\n",
    "Detailed Analysis: Comments from 2021 indicate that many contracts were amended with specific values only for the first quarter, which may reflect an adjusted response to economic uncertainty or changing conditions."
   ]
  },
  {
   "cell_type": "markdown",
   "metadata": {},
   "source": [
    "Contracts with year == 2021: It appears that there are contracts listed under the year 2021, but not all of them have a contract_period_start in 2021. This could indicate contracts signed before 2021 that were still active during that year."
   ]
  },
  {
   "cell_type": "markdown",
   "metadata": {},
   "source": [
    "Regarding the Missing contract_period_start in 2021\n",
    "\n",
    "Pandemic Context: It is reasonable to assume that many new projects were delayed or halted due to economic uncertainty and global restrictions. It may be useful to examine if there are any comments or amendments that support this idea."
   ]
  },
  {
   "cell_type": "markdown",
   "metadata": {},
   "source": [
    "----------------------------------------------------------------------------------------------------------"
   ]
  },
  {
   "cell_type": "markdown",
   "metadata": {},
   "source": [
    "Analysis of Active Employment Contracts and Visualization\n",
    "\n",
    "To explore the activity of employment contracts and how they vary across the analyzed years, a bubble chart may be suitable to display the number of active contracts, with the bubble size representing the number of contracts.\n",
    "\n",
    "Step-by-Step for Active Contracts Analysis\n",
    "\n",
    "Step 1: Count Active Contracts by Year"
   ]
  },
  {
   "cell_type": "code",
   "execution_count": 65,
   "metadata": {},
   "outputs": [
    {
     "name": "stdout",
     "output_type": "stream",
     "text": [
      "Contratos activos por año:\n",
      "   year_y  active_contracts\n",
      "0    2016              1649\n",
      "1    2013                19\n",
      "2    2015              1209\n",
      "3    2019              1377\n",
      "4    2017               798\n",
      "5    2018              1983\n",
      "6    2008                11\n",
      "7    2014                72\n"
     ]
    }
   ],
   "source": [
    "# Asegurarse de que 'contract_period_start' esté en formato datetime\n",
    "df['contract_period_start'] = pd.to_datetime(df['contract_period_start'], errors='coerce')\n",
    "df['delivery_date'] = pd.to_datetime(df['delivery_date'], errors='coerce')\n",
    "\n",
    "# Contar contratos activos por año\n",
    "años_interes = [2016,2013,2015,2019,2017,2018,2008,2014]\n",
    "contratos_activos = []\n",
    "\n",
    "for año in años_interes:\n",
    "    # Filtrar contratos activos en el año correspondiente\n",
    "    contratos_año = df[\n",
    "        (df['contract_period_start'].dt.year <= año) &\n",
    "        (df['delivery_date'].dt.year >= año)\n",
    "    ]\n",
    "    contratos_activos.append({\n",
    "        'year_y': año,\n",
    "        'active_contracts': len(contratos_año)\n",
    "    })\n",
    "\n",
    "df_contratos_activos = pd.DataFrame(contratos_activos)\n",
    "\n",
    "print(\"Contratos activos por año:\")\n",
    "print(df_contratos_activos)"
   ]
  },
  {
   "cell_type": "markdown",
   "metadata": {},
   "source": [
    "Step 2: Bubble Chart with Plotly\n",
    "\n",
    "To visualize active contracts over time and allow for interactive comparison:"
   ]
  },
  {
   "cell_type": "code",
   "execution_count": 66,
   "metadata": {},
   "outputs": [
    {
     "data": {
      "application/vnd.plotly.v1+json": {
       "config": {
        "plotlyServerURL": "https://plot.ly"
       },
       "data": [
        {
         "hovertemplate": "<b>%{hovertext}</b><br><br>Año=%{x}<br>Contratos Activos=%{marker.size}<extra></extra>",
         "hovertext": [
          2016,
          2013,
          2015,
          2019,
          2017,
          2018,
          2008,
          2014
         ],
         "legendgroup": "",
         "marker": {
          "color": "#636efa",
          "size": [
           1649,
           19,
           1209,
           1377,
           798,
           1983,
           11,
           72
          ],
          "sizemode": "area",
          "sizeref": 0.5508333333333333,
          "symbol": "circle"
         },
         "mode": "markers",
         "name": "",
         "orientation": "v",
         "showlegend": false,
         "type": "scatter",
         "x": [
          2016,
          2013,
          2015,
          2019,
          2017,
          2018,
          2008,
          2014
         ],
         "xaxis": "x",
         "y": [
          1649,
          19,
          1209,
          1377,
          798,
          1983,
          11,
          72
         ],
         "yaxis": "y"
        }
       ],
       "layout": {
        "legend": {
         "itemsizing": "constant",
         "tracegroupgap": 0
        },
        "template": {
         "data": {
          "bar": [
           {
            "error_x": {
             "color": "#2a3f5f"
            },
            "error_y": {
             "color": "#2a3f5f"
            },
            "marker": {
             "line": {
              "color": "#E5ECF6",
              "width": 0.5
             },
             "pattern": {
              "fillmode": "overlay",
              "size": 10,
              "solidity": 0.2
             }
            },
            "type": "bar"
           }
          ],
          "barpolar": [
           {
            "marker": {
             "line": {
              "color": "#E5ECF6",
              "width": 0.5
             },
             "pattern": {
              "fillmode": "overlay",
              "size": 10,
              "solidity": 0.2
             }
            },
            "type": "barpolar"
           }
          ],
          "carpet": [
           {
            "aaxis": {
             "endlinecolor": "#2a3f5f",
             "gridcolor": "white",
             "linecolor": "white",
             "minorgridcolor": "white",
             "startlinecolor": "#2a3f5f"
            },
            "baxis": {
             "endlinecolor": "#2a3f5f",
             "gridcolor": "white",
             "linecolor": "white",
             "minorgridcolor": "white",
             "startlinecolor": "#2a3f5f"
            },
            "type": "carpet"
           }
          ],
          "choropleth": [
           {
            "colorbar": {
             "outlinewidth": 0,
             "ticks": ""
            },
            "type": "choropleth"
           }
          ],
          "contour": [
           {
            "colorbar": {
             "outlinewidth": 0,
             "ticks": ""
            },
            "colorscale": [
             [
              0,
              "#0d0887"
             ],
             [
              0.1111111111111111,
              "#46039f"
             ],
             [
              0.2222222222222222,
              "#7201a8"
             ],
             [
              0.3333333333333333,
              "#9c179e"
             ],
             [
              0.4444444444444444,
              "#bd3786"
             ],
             [
              0.5555555555555556,
              "#d8576b"
             ],
             [
              0.6666666666666666,
              "#ed7953"
             ],
             [
              0.7777777777777778,
              "#fb9f3a"
             ],
             [
              0.8888888888888888,
              "#fdca26"
             ],
             [
              1,
              "#f0f921"
             ]
            ],
            "type": "contour"
           }
          ],
          "contourcarpet": [
           {
            "colorbar": {
             "outlinewidth": 0,
             "ticks": ""
            },
            "type": "contourcarpet"
           }
          ],
          "heatmap": [
           {
            "colorbar": {
             "outlinewidth": 0,
             "ticks": ""
            },
            "colorscale": [
             [
              0,
              "#0d0887"
             ],
             [
              0.1111111111111111,
              "#46039f"
             ],
             [
              0.2222222222222222,
              "#7201a8"
             ],
             [
              0.3333333333333333,
              "#9c179e"
             ],
             [
              0.4444444444444444,
              "#bd3786"
             ],
             [
              0.5555555555555556,
              "#d8576b"
             ],
             [
              0.6666666666666666,
              "#ed7953"
             ],
             [
              0.7777777777777778,
              "#fb9f3a"
             ],
             [
              0.8888888888888888,
              "#fdca26"
             ],
             [
              1,
              "#f0f921"
             ]
            ],
            "type": "heatmap"
           }
          ],
          "heatmapgl": [
           {
            "colorbar": {
             "outlinewidth": 0,
             "ticks": ""
            },
            "colorscale": [
             [
              0,
              "#0d0887"
             ],
             [
              0.1111111111111111,
              "#46039f"
             ],
             [
              0.2222222222222222,
              "#7201a8"
             ],
             [
              0.3333333333333333,
              "#9c179e"
             ],
             [
              0.4444444444444444,
              "#bd3786"
             ],
             [
              0.5555555555555556,
              "#d8576b"
             ],
             [
              0.6666666666666666,
              "#ed7953"
             ],
             [
              0.7777777777777778,
              "#fb9f3a"
             ],
             [
              0.8888888888888888,
              "#fdca26"
             ],
             [
              1,
              "#f0f921"
             ]
            ],
            "type": "heatmapgl"
           }
          ],
          "histogram": [
           {
            "marker": {
             "pattern": {
              "fillmode": "overlay",
              "size": 10,
              "solidity": 0.2
             }
            },
            "type": "histogram"
           }
          ],
          "histogram2d": [
           {
            "colorbar": {
             "outlinewidth": 0,
             "ticks": ""
            },
            "colorscale": [
             [
              0,
              "#0d0887"
             ],
             [
              0.1111111111111111,
              "#46039f"
             ],
             [
              0.2222222222222222,
              "#7201a8"
             ],
             [
              0.3333333333333333,
              "#9c179e"
             ],
             [
              0.4444444444444444,
              "#bd3786"
             ],
             [
              0.5555555555555556,
              "#d8576b"
             ],
             [
              0.6666666666666666,
              "#ed7953"
             ],
             [
              0.7777777777777778,
              "#fb9f3a"
             ],
             [
              0.8888888888888888,
              "#fdca26"
             ],
             [
              1,
              "#f0f921"
             ]
            ],
            "type": "histogram2d"
           }
          ],
          "histogram2dcontour": [
           {
            "colorbar": {
             "outlinewidth": 0,
             "ticks": ""
            },
            "colorscale": [
             [
              0,
              "#0d0887"
             ],
             [
              0.1111111111111111,
              "#46039f"
             ],
             [
              0.2222222222222222,
              "#7201a8"
             ],
             [
              0.3333333333333333,
              "#9c179e"
             ],
             [
              0.4444444444444444,
              "#bd3786"
             ],
             [
              0.5555555555555556,
              "#d8576b"
             ],
             [
              0.6666666666666666,
              "#ed7953"
             ],
             [
              0.7777777777777778,
              "#fb9f3a"
             ],
             [
              0.8888888888888888,
              "#fdca26"
             ],
             [
              1,
              "#f0f921"
             ]
            ],
            "type": "histogram2dcontour"
           }
          ],
          "mesh3d": [
           {
            "colorbar": {
             "outlinewidth": 0,
             "ticks": ""
            },
            "type": "mesh3d"
           }
          ],
          "parcoords": [
           {
            "line": {
             "colorbar": {
              "outlinewidth": 0,
              "ticks": ""
             }
            },
            "type": "parcoords"
           }
          ],
          "pie": [
           {
            "automargin": true,
            "type": "pie"
           }
          ],
          "scatter": [
           {
            "fillpattern": {
             "fillmode": "overlay",
             "size": 10,
             "solidity": 0.2
            },
            "type": "scatter"
           }
          ],
          "scatter3d": [
           {
            "line": {
             "colorbar": {
              "outlinewidth": 0,
              "ticks": ""
             }
            },
            "marker": {
             "colorbar": {
              "outlinewidth": 0,
              "ticks": ""
             }
            },
            "type": "scatter3d"
           }
          ],
          "scattercarpet": [
           {
            "marker": {
             "colorbar": {
              "outlinewidth": 0,
              "ticks": ""
             }
            },
            "type": "scattercarpet"
           }
          ],
          "scattergeo": [
           {
            "marker": {
             "colorbar": {
              "outlinewidth": 0,
              "ticks": ""
             }
            },
            "type": "scattergeo"
           }
          ],
          "scattergl": [
           {
            "marker": {
             "colorbar": {
              "outlinewidth": 0,
              "ticks": ""
             }
            },
            "type": "scattergl"
           }
          ],
          "scattermapbox": [
           {
            "marker": {
             "colorbar": {
              "outlinewidth": 0,
              "ticks": ""
             }
            },
            "type": "scattermapbox"
           }
          ],
          "scatterpolar": [
           {
            "marker": {
             "colorbar": {
              "outlinewidth": 0,
              "ticks": ""
             }
            },
            "type": "scatterpolar"
           }
          ],
          "scatterpolargl": [
           {
            "marker": {
             "colorbar": {
              "outlinewidth": 0,
              "ticks": ""
             }
            },
            "type": "scatterpolargl"
           }
          ],
          "scatterternary": [
           {
            "marker": {
             "colorbar": {
              "outlinewidth": 0,
              "ticks": ""
             }
            },
            "type": "scatterternary"
           }
          ],
          "surface": [
           {
            "colorbar": {
             "outlinewidth": 0,
             "ticks": ""
            },
            "colorscale": [
             [
              0,
              "#0d0887"
             ],
             [
              0.1111111111111111,
              "#46039f"
             ],
             [
              0.2222222222222222,
              "#7201a8"
             ],
             [
              0.3333333333333333,
              "#9c179e"
             ],
             [
              0.4444444444444444,
              "#bd3786"
             ],
             [
              0.5555555555555556,
              "#d8576b"
             ],
             [
              0.6666666666666666,
              "#ed7953"
             ],
             [
              0.7777777777777778,
              "#fb9f3a"
             ],
             [
              0.8888888888888888,
              "#fdca26"
             ],
             [
              1,
              "#f0f921"
             ]
            ],
            "type": "surface"
           }
          ],
          "table": [
           {
            "cells": {
             "fill": {
              "color": "#EBF0F8"
             },
             "line": {
              "color": "white"
             }
            },
            "header": {
             "fill": {
              "color": "#C8D4E3"
             },
             "line": {
              "color": "white"
             }
            },
            "type": "table"
           }
          ]
         },
         "layout": {
          "annotationdefaults": {
           "arrowcolor": "#2a3f5f",
           "arrowhead": 0,
           "arrowwidth": 1
          },
          "autotypenumbers": "strict",
          "coloraxis": {
           "colorbar": {
            "outlinewidth": 0,
            "ticks": ""
           }
          },
          "colorscale": {
           "diverging": [
            [
             0,
             "#8e0152"
            ],
            [
             0.1,
             "#c51b7d"
            ],
            [
             0.2,
             "#de77ae"
            ],
            [
             0.3,
             "#f1b6da"
            ],
            [
             0.4,
             "#fde0ef"
            ],
            [
             0.5,
             "#f7f7f7"
            ],
            [
             0.6,
             "#e6f5d0"
            ],
            [
             0.7,
             "#b8e186"
            ],
            [
             0.8,
             "#7fbc41"
            ],
            [
             0.9,
             "#4d9221"
            ],
            [
             1,
             "#276419"
            ]
           ],
           "sequential": [
            [
             0,
             "#0d0887"
            ],
            [
             0.1111111111111111,
             "#46039f"
            ],
            [
             0.2222222222222222,
             "#7201a8"
            ],
            [
             0.3333333333333333,
             "#9c179e"
            ],
            [
             0.4444444444444444,
             "#bd3786"
            ],
            [
             0.5555555555555556,
             "#d8576b"
            ],
            [
             0.6666666666666666,
             "#ed7953"
            ],
            [
             0.7777777777777778,
             "#fb9f3a"
            ],
            [
             0.8888888888888888,
             "#fdca26"
            ],
            [
             1,
             "#f0f921"
            ]
           ],
           "sequentialminus": [
            [
             0,
             "#0d0887"
            ],
            [
             0.1111111111111111,
             "#46039f"
            ],
            [
             0.2222222222222222,
             "#7201a8"
            ],
            [
             0.3333333333333333,
             "#9c179e"
            ],
            [
             0.4444444444444444,
             "#bd3786"
            ],
            [
             0.5555555555555556,
             "#d8576b"
            ],
            [
             0.6666666666666666,
             "#ed7953"
            ],
            [
             0.7777777777777778,
             "#fb9f3a"
            ],
            [
             0.8888888888888888,
             "#fdca26"
            ],
            [
             1,
             "#f0f921"
            ]
           ]
          },
          "colorway": [
           "#636efa",
           "#EF553B",
           "#00cc96",
           "#ab63fa",
           "#FFA15A",
           "#19d3f3",
           "#FF6692",
           "#B6E880",
           "#FF97FF",
           "#FECB52"
          ],
          "font": {
           "color": "#2a3f5f"
          },
          "geo": {
           "bgcolor": "white",
           "lakecolor": "white",
           "landcolor": "#E5ECF6",
           "showlakes": true,
           "showland": true,
           "subunitcolor": "white"
          },
          "hoverlabel": {
           "align": "left"
          },
          "hovermode": "closest",
          "mapbox": {
           "style": "light"
          },
          "paper_bgcolor": "white",
          "plot_bgcolor": "#E5ECF6",
          "polar": {
           "angularaxis": {
            "gridcolor": "white",
            "linecolor": "white",
            "ticks": ""
           },
           "bgcolor": "#E5ECF6",
           "radialaxis": {
            "gridcolor": "white",
            "linecolor": "white",
            "ticks": ""
           }
          },
          "scene": {
           "xaxis": {
            "backgroundcolor": "#E5ECF6",
            "gridcolor": "white",
            "gridwidth": 2,
            "linecolor": "white",
            "showbackground": true,
            "ticks": "",
            "zerolinecolor": "white"
           },
           "yaxis": {
            "backgroundcolor": "#E5ECF6",
            "gridcolor": "white",
            "gridwidth": 2,
            "linecolor": "white",
            "showbackground": true,
            "ticks": "",
            "zerolinecolor": "white"
           },
           "zaxis": {
            "backgroundcolor": "#E5ECF6",
            "gridcolor": "white",
            "gridwidth": 2,
            "linecolor": "white",
            "showbackground": true,
            "ticks": "",
            "zerolinecolor": "white"
           }
          },
          "shapedefaults": {
           "line": {
            "color": "#2a3f5f"
           }
          },
          "ternary": {
           "aaxis": {
            "gridcolor": "white",
            "linecolor": "white",
            "ticks": ""
           },
           "baxis": {
            "gridcolor": "white",
            "linecolor": "white",
            "ticks": ""
           },
           "bgcolor": "#E5ECF6",
           "caxis": {
            "gridcolor": "white",
            "linecolor": "white",
            "ticks": ""
           }
          },
          "title": {
           "x": 0.05
          },
          "xaxis": {
           "automargin": true,
           "gridcolor": "white",
           "linecolor": "white",
           "ticks": "",
           "title": {
            "standoff": 15
           },
           "zerolinecolor": "white",
           "zerolinewidth": 2
          },
          "yaxis": {
           "automargin": true,
           "gridcolor": "white",
           "linecolor": "white",
           "ticks": "",
           "title": {
            "standoff": 15
           },
           "zerolinecolor": "white",
           "zerolinewidth": 2
          }
         }
        },
        "title": {
         "text": "Contratos Laborales Activos por Año"
        },
        "xaxis": {
         "anchor": "y",
         "domain": [
          0,
          1
         ],
         "title": {
          "text": "Año"
         }
        },
        "yaxis": {
         "anchor": "x",
         "domain": [
          0,
          1
         ],
         "title": {
          "text": "Contratos Activos"
         }
        }
       }
      }
     },
     "metadata": {},
     "output_type": "display_data"
    }
   ],
   "source": [
    "import plotly.express as px\n",
    "\n",
    "# Crear el gráfico de burbujas\n",
    "fig = px.scatter(\n",
    "    df_contratos_activos, \n",
    "    x='year_y', \n",
    "    y='active_contracts', \n",
    "    size='active_contracts', \n",
    "    hover_name='year_y', \n",
    "    title='Contratos Laborales Activos por Año',\n",
    "    labels={'active_contracts': 'Contratos Activos', 'year_y': 'Año'},\n",
    "    size_max=60  # Tamaño máximo de las burbujas\n",
    ")\n",
    "\n",
    "fig.show()"
   ]
  },
  {
   "cell_type": "code",
   "execution_count": 68,
   "metadata": {},
   "outputs": [
    {
     "name": "stdout",
     "output_type": "stream",
     "text": [
      "Conteo de Contratos Activos por Organización:\n",
      "Organization: Military Grievances External Review Committee | Comité externe d’examen des griefs militaires - Contratos Activos: 1128\n",
      "Organization: Crown-Indigenous Relations and Northern Affairs Canada | Relations Couronne-Autochtones et Affaires du Nord Canada - Contratos Activos: 946\n",
      "Organization: National Film Board | Office national du film - Contratos Activos: 513\n",
      "Organization: Canadian Human Rights Commission | Commission canadienne des droits de la personne - Contratos Activos: 360\n",
      "Organization: Parole Board of Canada | Commission des libérations conditionnelles du Canada - Contratos Activos: 330\n",
      "Organization: Elections Canada | Élections Canada - Contratos Activos: 212\n",
      "Organization: Natural Sciences and Engineering Research Council of Canada | Conseil de recherches en sciences naturelles et en génie du Canada - Contratos Activos: 99\n",
      "Organization: Public Service Commission of Canada | Commission de la fonction publique du Canada - Contratos Activos: 99\n",
      "Organization: Federal Economic Development Agency for Southern Ontario | Agence fédérale de développement économique pour le Sud de l'Ontario - Contratos Activos: 63\n",
      "Organization: Canadian Space Agency | Agence spatiale canadienne - Contratos Activos: 50\n",
      "Organization: Impact Assessment Agency of Canada | Agence d'évaluation d'impact du Canada - Contratos Activos: 30\n",
      "Organization: Office of the Public Sector Integrity Commissioner of Canada | Commissariat à l'intégrité du secteur public du Canada - Contratos Activos: 28\n",
      "Organization: Canadian Northern Economic Development Agency | Agence canadienne de développement économique du Nord - Contratos Activos: 26\n",
      "Organization: Civilian Review and Complaints Commission for the RCMP | Commission civile d'examen et de traitement des plaintes relatives à la Gendarmerie royale du Canada - Contratos Activos: 23\n",
      "Organization: Social Sciences and Humanities Research Council of Canada | Conseil de recherches en sciences humaines du Canada - Contratos Activos: 12\n",
      "Organization: Canadian Radio-television and Telecommunications Commission | Conseil de la radiodiffusion et des télécommunications canadiennes - Contratos Activos: 8\n",
      "Organization: Office of the Superintendent of Financial Institutions Canada | Bureau du surintendant des institutions financières Canada - Contratos Activos: 6\n",
      "Organization: Statistics Canada | Statistique Canada - Contratos Activos: 1\n"
     ]
    }
   ],
   "source": [
    "import pandas as pd\n",
    "\n",
    "# Contar contratos activos por organización\n",
    "contratos_por_org = df.groupby('owner_org_title_x').size().reset_index(name='count')\n",
    "\n",
    "# Ordenar el conteo de forma descendente para ver las organizaciones con más contratos primero\n",
    "contratos_por_org = contratos_por_org.sort_values(by='count', ascending=False)\n",
    "\n",
    "# Imprimir el conteo de contratos por organización\n",
    "print(\"Conteo de Contratos Activos por Organización:\")\n",
    "for index, row in contratos_por_org.iterrows():\n",
    "    print(f\"Organization: {row['owner_org_title_x']} - Contratos Activos: {row['count']}\")"
   ]
  },
  {
   "cell_type": "code",
   "execution_count": 74,
   "metadata": {},
   "outputs": [
    {
     "data": {
      "application/vnd.plotly.v1+json": {
       "config": {
        "plotlyServerURL": "https://plot.ly"
       },
       "data": [
        {
         "hovertemplate": "<b>%{hovertext}</b><br><br>Organización=%{x}<br>Contratos Activos=%{marker.size}<extra></extra>",
         "hovertext": [
          "Canadian Human Rights Commission | Commission canadienne des droits de la personne"
         ],
         "legendgroup": "Canadian Human Rights Commission | Commission canadienne des droits de la personne",
         "marker": {
          "color": "#636efa",
          "size": [
           360
          ],
          "sizemode": "area",
          "sizeref": 0.31333333333333335,
          "symbol": "circle"
         },
         "mode": "markers",
         "name": "Canadian Human Rights Commission | Commission canadienne des droits de la personne",
         "orientation": "v",
         "showlegend": true,
         "type": "scatter",
         "x": [
          "Canadian Human Rights Commission | Commission canadienne des droits de la personne"
         ],
         "xaxis": "x",
         "y": [
          360
         ],
         "yaxis": "y"
        },
        {
         "hovertemplate": "<b>%{hovertext}</b><br><br>Organización=%{x}<br>Contratos Activos=%{marker.size}<extra></extra>",
         "hovertext": [
          "Canadian Northern Economic Development Agency | Agence canadienne de développement économique du Nord"
         ],
         "legendgroup": "Canadian Northern Economic Development Agency | Agence canadienne de développement économique du Nord",
         "marker": {
          "color": "#EF553B",
          "size": [
           26
          ],
          "sizemode": "area",
          "sizeref": 0.31333333333333335,
          "symbol": "circle"
         },
         "mode": "markers",
         "name": "Canadian Northern Economic Development Agency | Agence canadienne de développement économique du Nord",
         "orientation": "v",
         "showlegend": true,
         "type": "scatter",
         "x": [
          "Canadian Northern Economic Development Agency | Agence canadienne de développement économique du Nord"
         ],
         "xaxis": "x",
         "y": [
          26
         ],
         "yaxis": "y"
        },
        {
         "hovertemplate": "<b>%{hovertext}</b><br><br>Organización=%{x}<br>Contratos Activos=%{marker.size}<extra></extra>",
         "hovertext": [
          "Canadian Radio-television and Telecommunications Commission | Conseil de la radiodiffusion et des télécommunications canadiennes"
         ],
         "legendgroup": "Canadian Radio-television and Telecommunications Commission | Conseil de la radiodiffusion et des télécommunications canadiennes",
         "marker": {
          "color": "#00cc96",
          "size": [
           8
          ],
          "sizemode": "area",
          "sizeref": 0.31333333333333335,
          "symbol": "circle"
         },
         "mode": "markers",
         "name": "Canadian Radio-television and Telecommunications Commission | Conseil de la radiodiffusion et des télécommunications canadiennes",
         "orientation": "v",
         "showlegend": true,
         "type": "scatter",
         "x": [
          "Canadian Radio-television and Telecommunications Commission | Conseil de la radiodiffusion et des télécommunications canadiennes"
         ],
         "xaxis": "x",
         "y": [
          8
         ],
         "yaxis": "y"
        },
        {
         "hovertemplate": "<b>%{hovertext}</b><br><br>Organización=%{x}<br>Contratos Activos=%{marker.size}<extra></extra>",
         "hovertext": [
          "Canadian Space Agency | Agence spatiale canadienne"
         ],
         "legendgroup": "Canadian Space Agency | Agence spatiale canadienne",
         "marker": {
          "color": "#ab63fa",
          "size": [
           50
          ],
          "sizemode": "area",
          "sizeref": 0.31333333333333335,
          "symbol": "circle"
         },
         "mode": "markers",
         "name": "Canadian Space Agency | Agence spatiale canadienne",
         "orientation": "v",
         "showlegend": true,
         "type": "scatter",
         "x": [
          "Canadian Space Agency | Agence spatiale canadienne"
         ],
         "xaxis": "x",
         "y": [
          50
         ],
         "yaxis": "y"
        },
        {
         "hovertemplate": "<b>%{hovertext}</b><br><br>Organización=%{x}<br>Contratos Activos=%{marker.size}<extra></extra>",
         "hovertext": [
          "Civilian Review and Complaints Commission for the RCMP | Commission civile d'examen et de traitement des plaintes relatives à la Gendarmerie royale du Canada"
         ],
         "legendgroup": "Civilian Review and Complaints Commission for the RCMP | Commission civile d'examen et de traitement des plaintes relatives à la Gendarmerie royale du Canada",
         "marker": {
          "color": "#FFA15A",
          "size": [
           23
          ],
          "sizemode": "area",
          "sizeref": 0.31333333333333335,
          "symbol": "circle"
         },
         "mode": "markers",
         "name": "Civilian Review and Complaints Commission for the RCMP | Commission civile d'examen et de traitement des plaintes relatives à la Gendarmerie royale du Canada",
         "orientation": "v",
         "showlegend": true,
         "type": "scatter",
         "x": [
          "Civilian Review and Complaints Commission for the RCMP | Commission civile d'examen et de traitement des plaintes relatives à la Gendarmerie royale du Canada"
         ],
         "xaxis": "x",
         "y": [
          23
         ],
         "yaxis": "y"
        },
        {
         "hovertemplate": "<b>%{hovertext}</b><br><br>Organización=%{x}<br>Contratos Activos=%{marker.size}<extra></extra>",
         "hovertext": [
          "Crown-Indigenous Relations and Northern Affairs Canada | Relations Couronne-Autochtones et Affaires du Nord Canada"
         ],
         "legendgroup": "Crown-Indigenous Relations and Northern Affairs Canada | Relations Couronne-Autochtones et Affaires du Nord Canada",
         "marker": {
          "color": "#19d3f3",
          "size": [
           946
          ],
          "sizemode": "area",
          "sizeref": 0.31333333333333335,
          "symbol": "circle"
         },
         "mode": "markers",
         "name": "Crown-Indigenous Relations and Northern Affairs Canada | Relations Couronne-Autochtones et Affaires du Nord Canada",
         "orientation": "v",
         "showlegend": true,
         "type": "scatter",
         "x": [
          "Crown-Indigenous Relations and Northern Affairs Canada | Relations Couronne-Autochtones et Affaires du Nord Canada"
         ],
         "xaxis": "x",
         "y": [
          946
         ],
         "yaxis": "y"
        },
        {
         "hovertemplate": "<b>%{hovertext}</b><br><br>Organización=%{x}<br>Contratos Activos=%{marker.size}<extra></extra>",
         "hovertext": [
          "Elections Canada | Élections Canada"
         ],
         "legendgroup": "Elections Canada | Élections Canada",
         "marker": {
          "color": "#FF6692",
          "size": [
           212
          ],
          "sizemode": "area",
          "sizeref": 0.31333333333333335,
          "symbol": "circle"
         },
         "mode": "markers",
         "name": "Elections Canada | Élections Canada",
         "orientation": "v",
         "showlegend": true,
         "type": "scatter",
         "x": [
          "Elections Canada | Élections Canada"
         ],
         "xaxis": "x",
         "y": [
          212
         ],
         "yaxis": "y"
        },
        {
         "hovertemplate": "<b>%{hovertext}</b><br><br>Organización=%{x}<br>Contratos Activos=%{marker.size}<extra></extra>",
         "hovertext": [
          "Federal Economic Development Agency for Southern Ontario | Agence fédérale de développement économique pour le Sud de l'Ontario"
         ],
         "legendgroup": "Federal Economic Development Agency for Southern Ontario | Agence fédérale de développement économique pour le Sud de l'Ontario",
         "marker": {
          "color": "#B6E880",
          "size": [
           63
          ],
          "sizemode": "area",
          "sizeref": 0.31333333333333335,
          "symbol": "circle"
         },
         "mode": "markers",
         "name": "Federal Economic Development Agency for Southern Ontario | Agence fédérale de développement économique pour le Sud de l'Ontario",
         "orientation": "v",
         "showlegend": true,
         "type": "scatter",
         "x": [
          "Federal Economic Development Agency for Southern Ontario | Agence fédérale de développement économique pour le Sud de l'Ontario"
         ],
         "xaxis": "x",
         "y": [
          63
         ],
         "yaxis": "y"
        },
        {
         "hovertemplate": "<b>%{hovertext}</b><br><br>Organización=%{x}<br>Contratos Activos=%{marker.size}<extra></extra>",
         "hovertext": [
          "Impact Assessment Agency of Canada | Agence d'évaluation d'impact du Canada"
         ],
         "legendgroup": "Impact Assessment Agency of Canada | Agence d'évaluation d'impact du Canada",
         "marker": {
          "color": "#FF97FF",
          "size": [
           30
          ],
          "sizemode": "area",
          "sizeref": 0.31333333333333335,
          "symbol": "circle"
         },
         "mode": "markers",
         "name": "Impact Assessment Agency of Canada | Agence d'évaluation d'impact du Canada",
         "orientation": "v",
         "showlegend": true,
         "type": "scatter",
         "x": [
          "Impact Assessment Agency of Canada | Agence d'évaluation d'impact du Canada"
         ],
         "xaxis": "x",
         "y": [
          30
         ],
         "yaxis": "y"
        },
        {
         "hovertemplate": "<b>%{hovertext}</b><br><br>Organización=%{x}<br>Contratos Activos=%{marker.size}<extra></extra>",
         "hovertext": [
          "Military Grievances External Review Committee | Comité externe d’examen des griefs militaires"
         ],
         "legendgroup": "Military Grievances External Review Committee | Comité externe d’examen des griefs militaires",
         "marker": {
          "color": "#FECB52",
          "size": [
           1128
          ],
          "sizemode": "area",
          "sizeref": 0.31333333333333335,
          "symbol": "circle"
         },
         "mode": "markers",
         "name": "Military Grievances External Review Committee | Comité externe d’examen des griefs militaires",
         "orientation": "v",
         "showlegend": true,
         "type": "scatter",
         "x": [
          "Military Grievances External Review Committee | Comité externe d’examen des griefs militaires"
         ],
         "xaxis": "x",
         "y": [
          1128
         ],
         "yaxis": "y"
        },
        {
         "hovertemplate": "<b>%{hovertext}</b><br><br>Organización=%{x}<br>Contratos Activos=%{marker.size}<extra></extra>",
         "hovertext": [
          "National Film Board | Office national du film"
         ],
         "legendgroup": "National Film Board | Office national du film",
         "marker": {
          "color": "#636efa",
          "size": [
           513
          ],
          "sizemode": "area",
          "sizeref": 0.31333333333333335,
          "symbol": "circle"
         },
         "mode": "markers",
         "name": "National Film Board | Office national du film",
         "orientation": "v",
         "showlegend": true,
         "type": "scatter",
         "x": [
          "National Film Board | Office national du film"
         ],
         "xaxis": "x",
         "y": [
          513
         ],
         "yaxis": "y"
        },
        {
         "hovertemplate": "<b>%{hovertext}</b><br><br>Organización=%{x}<br>Contratos Activos=%{marker.size}<extra></extra>",
         "hovertext": [
          "Natural Sciences and Engineering Research Council of Canada | Conseil de recherches en sciences naturelles et en génie du Canada"
         ],
         "legendgroup": "Natural Sciences and Engineering Research Council of Canada | Conseil de recherches en sciences naturelles et en génie du Canada",
         "marker": {
          "color": "#EF553B",
          "size": [
           99
          ],
          "sizemode": "area",
          "sizeref": 0.31333333333333335,
          "symbol": "circle"
         },
         "mode": "markers",
         "name": "Natural Sciences and Engineering Research Council of Canada | Conseil de recherches en sciences naturelles et en génie du Canada",
         "orientation": "v",
         "showlegend": true,
         "type": "scatter",
         "x": [
          "Natural Sciences and Engineering Research Council of Canada | Conseil de recherches en sciences naturelles et en génie du Canada"
         ],
         "xaxis": "x",
         "y": [
          99
         ],
         "yaxis": "y"
        },
        {
         "hovertemplate": "<b>%{hovertext}</b><br><br>Organización=%{x}<br>Contratos Activos=%{marker.size}<extra></extra>",
         "hovertext": [
          "Office of the Public Sector Integrity Commissioner of Canada | Commissariat à l'intégrité du secteur public du Canada"
         ],
         "legendgroup": "Office of the Public Sector Integrity Commissioner of Canada | Commissariat à l'intégrité du secteur public du Canada",
         "marker": {
          "color": "#00cc96",
          "size": [
           28
          ],
          "sizemode": "area",
          "sizeref": 0.31333333333333335,
          "symbol": "circle"
         },
         "mode": "markers",
         "name": "Office of the Public Sector Integrity Commissioner of Canada | Commissariat à l'intégrité du secteur public du Canada",
         "orientation": "v",
         "showlegend": true,
         "type": "scatter",
         "x": [
          "Office of the Public Sector Integrity Commissioner of Canada | Commissariat à l'intégrité du secteur public du Canada"
         ],
         "xaxis": "x",
         "y": [
          28
         ],
         "yaxis": "y"
        },
        {
         "hovertemplate": "<b>%{hovertext}</b><br><br>Organización=%{x}<br>Contratos Activos=%{marker.size}<extra></extra>",
         "hovertext": [
          "Office of the Superintendent of Financial Institutions Canada | Bureau du surintendant des institutions financières Canada"
         ],
         "legendgroup": "Office of the Superintendent of Financial Institutions Canada | Bureau du surintendant des institutions financières Canada",
         "marker": {
          "color": "#ab63fa",
          "size": [
           6
          ],
          "sizemode": "area",
          "sizeref": 0.31333333333333335,
          "symbol": "circle"
         },
         "mode": "markers",
         "name": "Office of the Superintendent of Financial Institutions Canada | Bureau du surintendant des institutions financières Canada",
         "orientation": "v",
         "showlegend": true,
         "type": "scatter",
         "x": [
          "Office of the Superintendent of Financial Institutions Canada | Bureau du surintendant des institutions financières Canada"
         ],
         "xaxis": "x",
         "y": [
          6
         ],
         "yaxis": "y"
        },
        {
         "hovertemplate": "<b>%{hovertext}</b><br><br>Organización=%{x}<br>Contratos Activos=%{marker.size}<extra></extra>",
         "hovertext": [
          "Parole Board of Canada | Commission des libérations conditionnelles du Canada"
         ],
         "legendgroup": "Parole Board of Canada | Commission des libérations conditionnelles du Canada",
         "marker": {
          "color": "#FFA15A",
          "size": [
           330
          ],
          "sizemode": "area",
          "sizeref": 0.31333333333333335,
          "symbol": "circle"
         },
         "mode": "markers",
         "name": "Parole Board of Canada | Commission des libérations conditionnelles du Canada",
         "orientation": "v",
         "showlegend": true,
         "type": "scatter",
         "x": [
          "Parole Board of Canada | Commission des libérations conditionnelles du Canada"
         ],
         "xaxis": "x",
         "y": [
          330
         ],
         "yaxis": "y"
        },
        {
         "hovertemplate": "<b>%{hovertext}</b><br><br>Organización=%{x}<br>Contratos Activos=%{marker.size}<extra></extra>",
         "hovertext": [
          "Public Service Commission of Canada | Commission de la fonction publique du Canada"
         ],
         "legendgroup": "Public Service Commission of Canada | Commission de la fonction publique du Canada",
         "marker": {
          "color": "#19d3f3",
          "size": [
           99
          ],
          "sizemode": "area",
          "sizeref": 0.31333333333333335,
          "symbol": "circle"
         },
         "mode": "markers",
         "name": "Public Service Commission of Canada | Commission de la fonction publique du Canada",
         "orientation": "v",
         "showlegend": true,
         "type": "scatter",
         "x": [
          "Public Service Commission of Canada | Commission de la fonction publique du Canada"
         ],
         "xaxis": "x",
         "y": [
          99
         ],
         "yaxis": "y"
        },
        {
         "hovertemplate": "<b>%{hovertext}</b><br><br>Organización=%{x}<br>Contratos Activos=%{marker.size}<extra></extra>",
         "hovertext": [
          "Social Sciences and Humanities Research Council of Canada | Conseil de recherches en sciences humaines du Canada"
         ],
         "legendgroup": "Social Sciences and Humanities Research Council of Canada | Conseil de recherches en sciences humaines du Canada",
         "marker": {
          "color": "#FF6692",
          "size": [
           12
          ],
          "sizemode": "area",
          "sizeref": 0.31333333333333335,
          "symbol": "circle"
         },
         "mode": "markers",
         "name": "Social Sciences and Humanities Research Council of Canada | Conseil de recherches en sciences humaines du Canada",
         "orientation": "v",
         "showlegend": true,
         "type": "scatter",
         "x": [
          "Social Sciences and Humanities Research Council of Canada | Conseil de recherches en sciences humaines du Canada"
         ],
         "xaxis": "x",
         "y": [
          12
         ],
         "yaxis": "y"
        },
        {
         "hovertemplate": "<b>%{hovertext}</b><br><br>Organización=%{x}<br>Contratos Activos=%{marker.size}<extra></extra>",
         "hovertext": [
          "Statistics Canada | Statistique Canada"
         ],
         "legendgroup": "Statistics Canada | Statistique Canada",
         "marker": {
          "color": "#B6E880",
          "size": [
           1
          ],
          "sizemode": "area",
          "sizeref": 0.31333333333333335,
          "symbol": "circle"
         },
         "mode": "markers",
         "name": "Statistics Canada | Statistique Canada",
         "orientation": "v",
         "showlegend": true,
         "type": "scatter",
         "x": [
          "Statistics Canada | Statistique Canada"
         ],
         "xaxis": "x",
         "y": [
          1
         ],
         "yaxis": "y"
        }
       ],
       "layout": {
        "legend": {
         "itemsizing": "constant",
         "title": {
          "text": "Organización"
         },
         "tracegroupgap": 0
        },
        "showlegend": false,
        "template": {
         "data": {
          "bar": [
           {
            "error_x": {
             "color": "#2a3f5f"
            },
            "error_y": {
             "color": "#2a3f5f"
            },
            "marker": {
             "line": {
              "color": "#E5ECF6",
              "width": 0.5
             },
             "pattern": {
              "fillmode": "overlay",
              "size": 10,
              "solidity": 0.2
             }
            },
            "type": "bar"
           }
          ],
          "barpolar": [
           {
            "marker": {
             "line": {
              "color": "#E5ECF6",
              "width": 0.5
             },
             "pattern": {
              "fillmode": "overlay",
              "size": 10,
              "solidity": 0.2
             }
            },
            "type": "barpolar"
           }
          ],
          "carpet": [
           {
            "aaxis": {
             "endlinecolor": "#2a3f5f",
             "gridcolor": "white",
             "linecolor": "white",
             "minorgridcolor": "white",
             "startlinecolor": "#2a3f5f"
            },
            "baxis": {
             "endlinecolor": "#2a3f5f",
             "gridcolor": "white",
             "linecolor": "white",
             "minorgridcolor": "white",
             "startlinecolor": "#2a3f5f"
            },
            "type": "carpet"
           }
          ],
          "choropleth": [
           {
            "colorbar": {
             "outlinewidth": 0,
             "ticks": ""
            },
            "type": "choropleth"
           }
          ],
          "contour": [
           {
            "colorbar": {
             "outlinewidth": 0,
             "ticks": ""
            },
            "colorscale": [
             [
              0,
              "#0d0887"
             ],
             [
              0.1111111111111111,
              "#46039f"
             ],
             [
              0.2222222222222222,
              "#7201a8"
             ],
             [
              0.3333333333333333,
              "#9c179e"
             ],
             [
              0.4444444444444444,
              "#bd3786"
             ],
             [
              0.5555555555555556,
              "#d8576b"
             ],
             [
              0.6666666666666666,
              "#ed7953"
             ],
             [
              0.7777777777777778,
              "#fb9f3a"
             ],
             [
              0.8888888888888888,
              "#fdca26"
             ],
             [
              1,
              "#f0f921"
             ]
            ],
            "type": "contour"
           }
          ],
          "contourcarpet": [
           {
            "colorbar": {
             "outlinewidth": 0,
             "ticks": ""
            },
            "type": "contourcarpet"
           }
          ],
          "heatmap": [
           {
            "colorbar": {
             "outlinewidth": 0,
             "ticks": ""
            },
            "colorscale": [
             [
              0,
              "#0d0887"
             ],
             [
              0.1111111111111111,
              "#46039f"
             ],
             [
              0.2222222222222222,
              "#7201a8"
             ],
             [
              0.3333333333333333,
              "#9c179e"
             ],
             [
              0.4444444444444444,
              "#bd3786"
             ],
             [
              0.5555555555555556,
              "#d8576b"
             ],
             [
              0.6666666666666666,
              "#ed7953"
             ],
             [
              0.7777777777777778,
              "#fb9f3a"
             ],
             [
              0.8888888888888888,
              "#fdca26"
             ],
             [
              1,
              "#f0f921"
             ]
            ],
            "type": "heatmap"
           }
          ],
          "heatmapgl": [
           {
            "colorbar": {
             "outlinewidth": 0,
             "ticks": ""
            },
            "colorscale": [
             [
              0,
              "#0d0887"
             ],
             [
              0.1111111111111111,
              "#46039f"
             ],
             [
              0.2222222222222222,
              "#7201a8"
             ],
             [
              0.3333333333333333,
              "#9c179e"
             ],
             [
              0.4444444444444444,
              "#bd3786"
             ],
             [
              0.5555555555555556,
              "#d8576b"
             ],
             [
              0.6666666666666666,
              "#ed7953"
             ],
             [
              0.7777777777777778,
              "#fb9f3a"
             ],
             [
              0.8888888888888888,
              "#fdca26"
             ],
             [
              1,
              "#f0f921"
             ]
            ],
            "type": "heatmapgl"
           }
          ],
          "histogram": [
           {
            "marker": {
             "pattern": {
              "fillmode": "overlay",
              "size": 10,
              "solidity": 0.2
             }
            },
            "type": "histogram"
           }
          ],
          "histogram2d": [
           {
            "colorbar": {
             "outlinewidth": 0,
             "ticks": ""
            },
            "colorscale": [
             [
              0,
              "#0d0887"
             ],
             [
              0.1111111111111111,
              "#46039f"
             ],
             [
              0.2222222222222222,
              "#7201a8"
             ],
             [
              0.3333333333333333,
              "#9c179e"
             ],
             [
              0.4444444444444444,
              "#bd3786"
             ],
             [
              0.5555555555555556,
              "#d8576b"
             ],
             [
              0.6666666666666666,
              "#ed7953"
             ],
             [
              0.7777777777777778,
              "#fb9f3a"
             ],
             [
              0.8888888888888888,
              "#fdca26"
             ],
             [
              1,
              "#f0f921"
             ]
            ],
            "type": "histogram2d"
           }
          ],
          "histogram2dcontour": [
           {
            "colorbar": {
             "outlinewidth": 0,
             "ticks": ""
            },
            "colorscale": [
             [
              0,
              "#0d0887"
             ],
             [
              0.1111111111111111,
              "#46039f"
             ],
             [
              0.2222222222222222,
              "#7201a8"
             ],
             [
              0.3333333333333333,
              "#9c179e"
             ],
             [
              0.4444444444444444,
              "#bd3786"
             ],
             [
              0.5555555555555556,
              "#d8576b"
             ],
             [
              0.6666666666666666,
              "#ed7953"
             ],
             [
              0.7777777777777778,
              "#fb9f3a"
             ],
             [
              0.8888888888888888,
              "#fdca26"
             ],
             [
              1,
              "#f0f921"
             ]
            ],
            "type": "histogram2dcontour"
           }
          ],
          "mesh3d": [
           {
            "colorbar": {
             "outlinewidth": 0,
             "ticks": ""
            },
            "type": "mesh3d"
           }
          ],
          "parcoords": [
           {
            "line": {
             "colorbar": {
              "outlinewidth": 0,
              "ticks": ""
             }
            },
            "type": "parcoords"
           }
          ],
          "pie": [
           {
            "automargin": true,
            "type": "pie"
           }
          ],
          "scatter": [
           {
            "fillpattern": {
             "fillmode": "overlay",
             "size": 10,
             "solidity": 0.2
            },
            "type": "scatter"
           }
          ],
          "scatter3d": [
           {
            "line": {
             "colorbar": {
              "outlinewidth": 0,
              "ticks": ""
             }
            },
            "marker": {
             "colorbar": {
              "outlinewidth": 0,
              "ticks": ""
             }
            },
            "type": "scatter3d"
           }
          ],
          "scattercarpet": [
           {
            "marker": {
             "colorbar": {
              "outlinewidth": 0,
              "ticks": ""
             }
            },
            "type": "scattercarpet"
           }
          ],
          "scattergeo": [
           {
            "marker": {
             "colorbar": {
              "outlinewidth": 0,
              "ticks": ""
             }
            },
            "type": "scattergeo"
           }
          ],
          "scattergl": [
           {
            "marker": {
             "colorbar": {
              "outlinewidth": 0,
              "ticks": ""
             }
            },
            "type": "scattergl"
           }
          ],
          "scattermapbox": [
           {
            "marker": {
             "colorbar": {
              "outlinewidth": 0,
              "ticks": ""
             }
            },
            "type": "scattermapbox"
           }
          ],
          "scatterpolar": [
           {
            "marker": {
             "colorbar": {
              "outlinewidth": 0,
              "ticks": ""
             }
            },
            "type": "scatterpolar"
           }
          ],
          "scatterpolargl": [
           {
            "marker": {
             "colorbar": {
              "outlinewidth": 0,
              "ticks": ""
             }
            },
            "type": "scatterpolargl"
           }
          ],
          "scatterternary": [
           {
            "marker": {
             "colorbar": {
              "outlinewidth": 0,
              "ticks": ""
             }
            },
            "type": "scatterternary"
           }
          ],
          "surface": [
           {
            "colorbar": {
             "outlinewidth": 0,
             "ticks": ""
            },
            "colorscale": [
             [
              0,
              "#0d0887"
             ],
             [
              0.1111111111111111,
              "#46039f"
             ],
             [
              0.2222222222222222,
              "#7201a8"
             ],
             [
              0.3333333333333333,
              "#9c179e"
             ],
             [
              0.4444444444444444,
              "#bd3786"
             ],
             [
              0.5555555555555556,
              "#d8576b"
             ],
             [
              0.6666666666666666,
              "#ed7953"
             ],
             [
              0.7777777777777778,
              "#fb9f3a"
             ],
             [
              0.8888888888888888,
              "#fdca26"
             ],
             [
              1,
              "#f0f921"
             ]
            ],
            "type": "surface"
           }
          ],
          "table": [
           {
            "cells": {
             "fill": {
              "color": "#EBF0F8"
             },
             "line": {
              "color": "white"
             }
            },
            "header": {
             "fill": {
              "color": "#C8D4E3"
             },
             "line": {
              "color": "white"
             }
            },
            "type": "table"
           }
          ]
         },
         "layout": {
          "annotationdefaults": {
           "arrowcolor": "#2a3f5f",
           "arrowhead": 0,
           "arrowwidth": 1
          },
          "autotypenumbers": "strict",
          "coloraxis": {
           "colorbar": {
            "outlinewidth": 0,
            "ticks": ""
           }
          },
          "colorscale": {
           "diverging": [
            [
             0,
             "#8e0152"
            ],
            [
             0.1,
             "#c51b7d"
            ],
            [
             0.2,
             "#de77ae"
            ],
            [
             0.3,
             "#f1b6da"
            ],
            [
             0.4,
             "#fde0ef"
            ],
            [
             0.5,
             "#f7f7f7"
            ],
            [
             0.6,
             "#e6f5d0"
            ],
            [
             0.7,
             "#b8e186"
            ],
            [
             0.8,
             "#7fbc41"
            ],
            [
             0.9,
             "#4d9221"
            ],
            [
             1,
             "#276419"
            ]
           ],
           "sequential": [
            [
             0,
             "#0d0887"
            ],
            [
             0.1111111111111111,
             "#46039f"
            ],
            [
             0.2222222222222222,
             "#7201a8"
            ],
            [
             0.3333333333333333,
             "#9c179e"
            ],
            [
             0.4444444444444444,
             "#bd3786"
            ],
            [
             0.5555555555555556,
             "#d8576b"
            ],
            [
             0.6666666666666666,
             "#ed7953"
            ],
            [
             0.7777777777777778,
             "#fb9f3a"
            ],
            [
             0.8888888888888888,
             "#fdca26"
            ],
            [
             1,
             "#f0f921"
            ]
           ],
           "sequentialminus": [
            [
             0,
             "#0d0887"
            ],
            [
             0.1111111111111111,
             "#46039f"
            ],
            [
             0.2222222222222222,
             "#7201a8"
            ],
            [
             0.3333333333333333,
             "#9c179e"
            ],
            [
             0.4444444444444444,
             "#bd3786"
            ],
            [
             0.5555555555555556,
             "#d8576b"
            ],
            [
             0.6666666666666666,
             "#ed7953"
            ],
            [
             0.7777777777777778,
             "#fb9f3a"
            ],
            [
             0.8888888888888888,
             "#fdca26"
            ],
            [
             1,
             "#f0f921"
            ]
           ]
          },
          "colorway": [
           "#636efa",
           "#EF553B",
           "#00cc96",
           "#ab63fa",
           "#FFA15A",
           "#19d3f3",
           "#FF6692",
           "#B6E880",
           "#FF97FF",
           "#FECB52"
          ],
          "font": {
           "color": "#2a3f5f"
          },
          "geo": {
           "bgcolor": "white",
           "lakecolor": "white",
           "landcolor": "#E5ECF6",
           "showlakes": true,
           "showland": true,
           "subunitcolor": "white"
          },
          "hoverlabel": {
           "align": "left"
          },
          "hovermode": "closest",
          "mapbox": {
           "style": "light"
          },
          "paper_bgcolor": "white",
          "plot_bgcolor": "#E5ECF6",
          "polar": {
           "angularaxis": {
            "gridcolor": "white",
            "linecolor": "white",
            "ticks": ""
           },
           "bgcolor": "#E5ECF6",
           "radialaxis": {
            "gridcolor": "white",
            "linecolor": "white",
            "ticks": ""
           }
          },
          "scene": {
           "xaxis": {
            "backgroundcolor": "#E5ECF6",
            "gridcolor": "white",
            "gridwidth": 2,
            "linecolor": "white",
            "showbackground": true,
            "ticks": "",
            "zerolinecolor": "white"
           },
           "yaxis": {
            "backgroundcolor": "#E5ECF6",
            "gridcolor": "white",
            "gridwidth": 2,
            "linecolor": "white",
            "showbackground": true,
            "ticks": "",
            "zerolinecolor": "white"
           },
           "zaxis": {
            "backgroundcolor": "#E5ECF6",
            "gridcolor": "white",
            "gridwidth": 2,
            "linecolor": "white",
            "showbackground": true,
            "ticks": "",
            "zerolinecolor": "white"
           }
          },
          "shapedefaults": {
           "line": {
            "color": "#2a3f5f"
           }
          },
          "ternary": {
           "aaxis": {
            "gridcolor": "white",
            "linecolor": "white",
            "ticks": ""
           },
           "baxis": {
            "gridcolor": "white",
            "linecolor": "white",
            "ticks": ""
           },
           "bgcolor": "#E5ECF6",
           "caxis": {
            "gridcolor": "white",
            "linecolor": "white",
            "ticks": ""
           }
          },
          "title": {
           "x": 0.05
          },
          "xaxis": {
           "automargin": true,
           "gridcolor": "white",
           "linecolor": "white",
           "ticks": "",
           "title": {
            "standoff": 15
           },
           "zerolinecolor": "white",
           "zerolinewidth": 2
          },
          "yaxis": {
           "automargin": true,
           "gridcolor": "white",
           "linecolor": "white",
           "ticks": "",
           "title": {
            "standoff": 15
           },
           "zerolinecolor": "white",
           "zerolinewidth": 2
          }
         }
        },
        "title": {
         "text": "Contratos Activos por Organización"
        },
        "xaxis": {
         "anchor": "y",
         "categoryarray": [
          "Canadian Human Rights Commission | Commission canadienne des droits de la personne",
          "Canadian Northern Economic Development Agency | Agence canadienne de développement économique du Nord",
          "Canadian Radio-television and Telecommunications Commission | Conseil de la radiodiffusion et des télécommunications canadiennes",
          "Canadian Space Agency | Agence spatiale canadienne",
          "Civilian Review and Complaints Commission for the RCMP | Commission civile d'examen et de traitement des plaintes relatives à la Gendarmerie royale du Canada",
          "Crown-Indigenous Relations and Northern Affairs Canada | Relations Couronne-Autochtones et Affaires du Nord Canada",
          "Elections Canada | Élections Canada",
          "Federal Economic Development Agency for Southern Ontario | Agence fédérale de développement économique pour le Sud de l'Ontario",
          "Impact Assessment Agency of Canada | Agence d'évaluation d'impact du Canada",
          "Military Grievances External Review Committee | Comité externe d’examen des griefs militaires",
          "National Film Board | Office national du film",
          "Natural Sciences and Engineering Research Council of Canada | Conseil de recherches en sciences naturelles et en génie du Canada",
          "Office of the Public Sector Integrity Commissioner of Canada | Commissariat à l'intégrité du secteur public du Canada",
          "Office of the Superintendent of Financial Institutions Canada | Bureau du surintendant des institutions financières Canada",
          "Parole Board of Canada | Commission des libérations conditionnelles du Canada",
          "Public Service Commission of Canada | Commission de la fonction publique du Canada",
          "Social Sciences and Humanities Research Council of Canada | Conseil de recherches en sciences humaines du Canada",
          "Statistics Canada | Statistique Canada"
         ],
         "categoryorder": "array",
         "domain": [
          0,
          1
         ],
         "showticklabels": false,
         "title": {
          "text": "Organización"
         }
        },
        "yaxis": {
         "anchor": "x",
         "domain": [
          0,
          1
         ],
         "title": {
          "text": "Contratos Activos"
         }
        }
       }
      }
     },
     "metadata": {},
     "output_type": "display_data"
    }
   ],
   "source": [
    "import plotly.express as px\n",
    "\n",
    "# Contar contratos activos por organización responsable\n",
    "contratos_por_org = df.groupby('owner_org_title_x').size().reset_index(name='count')\n",
    "\n",
    "# Crear el gráfico de burbujas para organizaciones\n",
    "fig_org = px.scatter(\n",
    "    contratos_por_org,\n",
    "    x='owner_org_title_x',\n",
    "    y='count',\n",
    "    size='count',\n",
    "    color='owner_org_title_x',  # Asignar un color diferente a cada grupo\n",
    "    hover_name='owner_org_title_x',\n",
    "    title='Contratos Activos por Organización',\n",
    "    labels={'count': 'Contratos Activos', 'owner_org_title_x': 'Organización'},\n",
    "    size_max=60\n",
    ")\n",
    "\n",
    "# Ajustar diseño para ocultar etiquetas en el eje X\n",
    "fig_org.update_layout(\n",
    "    xaxis=dict(showticklabels=False),  # Ocultar etiquetas del eje X\n",
    "    showlegend=False  # Ocultar la leyenda para mantener el gráfico limpio\n",
    ")\n",
    "\n",
    "# Mostrar el gráfico\n",
    "fig_org.show()"
   ]
  },
  {
   "cell_type": "code",
   "execution_count": 69,
   "metadata": {},
   "outputs": [
    {
     "data": {
      "application/vnd.plotly.v1+json": {
       "config": {
        "plotlyServerURL": "https://plot.ly"
       },
       "data": [
        {
         "hovertemplate": "<b>%{hovertext}</b><br><br>Descripción=%{x}<br>Contratos Activos=%{marker.size}<extra></extra>",
         "hovertext": [
          " CHAIRPERSONS MERIT AWARD"
         ],
         "legendgroup": " CHAIRPERSONS MERIT AWARD",
         "marker": {
          "color": "#636efa",
          "size": [
           47
          ],
          "sizemode": "area",
          "sizeref": 0.12,
          "symbol": "circle"
         },
         "mode": "markers",
         "name": " CHAIRPERSONS MERIT AWARD",
         "orientation": "v",
         "showlegend": true,
         "type": "scatter",
         "x": [
          " CHAIRPERSONS MERIT AWARD"
         ],
         "xaxis": "x",
         "y": [
          47
         ],
         "yaxis": "y"
        },
        {
         "hovertemplate": "<b>%{hovertext}</b><br><br>Descripción=%{x}<br>Contratos Activos=%{marker.size}<extra></extra>",
         "hovertext": [
          " CLIENT SOFTWARE - DCE"
         ],
         "legendgroup": " CLIENT SOFTWARE - DCE",
         "marker": {
          "color": "#EF553B",
          "size": [
           47
          ],
          "sizemode": "area",
          "sizeref": 0.12,
          "symbol": "circle"
         },
         "mode": "markers",
         "name": " CLIENT SOFTWARE - DCE",
         "orientation": "v",
         "showlegend": true,
         "type": "scatter",
         "x": [
          " CLIENT SOFTWARE - DCE"
         ],
         "xaxis": "x",
         "y": [
          47
         ],
         "yaxis": "y"
        },
        {
         "hovertemplate": "<b>%{hovertext}</b><br><br>Descripción=%{x}<br>Contratos Activos=%{marker.size}<extra></extra>",
         "hovertext": [
          " COMMUNICATIONS PREOFESSIONAL SERVICES"
         ],
         "legendgroup": " COMMUNICATIONS PREOFESSIONAL SERVICES",
         "marker": {
          "color": "#00cc96",
          "size": [
           47
          ],
          "sizemode": "area",
          "sizeref": 0.12,
          "symbol": "circle"
         },
         "mode": "markers",
         "name": " COMMUNICATIONS PREOFESSIONAL SERVICES",
         "orientation": "v",
         "showlegend": true,
         "type": "scatter",
         "x": [
          " COMMUNICATIONS PREOFESSIONAL SERVICES"
         ],
         "xaxis": "x",
         "y": [
          47
         ],
         "yaxis": "y"
        },
        {
         "hovertemplate": "<b>%{hovertext}</b><br><br>Descripción=%{x}<br>Contratos Activos=%{marker.size}<extra></extra>",
         "hovertext": [
          " COMMUNICATIONS PROFESSIONAL SERVICES"
         ],
         "legendgroup": " COMMUNICATIONS PROFESSIONAL SERVICES",
         "marker": {
          "color": "#ab63fa",
          "size": [
           47
          ],
          "sizemode": "area",
          "sizeref": 0.12,
          "symbol": "circle"
         },
         "mode": "markers",
         "name": " COMMUNICATIONS PROFESSIONAL SERVICES",
         "orientation": "v",
         "showlegend": true,
         "type": "scatter",
         "x": [
          " COMMUNICATIONS PROFESSIONAL SERVICES"
         ],
         "xaxis": "x",
         "y": [
          47
         ],
         "yaxis": "y"
        },
        {
         "hovertemplate": "<b>%{hovertext}</b><br><br>Descripción=%{x}<br>Contratos Activos=%{marker.size}<extra></extra>",
         "hovertext": [
          " COMPUTER EQUIPMENT RELATED TO PRODUCTION AND OPERATIONS (P&O) ENVIRONMENT —ALL SERVERS, STORAGE, PRINTERS ETC (Includes all related parts and peripherals) "
         ],
         "legendgroup": " COMPUTER EQUIPMENT RELATED TO PRODUCTION AND OPERATIONS (P&O) ENVIRONMENT —ALL SERVERS, STORAGE, PRINTERS ETC (Includes all related parts and peripherals) ",
         "marker": {
          "color": "#FFA15A",
          "size": [
           94
          ],
          "sizemode": "area",
          "sizeref": 0.12,
          "symbol": "circle"
         },
         "mode": "markers",
         "name": " COMPUTER EQUIPMENT RELATED TO PRODUCTION AND OPERATIONS (P&O) ENVIRONMENT —ALL SERVERS, STORAGE, PRINTERS ETC (Includes all related parts and peripherals) ",
         "orientation": "v",
         "showlegend": true,
         "type": "scatter",
         "x": [
          " COMPUTER EQUIPMENT RELATED TO PRODUCTION AND OPERATIONS (P&O) ENVIRONMENT —ALL SERVERS, STORAGE, PRINTERS ETC (Includes all related parts and peripherals) "
         ],
         "xaxis": "x",
         "y": [
          94
         ],
         "yaxis": "y"
        },
        {
         "hovertemplate": "<b>%{hovertext}</b><br><br>Descripción=%{x}<br>Contratos Activos=%{marker.size}<extra></extra>",
         "hovertext": [
          " Computer equipment related to Distributed Computing Environment (DCE) - Desktop/personal/portable (includes all related parts and peripherals)"
         ],
         "legendgroup": " Computer equipment related to Distributed Computing Environment (DCE) - Desktop/personal/portable (includes all related parts and peripherals)",
         "marker": {
          "color": "#19d3f3",
          "size": [
           11
          ],
          "sizemode": "area",
          "sizeref": 0.12,
          "symbol": "circle"
         },
         "mode": "markers",
         "name": " Computer equipment related to Distributed Computing Environment (DCE) - Desktop/personal/portable (includes all related parts and peripherals)",
         "orientation": "v",
         "showlegend": true,
         "type": "scatter",
         "x": [
          " Computer equipment related to Distributed Computing Environment (DCE) - Desktop/personal/portable (includes all related parts and peripherals)"
         ],
         "xaxis": "x",
         "y": [
          11
         ],
         "yaxis": "y"
        },
        {
         "hovertemplate": "<b>%{hovertext}</b><br><br>Descripción=%{x}<br>Contratos Activos=%{marker.size}<extra></extra>",
         "hovertext": [
          " Information Technology and Telecommunications Consultants - IT Procurement Specialist "
         ],
         "legendgroup": " Information Technology and Telecommunications Consultants - IT Procurement Specialist ",
         "marker": {
          "color": "#FF6692",
          "size": [
           4
          ],
          "sizemode": "area",
          "sizeref": 0.12,
          "symbol": "circle"
         },
         "mode": "markers",
         "name": " Information Technology and Telecommunications Consultants - IT Procurement Specialist ",
         "orientation": "v",
         "showlegend": true,
         "type": "scatter",
         "x": [
          " Information Technology and Telecommunications Consultants - IT Procurement Specialist "
         ],
         "xaxis": "x",
         "y": [
          4
         ],
         "yaxis": "y"
        },
        {
         "hovertemplate": "<b>%{hovertext}</b><br><br>Descripción=%{x}<br>Contratos Activos=%{marker.size}<extra></extra>",
         "hovertext": [
          " Information Technology and Telecommunications Consultants - Junior and Senior Network Operations Analysts "
         ],
         "legendgroup": " Information Technology and Telecommunications Consultants - Junior and Senior Network Operations Analysts ",
         "marker": {
          "color": "#B6E880",
          "size": [
           4
          ],
          "sizemode": "area",
          "sizeref": 0.12,
          "symbol": "circle"
         },
         "mode": "markers",
         "name": " Information Technology and Telecommunications Consultants - Junior and Senior Network Operations Analysts ",
         "orientation": "v",
         "showlegend": true,
         "type": "scatter",
         "x": [
          " Information Technology and Telecommunications Consultants - Junior and Senior Network Operations Analysts "
         ],
         "xaxis": "x",
         "y": [
          4
         ],
         "yaxis": "y"
        },
        {
         "hovertemplate": "<b>%{hovertext}</b><br><br>Descripción=%{x}<br>Contratos Activos=%{marker.size}<extra></extra>",
         "hovertext": [
          " Information Technology and Telecommunications Consultants - Senior IT Procurement Specialist"
         ],
         "legendgroup": " Information Technology and Telecommunications Consultants - Senior IT Procurement Specialist",
         "marker": {
          "color": "#FF97FF",
          "size": [
           4
          ],
          "sizemode": "area",
          "sizeref": 0.12,
          "symbol": "circle"
         },
         "mode": "markers",
         "name": " Information Technology and Telecommunications Consultants - Senior IT Procurement Specialist",
         "orientation": "v",
         "showlegend": true,
         "type": "scatter",
         "x": [
          " Information Technology and Telecommunications Consultants - Senior IT Procurement Specialist"
         ],
         "xaxis": "x",
         "y": [
          4
         ],
         "yaxis": "y"
        },
        {
         "hovertemplate": "<b>%{hovertext}</b><br><br>Descripción=%{x}<br>Contratos Activos=%{marker.size}<extra></extra>",
         "hovertext": [
          " Information Technology and Telecommunications Consultants - Senior Project Manager "
         ],
         "legendgroup": " Information Technology and Telecommunications Consultants - Senior Project Manager ",
         "marker": {
          "color": "#FECB52",
          "size": [
           4
          ],
          "sizemode": "area",
          "sizeref": 0.12,
          "symbol": "circle"
         },
         "mode": "markers",
         "name": " Information Technology and Telecommunications Consultants - Senior Project Manager ",
         "orientation": "v",
         "showlegend": true,
         "type": "scatter",
         "x": [
          " Information Technology and Telecommunications Consultants - Senior Project Manager "
         ],
         "xaxis": "x",
         "y": [
          4
         ],
         "yaxis": "y"
        },
        {
         "hovertemplate": "<b>%{hovertext}</b><br><br>Descripción=%{x}<br>Contratos Activos=%{marker.size}<extra></extra>",
         "hovertext": [
          " Information Technology and Telecommunications Consultants - Senior Technical Architect"
         ],
         "legendgroup": " Information Technology and Telecommunications Consultants - Senior Technical Architect",
         "marker": {
          "color": "#636efa",
          "size": [
           4
          ],
          "sizemode": "area",
          "sizeref": 0.12,
          "symbol": "circle"
         },
         "mode": "markers",
         "name": " Information Technology and Telecommunications Consultants - Senior Technical Architect",
         "orientation": "v",
         "showlegend": true,
         "type": "scatter",
         "x": [
          " Information Technology and Telecommunications Consultants - Senior Technical Architect"
         ],
         "xaxis": "x",
         "y": [
          4
         ],
         "yaxis": "y"
        },
        {
         "hovertemplate": "<b>%{hovertext}</b><br><br>Descripción=%{x}<br>Contratos Activos=%{marker.size}<extra></extra>",
         "hovertext": [
          " Information technology and telecommunications consultants"
         ],
         "legendgroup": " Information technology and telecommunications consultants",
         "marker": {
          "color": "#EF553B",
          "size": [
           11
          ],
          "sizemode": "area",
          "sizeref": 0.12,
          "symbol": "circle"
         },
         "mode": "markers",
         "name": " Information technology and telecommunications consultants",
         "orientation": "v",
         "showlegend": true,
         "type": "scatter",
         "x": [
          " Information technology and telecommunications consultants"
         ],
         "xaxis": "x",
         "y": [
          11
         ],
         "yaxis": "y"
        },
        {
         "hovertemplate": "<b>%{hovertext}</b><br><br>Descripción=%{x}<br>Contratos Activos=%{marker.size}<extra></extra>",
         "hovertext": [
          " LANGUAGE TRAINING "
         ],
         "legendgroup": " LANGUAGE TRAINING ",
         "marker": {
          "color": "#00cc96",
          "size": [
           94
          ],
          "sizemode": "area",
          "sizeref": 0.12,
          "symbol": "circle"
         },
         "mode": "markers",
         "name": " LANGUAGE TRAINING ",
         "orientation": "v",
         "showlegend": true,
         "type": "scatter",
         "x": [
          " LANGUAGE TRAINING "
         ],
         "xaxis": "x",
         "y": [
          94
         ],
         "yaxis": "y"
        },
        {
         "hovertemplate": "<b>%{hovertext}</b><br><br>Descripción=%{x}<br>Contratos Activos=%{marker.size}<extra></extra>",
         "hovertext": [
          " LICENSE/MAITNENANCE OF COMPUTER SOFTWARE- DISTRIBUTED COMPUTING ENVIRONMENT"
         ],
         "legendgroup": " LICENSE/MAITNENANCE OF COMPUTER SOFTWARE- DISTRIBUTED COMPUTING ENVIRONMENT",
         "marker": {
          "color": "#ab63fa",
          "size": [
           235
          ],
          "sizemode": "area",
          "sizeref": 0.12,
          "symbol": "circle"
         },
         "mode": "markers",
         "name": " LICENSE/MAITNENANCE OF COMPUTER SOFTWARE- DISTRIBUTED COMPUTING ENVIRONMENT",
         "orientation": "v",
         "showlegend": true,
         "type": "scatter",
         "x": [
          " LICENSE/MAITNENANCE OF COMPUTER SOFTWARE- DISTRIBUTED COMPUTING ENVIRONMENT"
         ],
         "xaxis": "x",
         "y": [
          235
         ],
         "yaxis": "y"
        },
        {
         "hovertemplate": "<b>%{hovertext}</b><br><br>Descripción=%{x}<br>Contratos Activos=%{marker.size}<extra></extra>",
         "hovertext": [
          " Management Consulting - Facilitation Services"
         ],
         "legendgroup": " Management Consulting - Facilitation Services",
         "marker": {
          "color": "#FFA15A",
          "size": [
           4
          ],
          "sizemode": "area",
          "sizeref": 0.12,
          "symbol": "circle"
         },
         "mode": "markers",
         "name": " Management Consulting - Facilitation Services",
         "orientation": "v",
         "showlegend": true,
         "type": "scatter",
         "x": [
          " Management Consulting - Facilitation Services"
         ],
         "xaxis": "x",
         "y": [
          4
         ],
         "yaxis": "y"
        },
        {
         "hovertemplate": "<b>%{hovertext}</b><br><br>Descripción=%{x}<br>Contratos Activos=%{marker.size}<extra></extra>",
         "hovertext": [
          " Management Consulting - Project Managers and Project Planner "
         ],
         "legendgroup": " Management Consulting - Project Managers and Project Planner ",
         "marker": {
          "color": "#19d3f3",
          "size": [
           12
          ],
          "sizemode": "area",
          "sizeref": 0.12,
          "symbol": "circle"
         },
         "mode": "markers",
         "name": " Management Consulting - Project Managers and Project Planner ",
         "orientation": "v",
         "showlegend": true,
         "type": "scatter",
         "x": [
          " Management Consulting - Project Managers and Project Planner "
         ],
         "xaxis": "x",
         "y": [
          12
         ],
         "yaxis": "y"
        },
        {
         "hovertemplate": "<b>%{hovertext}</b><br><br>Descripción=%{x}<br>Contratos Activos=%{marker.size}<extra></extra>",
         "hovertext": [
          " Management Consulting - Senior Communications Specialist"
         ],
         "legendgroup": " Management Consulting - Senior Communications Specialist",
         "marker": {
          "color": "#FF6692",
          "size": [
           4
          ],
          "sizemode": "area",
          "sizeref": 0.12,
          "symbol": "circle"
         },
         "mode": "markers",
         "name": " Management Consulting - Senior Communications Specialist",
         "orientation": "v",
         "showlegend": true,
         "type": "scatter",
         "x": [
          " Management Consulting - Senior Communications Specialist"
         ],
         "xaxis": "x",
         "y": [
          4
         ],
         "yaxis": "y"
        },
        {
         "hovertemplate": "<b>%{hovertext}</b><br><br>Descripción=%{x}<br>Contratos Activos=%{marker.size}<extra></extra>",
         "hovertext": [
          " Management Consulting - Senior Staffing Consultant"
         ],
         "legendgroup": " Management Consulting - Senior Staffing Consultant",
         "marker": {
          "color": "#B6E880",
          "size": [
           4
          ],
          "sizemode": "area",
          "sizeref": 0.12,
          "symbol": "circle"
         },
         "mode": "markers",
         "name": " Management Consulting - Senior Staffing Consultant",
         "orientation": "v",
         "showlegend": true,
         "type": "scatter",
         "x": [
          " Management Consulting - Senior Staffing Consultant"
         ],
         "xaxis": "x",
         "y": [
          4
         ],
         "yaxis": "y"
        },
        {
         "hovertemplate": "<b>%{hovertext}</b><br><br>Descripción=%{x}<br>Contratos Activos=%{marker.size}<extra></extra>",
         "hovertext": [
          " OFFICE FURNITURE AND FURNISHING"
         ],
         "legendgroup": " OFFICE FURNITURE AND FURNISHING",
         "marker": {
          "color": "#FF97FF",
          "size": [
           47
          ],
          "sizemode": "area",
          "sizeref": 0.12,
          "symbol": "circle"
         },
         "mode": "markers",
         "name": " OFFICE FURNITURE AND FURNISHING",
         "orientation": "v",
         "showlegend": true,
         "type": "scatter",
         "x": [
          " OFFICE FURNITURE AND FURNISHING"
         ],
         "xaxis": "x",
         "y": [
          47
         ],
         "yaxis": "y"
        },
        {
         "hovertemplate": "<b>%{hovertext}</b><br><br>Descripción=%{x}<br>Contratos Activos=%{marker.size}<extra></extra>",
         "hovertext": [
          " OTHER BUSINESS SERVICES"
         ],
         "legendgroup": " OTHER BUSINESS SERVICES",
         "marker": {
          "color": "#FECB52",
          "size": [
           94
          ],
          "sizemode": "area",
          "sizeref": 0.12,
          "symbol": "circle"
         },
         "mode": "markers",
         "name": " OTHER BUSINESS SERVICES",
         "orientation": "v",
         "showlegend": true,
         "type": "scatter",
         "x": [
          " OTHER BUSINESS SERVICES"
         ],
         "xaxis": "x",
         "y": [
          94
         ],
         "yaxis": "y"
        },
        {
         "hovertemplate": "<b>%{hovertext}</b><br><br>Descripción=%{x}<br>Contratos Activos=%{marker.size}<extra></extra>",
         "hovertext": [
          " Office and Stationers Supplies"
         ],
         "legendgroup": " Office and Stationers Supplies",
         "marker": {
          "color": "#636efa",
          "size": [
           16
          ],
          "sizemode": "area",
          "sizeref": 0.12,
          "symbol": "circle"
         },
         "mode": "markers",
         "name": " Office and Stationers Supplies",
         "orientation": "v",
         "showlegend": true,
         "type": "scatter",
         "x": [
          " Office and Stationers Supplies"
         ],
         "xaxis": "x",
         "y": [
          16
         ],
         "yaxis": "y"
        },
        {
         "hovertemplate": "<b>%{hovertext}</b><br><br>Descripción=%{x}<br>Contratos Activos=%{marker.size}<extra></extra>",
         "hovertext": [
          " PROTECTION SERVICES"
         ],
         "legendgroup": " PROTECTION SERVICES",
         "marker": {
          "color": "#EF553B",
          "size": [
           94
          ],
          "sizemode": "area",
          "sizeref": 0.12,
          "symbol": "circle"
         },
         "mode": "markers",
         "name": " PROTECTION SERVICES",
         "orientation": "v",
         "showlegend": true,
         "type": "scatter",
         "x": [
          " PROTECTION SERVICES"
         ],
         "xaxis": "x",
         "y": [
          94
         ],
         "yaxis": "y"
        },
        {
         "hovertemplate": "<b>%{hovertext}</b><br><br>Descripción=%{x}<br>Contratos Activos=%{marker.size}<extra></extra>",
         "hovertext": [
          " Printed Matter, Including Books, Newspapers, Pictures, Manuscripts and Forms"
         ],
         "legendgroup": " Printed Matter, Including Books, Newspapers, Pictures, Manuscripts and Forms",
         "marker": {
          "color": "#00cc96",
          "size": [
           12
          ],
          "sizemode": "area",
          "sizeref": 0.12,
          "symbol": "circle"
         },
         "mode": "markers",
         "name": " Printed Matter, Including Books, Newspapers, Pictures, Manuscripts and Forms",
         "orientation": "v",
         "showlegend": true,
         "type": "scatter",
         "x": [
          " Printed Matter, Including Books, Newspapers, Pictures, Manuscripts and Forms"
         ],
         "xaxis": "x",
         "y": [
          12
         ],
         "yaxis": "y"
        },
        {
         "hovertemplate": "<b>%{hovertext}</b><br><br>Descripción=%{x}<br>Contratos Activos=%{marker.size}<extra></extra>",
         "hovertext": [
          " Public relations services"
         ],
         "legendgroup": " Public relations services",
         "marker": {
          "color": "#ab63fa",
          "size": [
           12
          ],
          "sizemode": "area",
          "sizeref": 0.12,
          "symbol": "circle"
         },
         "mode": "markers",
         "name": " Public relations services",
         "orientation": "v",
         "showlegend": true,
         "type": "scatter",
         "x": [
          " Public relations services"
         ],
         "xaxis": "x",
         "y": [
          12
         ],
         "yaxis": "y"
        },
        {
         "hovertemplate": "<b>%{hovertext}</b><br><br>Descripción=%{x}<br>Contratos Activos=%{marker.size}<extra></extra>",
         "hovertext": [
          " RENTAL OF OFFICE EQUIPMENT"
         ],
         "legendgroup": " RENTAL OF OFFICE EQUIPMENT",
         "marker": {
          "color": "#FFA15A",
          "size": [
           47
          ],
          "sizemode": "area",
          "sizeref": 0.12,
          "symbol": "circle"
         },
         "mode": "markers",
         "name": " RENTAL OF OFFICE EQUIPMENT",
         "orientation": "v",
         "showlegend": true,
         "type": "scatter",
         "x": [
          " RENTAL OF OFFICE EQUIPMENT"
         ],
         "xaxis": "x",
         "y": [
          47
         ],
         "yaxis": "y"
        },
        {
         "hovertemplate": "<b>%{hovertext}</b><br><br>Descripción=%{x}<br>Contratos Activos=%{marker.size}<extra></extra>",
         "hovertext": [
          " TEMP HELP SERVICES"
         ],
         "legendgroup": " TEMP HELP SERVICES",
         "marker": {
          "color": "#19d3f3",
          "size": [
           47
          ],
          "sizemode": "area",
          "sizeref": 0.12,
          "symbol": "circle"
         },
         "mode": "markers",
         "name": " TEMP HELP SERVICES",
         "orientation": "v",
         "showlegend": true,
         "type": "scatter",
         "x": [
          " TEMP HELP SERVICES"
         ],
         "xaxis": "x",
         "y": [
          47
         ],
         "yaxis": "y"
        },
        {
         "hovertemplate": "<b>%{hovertext}</b><br><br>Descripción=%{x}<br>Contratos Activos=%{marker.size}<extra></extra>",
         "hovertext": [
          "0230 Voice Communications Services (inc analog/digital voice comm services)"
         ],
         "legendgroup": "0230 Voice Communications Services (inc analog/digital voice comm services)",
         "marker": {
          "color": "#FF6692",
          "size": [
           15
          ],
          "sizemode": "area",
          "sizeref": 0.12,
          "symbol": "circle"
         },
         "mode": "markers",
         "name": "0230 Voice Communications Services (inc analog/digital voice comm services)",
         "orientation": "v",
         "showlegend": true,
         "type": "scatter",
         "x": [
          "0230 Voice Communications Services (inc analog/digital voice comm services)"
         ],
         "xaxis": "x",
         "y": [
          15
         ],
         "yaxis": "y"
        },
        {
         "hovertemplate": "<b>%{hovertext}</b><br><br>Descripción=%{x}<br>Contratos Activos=%{marker.size}<extra></extra>",
         "hovertext": [
          "0321 – Printing Services"
         ],
         "legendgroup": "0321 – Printing Services",
         "marker": {
          "color": "#B6E880",
          "size": [
           12
          ],
          "sizemode": "area",
          "sizeref": 0.12,
          "symbol": "circle"
         },
         "mode": "markers",
         "name": "0321 – Printing Services",
         "orientation": "v",
         "showlegend": true,
         "type": "scatter",
         "x": [
          "0321 – Printing Services"
         ],
         "xaxis": "x",
         "y": [
          12
         ],
         "yaxis": "y"
        },
        {
         "hovertemplate": "<b>%{hovertext}</b><br><br>Descripción=%{x}<br>Contratos Activos=%{marker.size}<extra></extra>",
         "hovertext": [
          "0332 Audio visual services"
         ],
         "legendgroup": "0332 Audio visual services",
         "marker": {
          "color": "#FF97FF",
          "size": [
           15
          ],
          "sizemode": "area",
          "sizeref": 0.12,
          "symbol": "circle"
         },
         "mode": "markers",
         "name": "0332 Audio visual services",
         "orientation": "v",
         "showlegend": true,
         "type": "scatter",
         "x": [
          "0332 Audio visual services"
         ],
         "xaxis": "x",
         "y": [
          15
         ],
         "yaxis": "y"
        },
        {
         "hovertemplate": "<b>%{hovertext}</b><br><br>Descripción=%{x}<br>Contratos Activos=%{marker.size}<extra></extra>",
         "hovertext": [
          "0351 Communications professional services not elsewhere specified"
         ],
         "legendgroup": "0351 Communications professional services not elsewhere specified",
         "marker": {
          "color": "#FECB52",
          "size": [
           15
          ],
          "sizemode": "area",
          "sizeref": 0.12,
          "symbol": "circle"
         },
         "mode": "markers",
         "name": "0351 Communications professional services not elsewhere specified",
         "orientation": "v",
         "showlegend": true,
         "type": "scatter",
         "x": [
          "0351 Communications professional services not elsewhere specified"
         ],
         "xaxis": "x",
         "y": [
          15
         ],
         "yaxis": "y"
        },
        {
         "hovertemplate": "<b>%{hovertext}</b><br><br>Descripción=%{x}<br>Contratos Activos=%{marker.size}<extra></extra>",
         "hovertext": [
          "0401 – Accounting and Audit Services - Internal Audit Services"
         ],
         "legendgroup": "0401 – Accounting and Audit Services - Internal Audit Services",
         "marker": {
          "color": "#636efa",
          "size": [
           4
          ],
          "sizemode": "area",
          "sizeref": 0.12,
          "symbol": "circle"
         },
         "mode": "markers",
         "name": "0401 – Accounting and Audit Services - Internal Audit Services",
         "orientation": "v",
         "showlegend": true,
         "type": "scatter",
         "x": [
          "0401 – Accounting and Audit Services - Internal Audit Services"
         ],
         "xaxis": "x",
         "y": [
          4
         ],
         "yaxis": "y"
        },
        {
         "hovertemplate": "<b>%{hovertext}</b><br><br>Descripción=%{x}<br>Contratos Activos=%{marker.size}<extra></extra>",
         "hovertext": [
          "0410 Legal Services"
         ],
         "legendgroup": "0410 Legal Services",
         "marker": {
          "color": "#EF553B",
          "size": [
           30
          ],
          "sizemode": "area",
          "sizeref": 0.12,
          "symbol": "circle"
         },
         "mode": "markers",
         "name": "0410 Legal Services",
         "orientation": "v",
         "showlegend": true,
         "type": "scatter",
         "x": [
          "0410 Legal Services"
         ],
         "xaxis": "x",
         "y": [
          30
         ],
         "yaxis": "y"
        },
        {
         "hovertemplate": "<b>%{hovertext}</b><br><br>Descripción=%{x}<br>Contratos Activos=%{marker.size}<extra></extra>",
         "hovertext": [
          "0448 – Purchase of Training Packages and Courses"
         ],
         "legendgroup": "0448 – Purchase of Training Packages and Courses",
         "marker": {
          "color": "#00cc96",
          "size": [
           4
          ],
          "sizemode": "area",
          "sizeref": 0.12,
          "symbol": "circle"
         },
         "mode": "markers",
         "name": "0448 – Purchase of Training Packages and Courses",
         "orientation": "v",
         "showlegend": true,
         "type": "scatter",
         "x": [
          "0448 – Purchase of Training Packages and Courses"
         ],
         "xaxis": "x",
         "y": [
          4
         ],
         "yaxis": "y"
        },
        {
         "hovertemplate": "<b>%{hovertext}</b><br><br>Descripción=%{x}<br>Contratos Activos=%{marker.size}<extra></extra>",
         "hovertext": [
          "0473 Information Technology and Telecommunications Consultants"
         ],
         "legendgroup": "0473 Information Technology and Telecommunications Consultants",
         "marker": {
          "color": "#ab63fa",
          "size": [
           45
          ],
          "sizemode": "area",
          "sizeref": 0.12,
          "symbol": "circle"
         },
         "mode": "markers",
         "name": "0473 Information Technology and Telecommunications Consultants",
         "orientation": "v",
         "showlegend": true,
         "type": "scatter",
         "x": [
          "0473 Information Technology and Telecommunications Consultants"
         ],
         "xaxis": "x",
         "y": [
          45
         ],
         "yaxis": "y"
        },
        {
         "hovertemplate": "<b>%{hovertext}</b><br><br>Descripción=%{x}<br>Contratos Activos=%{marker.size}<extra></extra>",
         "hovertext": [
          "0473 – Information Technology and Telecommunications Consultants - Business Systems Analyst"
         ],
         "legendgroup": "0473 – Information Technology and Telecommunications Consultants - Business Systems Analyst",
         "marker": {
          "color": "#FFA15A",
          "size": [
           4
          ],
          "sizemode": "area",
          "sizeref": 0.12,
          "symbol": "circle"
         },
         "mode": "markers",
         "name": "0473 – Information Technology and Telecommunications Consultants - Business Systems Analyst",
         "orientation": "v",
         "showlegend": true,
         "type": "scatter",
         "x": [
          "0473 – Information Technology and Telecommunications Consultants - Business Systems Analyst"
         ],
         "xaxis": "x",
         "y": [
          4
         ],
         "yaxis": "y"
        },
        {
         "hovertemplate": "<b>%{hovertext}</b><br><br>Descripción=%{x}<br>Contratos Activos=%{marker.size}<extra></extra>",
         "hovertext": [
          "0473 – Information Technology and Telecommunications Consultants - Change Management Consultant"
         ],
         "legendgroup": "0473 – Information Technology and Telecommunications Consultants - Change Management Consultant",
         "marker": {
          "color": "#19d3f3",
          "size": [
           4
          ],
          "sizemode": "area",
          "sizeref": 0.12,
          "symbol": "circle"
         },
         "mode": "markers",
         "name": "0473 – Information Technology and Telecommunications Consultants - Change Management Consultant",
         "orientation": "v",
         "showlegend": true,
         "type": "scatter",
         "x": [
          "0473 – Information Technology and Telecommunications Consultants - Change Management Consultant"
         ],
         "xaxis": "x",
         "y": [
          4
         ],
         "yaxis": "y"
        },
        {
         "hovertemplate": "<b>%{hovertext}</b><br><br>Descripción=%{x}<br>Contratos Activos=%{marker.size}<extra></extra>",
         "hovertext": [
          "0473 – Information Technology and Telecommunications Consultants - Network Operations Analysts"
         ],
         "legendgroup": "0473 – Information Technology and Telecommunications Consultants - Network Operations Analysts",
         "marker": {
          "color": "#FF6692",
          "size": [
           4
          ],
          "sizemode": "area",
          "sizeref": 0.12,
          "symbol": "circle"
         },
         "mode": "markers",
         "name": "0473 – Information Technology and Telecommunications Consultants - Network Operations Analysts",
         "orientation": "v",
         "showlegend": true,
         "type": "scatter",
         "x": [
          "0473 – Information Technology and Telecommunications Consultants - Network Operations Analysts"
         ],
         "xaxis": "x",
         "y": [
          4
         ],
         "yaxis": "y"
        },
        {
         "hovertemplate": "<b>%{hovertext}</b><br><br>Descripción=%{x}<br>Contratos Activos=%{marker.size}<extra></extra>",
         "hovertext": [
          "0473 – Information Technology and Telecommunications Consultants - Platform Analyst level 3"
         ],
         "legendgroup": "0473 – Information Technology and Telecommunications Consultants - Platform Analyst level 3",
         "marker": {
          "color": "#B6E880",
          "size": [
           4
          ],
          "sizemode": "area",
          "sizeref": 0.12,
          "symbol": "circle"
         },
         "mode": "markers",
         "name": "0473 – Information Technology and Telecommunications Consultants - Platform Analyst level 3",
         "orientation": "v",
         "showlegend": true,
         "type": "scatter",
         "x": [
          "0473 – Information Technology and Telecommunications Consultants - Platform Analyst level 3"
         ],
         "xaxis": "x",
         "y": [
          4
         ],
         "yaxis": "y"
        },
        {
         "hovertemplate": "<b>%{hovertext}</b><br><br>Descripción=%{x}<br>Contratos Activos=%{marker.size}<extra></extra>",
         "hovertext": [
          "0473 – Information Technology and Telecommunications Consultants - Programmer Analyst Level 2 "
         ],
         "legendgroup": "0473 – Information Technology and Telecommunications Consultants - Programmer Analyst Level 2 ",
         "marker": {
          "color": "#FF97FF",
          "size": [
           4
          ],
          "sizemode": "area",
          "sizeref": 0.12,
          "symbol": "circle"
         },
         "mode": "markers",
         "name": "0473 – Information Technology and Telecommunications Consultants - Programmer Analyst Level 2 ",
         "orientation": "v",
         "showlegend": true,
         "type": "scatter",
         "x": [
          "0473 – Information Technology and Telecommunications Consultants - Programmer Analyst Level 2 "
         ],
         "xaxis": "x",
         "y": [
          4
         ],
         "yaxis": "y"
        },
        {
         "hovertemplate": "<b>%{hovertext}</b><br><br>Descripción=%{x}<br>Contratos Activos=%{marker.size}<extra></extra>",
         "hovertext": [
          "0473 – Information Technology and Telecommunications Consultants - Project Advisor"
         ],
         "legendgroup": "0473 – Information Technology and Telecommunications Consultants - Project Advisor",
         "marker": {
          "color": "#FECB52",
          "size": [
           4
          ],
          "sizemode": "area",
          "sizeref": 0.12,
          "symbol": "circle"
         },
         "mode": "markers",
         "name": "0473 – Information Technology and Telecommunications Consultants - Project Advisor",
         "orientation": "v",
         "showlegend": true,
         "type": "scatter",
         "x": [
          "0473 – Information Technology and Telecommunications Consultants - Project Advisor"
         ],
         "xaxis": "x",
         "y": [
          4
         ],
         "yaxis": "y"
        },
        {
         "hovertemplate": "<b>%{hovertext}</b><br><br>Descripción=%{x}<br>Contratos Activos=%{marker.size}<extra></extra>",
         "hovertext": [
          "0473 – Information Technology and Telecommunications Consultants - Senior Change Management Consultant"
         ],
         "legendgroup": "0473 – Information Technology and Telecommunications Consultants - Senior Change Management Consultant",
         "marker": {
          "color": "#636efa",
          "size": [
           4
          ],
          "sizemode": "area",
          "sizeref": 0.12,
          "symbol": "circle"
         },
         "mode": "markers",
         "name": "0473 – Information Technology and Telecommunications Consultants - Senior Change Management Consultant",
         "orientation": "v",
         "showlegend": true,
         "type": "scatter",
         "x": [
          "0473 – Information Technology and Telecommunications Consultants - Senior Change Management Consultant"
         ],
         "xaxis": "x",
         "y": [
          4
         ],
         "yaxis": "y"
        },
        {
         "hovertemplate": "<b>%{hovertext}</b><br><br>Descripción=%{x}<br>Contratos Activos=%{marker.size}<extra></extra>",
         "hovertext": [
          "0473 – Information Technology and Telecommunications Consultants - System Analyst Level 3"
         ],
         "legendgroup": "0473 – Information Technology and Telecommunications Consultants - System Analyst Level 3",
         "marker": {
          "color": "#EF553B",
          "size": [
           4
          ],
          "sizemode": "area",
          "sizeref": 0.12,
          "symbol": "circle"
         },
         "mode": "markers",
         "name": "0473 – Information Technology and Telecommunications Consultants - System Analyst Level 3",
         "orientation": "v",
         "showlegend": true,
         "type": "scatter",
         "x": [
          "0473 – Information Technology and Telecommunications Consultants - System Analyst Level 3"
         ],
         "xaxis": "x",
         "y": [
          4
         ],
         "yaxis": "y"
        },
        {
         "hovertemplate": "<b>%{hovertext}</b><br><br>Descripción=%{x}<br>Contratos Activos=%{marker.size}<extra></extra>",
         "hovertext": [
          "0473 – Information Technology and Telecommunications Consultants - Technical Architect Level 3"
         ],
         "legendgroup": "0473 – Information Technology and Telecommunications Consultants - Technical Architect Level 3",
         "marker": {
          "color": "#00cc96",
          "size": [
           4
          ],
          "sizemode": "area",
          "sizeref": 0.12,
          "symbol": "circle"
         },
         "mode": "markers",
         "name": "0473 – Information Technology and Telecommunications Consultants - Technical Architect Level 3",
         "orientation": "v",
         "showlegend": true,
         "type": "scatter",
         "x": [
          "0473 – Information Technology and Telecommunications Consultants - Technical Architect Level 3"
         ],
         "xaxis": "x",
         "y": [
          4
         ],
         "yaxis": "y"
        },
        {
         "hovertemplate": "<b>%{hovertext}</b><br><br>Descripción=%{x}<br>Contratos Activos=%{marker.size}<extra></extra>",
         "hovertext": [
          "0474 – Information Management Services"
         ],
         "legendgroup": "0474 – Information Management Services",
         "marker": {
          "color": "#ab63fa",
          "size": [
           8
          ],
          "sizemode": "area",
          "sizeref": 0.12,
          "symbol": "circle"
         },
         "mode": "markers",
         "name": "0474 – Information Management Services",
         "orientation": "v",
         "showlegend": true,
         "type": "scatter",
         "x": [
          "0474 – Information Management Services"
         ],
         "xaxis": "x",
         "y": [
          8
         ],
         "yaxis": "y"
        },
        {
         "hovertemplate": "<b>%{hovertext}</b><br><br>Descripción=%{x}<br>Contratos Activos=%{marker.size}<extra></extra>",
         "hovertext": [
          "0475 – Information Technology Services"
         ],
         "legendgroup": "0475 – Information Technology Services",
         "marker": {
          "color": "#FFA15A",
          "size": [
           8
          ],
          "sizemode": "area",
          "sizeref": 0.12,
          "symbol": "circle"
         },
         "mode": "markers",
         "name": "0475 – Information Technology Services",
         "orientation": "v",
         "showlegend": true,
         "type": "scatter",
         "x": [
          "0475 – Information Technology Services"
         ],
         "xaxis": "x",
         "y": [
          8
         ],
         "yaxis": "y"
        },
        {
         "hovertemplate": "<b>%{hovertext}</b><br><br>Descripción=%{x}<br>Contratos Activos=%{marker.size}<extra></extra>",
         "hovertext": [
          "0491 - Other Prof. Serv. - Management consulting - OGD or programs"
         ],
         "legendgroup": "0491 - Other Prof. Serv. - Management consulting - OGD or programs",
         "marker": {
          "color": "#19d3f3",
          "size": [
           3
          ],
          "sizemode": "area",
          "sizeref": 0.12,
          "symbol": "circle"
         },
         "mode": "markers",
         "name": "0491 - Other Prof. Serv. - Management consulting - OGD or programs",
         "orientation": "v",
         "showlegend": true,
         "type": "scatter",
         "x": [
          "0491 - Other Prof. Serv. - Management consulting - OGD or programs"
         ],
         "xaxis": "x",
         "y": [
          3
         ],
         "yaxis": "y"
        },
        {
         "hovertemplate": "<b>%{hovertext}</b><br><br>Descripción=%{x}<br>Contratos Activos=%{marker.size}<extra></extra>",
         "hovertext": [
          "0492 - Other Prof. Serv. - Research contracts (specify)"
         ],
         "legendgroup": "0492 - Other Prof. Serv. - Research contracts (specify)",
         "marker": {
          "color": "#FF6692",
          "size": [
           3
          ],
          "sizemode": "area",
          "sizeref": 0.12,
          "symbol": "circle"
         },
         "mode": "markers",
         "name": "0492 - Other Prof. Serv. - Research contracts (specify)",
         "orientation": "v",
         "showlegend": true,
         "type": "scatter",
         "x": [
          "0492 - Other Prof. Serv. - Research contracts (specify)"
         ],
         "xaxis": "x",
         "y": [
          3
         ],
         "yaxis": "y"
        },
        {
         "hovertemplate": "<b>%{hovertext}</b><br><br>Descripción=%{x}<br>Contratos Activos=%{marker.size}<extra></extra>",
         "hovertext": [
          "0492 Research Contracts"
         ],
         "legendgroup": "0492 Research Contracts",
         "marker": {
          "color": "#B6E880",
          "size": [
           15
          ],
          "sizemode": "area",
          "sizeref": 0.12,
          "symbol": "circle"
         },
         "mode": "markers",
         "name": "0492 Research Contracts",
         "orientation": "v",
         "showlegend": true,
         "type": "scatter",
         "x": [
          "0492 Research Contracts"
         ],
         "xaxis": "x",
         "y": [
          15
         ],
         "yaxis": "y"
        },
        {
         "hovertemplate": "<b>%{hovertext}</b><br><br>Descripción=%{x}<br>Contratos Activos=%{marker.size}<extra></extra>",
         "hovertext": [
          "0499 - Other Professional Services not elsewhere Specified"
         ],
         "legendgroup": "0499 - Other Professional Services not elsewhere Specified",
         "marker": {
          "color": "#FF97FF",
          "size": [
           15
          ],
          "sizemode": "area",
          "sizeref": 0.12,
          "symbol": "circle"
         },
         "mode": "markers",
         "name": "0499 - Other Professional Services not elsewhere Specified",
         "orientation": "v",
         "showlegend": true,
         "type": "scatter",
         "x": [
          "0499 - Other Professional Services not elsewhere Specified"
         ],
         "xaxis": "x",
         "y": [
          15
         ],
         "yaxis": "y"
        },
        {
         "hovertemplate": "<b>%{hovertext}</b><br><br>Descripción=%{x}<br>Contratos Activos=%{marker.size}<extra></extra>",
         "hovertext": [
          "0499 Other professional services not elsewhere specified"
         ],
         "legendgroup": "0499 Other professional services not elsewhere specified",
         "marker": {
          "color": "#FECB52",
          "size": [
           45
          ],
          "sizemode": "area",
          "sizeref": 0.12,
          "symbol": "circle"
         },
         "mode": "markers",
         "name": "0499 Other professional services not elsewhere specified",
         "orientation": "v",
         "showlegend": true,
         "type": "scatter",
         "x": [
          "0499 Other professional services not elsewhere specified"
         ],
         "xaxis": "x",
         "y": [
          45
         ],
         "yaxis": "y"
        },
        {
         "hovertemplate": "<b>%{hovertext}</b><br><br>Descripción=%{x}<br>Contratos Activos=%{marker.size}<extra></extra>",
         "hovertext": [
          "0499 – Other Professional Services not Elsewhere Specified - Project Manager and Project Planner"
         ],
         "legendgroup": "0499 – Other Professional Services not Elsewhere Specified - Project Manager and Project Planner",
         "marker": {
          "color": "#636efa",
          "size": [
           4
          ],
          "sizemode": "area",
          "sizeref": 0.12,
          "symbol": "circle"
         },
         "mode": "markers",
         "name": "0499 – Other Professional Services not Elsewhere Specified - Project Manager and Project Planner",
         "orientation": "v",
         "showlegend": true,
         "type": "scatter",
         "x": [
          "0499 – Other Professional Services not Elsewhere Specified - Project Manager and Project Planner"
         ],
         "xaxis": "x",
         "y": [
          4
         ],
         "yaxis": "y"
        },
        {
         "hovertemplate": "<b>%{hovertext}</b><br><br>Descripción=%{x}<br>Contratos Activos=%{marker.size}<extra></extra>",
         "hovertext": [
          "0499 – Other Professional Services not Elsewhere Specified - Project Manager and Project Planner "
         ],
         "legendgroup": "0499 – Other Professional Services not Elsewhere Specified - Project Manager and Project Planner ",
         "marker": {
          "color": "#EF553B",
          "size": [
           4
          ],
          "sizemode": "area",
          "sizeref": 0.12,
          "symbol": "circle"
         },
         "mode": "markers",
         "name": "0499 – Other Professional Services not Elsewhere Specified - Project Manager and Project Planner ",
         "orientation": "v",
         "showlegend": true,
         "type": "scatter",
         "x": [
          "0499 – Other Professional Services not Elsewhere Specified - Project Manager and Project Planner "
         ],
         "xaxis": "x",
         "y": [
          4
         ],
         "yaxis": "y"
        },
        {
         "hovertemplate": "<b>%{hovertext}</b><br><br>Descripción=%{x}<br>Contratos Activos=%{marker.size}<extra></extra>",
         "hovertext": [
          "0499 – Other Professional Services not Elsewhere Specified - Senior IT Procurement Specialist"
         ],
         "legendgroup": "0499 – Other Professional Services not Elsewhere Specified - Senior IT Procurement Specialist",
         "marker": {
          "color": "#00cc96",
          "size": [
           4
          ],
          "sizemode": "area",
          "sizeref": 0.12,
          "symbol": "circle"
         },
         "mode": "markers",
         "name": "0499 – Other Professional Services not Elsewhere Specified - Senior IT Procurement Specialist",
         "orientation": "v",
         "showlegend": true,
         "type": "scatter",
         "x": [
          "0499 – Other Professional Services not Elsewhere Specified - Senior IT Procurement Specialist"
         ],
         "xaxis": "x",
         "y": [
          4
         ],
         "yaxis": "y"
        },
        {
         "hovertemplate": "<b>%{hovertext}</b><br><br>Descripción=%{x}<br>Contratos Activos=%{marker.size}<extra></extra>",
         "hovertext": [
          "0533 - Rental of Machinery, Office Furniture and Fixtures and Other Equipment "
         ],
         "legendgroup": "0533 - Rental of Machinery, Office Furniture and Fixtures and Other Equipment ",
         "marker": {
          "color": "#ab63fa",
          "size": [
           45
          ],
          "sizemode": "area",
          "sizeref": 0.12,
          "symbol": "circle"
         },
         "mode": "markers",
         "name": "0533 - Rental of Machinery, Office Furniture and Fixtures and Other Equipment ",
         "orientation": "v",
         "showlegend": true,
         "type": "scatter",
         "x": [
          "0533 - Rental of Machinery, Office Furniture and Fixtures and Other Equipment "
         ],
         "xaxis": "x",
         "y": [
          45
         ],
         "yaxis": "y"
        },
        {
         "hovertemplate": "<b>%{hovertext}</b><br><br>Descripción=%{x}<br>Contratos Activos=%{marker.size}<extra></extra>",
         "hovertext": [
          "0570 Rental - other"
         ],
         "legendgroup": "0570 Rental - other",
         "marker": {
          "color": "#FFA15A",
          "size": [
           15
          ],
          "sizemode": "area",
          "sizeref": 0.12,
          "symbol": "circle"
         },
         "mode": "markers",
         "name": "0570 Rental - other",
         "orientation": "v",
         "showlegend": true,
         "type": "scatter",
         "x": [
          "0570 Rental - other"
         ],
         "xaxis": "x",
         "y": [
          15
         ],
         "yaxis": "y"
        },
        {
         "hovertemplate": "<b>%{hovertext}</b><br><br>Descripción=%{x}<br>Contratos Activos=%{marker.size}<extra></extra>",
         "hovertext": [
          "0583 License/Maintenance fees for Application Software (including COTS) & Application Development & Delivery Software"
         ],
         "legendgroup": "0583 License/Maintenance fees for Application Software (including COTS) & Application Development & Delivery Software",
         "marker": {
          "color": "#19d3f3",
          "size": [
           15
          ],
          "sizemode": "area",
          "sizeref": 0.12,
          "symbol": "circle"
         },
         "mode": "markers",
         "name": "0583 License/Maintenance fees for Application Software (including COTS) & Application Development & Delivery Software",
         "orientation": "v",
         "showlegend": true,
         "type": "scatter",
         "x": [
          "0583 License/Maintenance fees for Application Software (including COTS) & Application Development & Delivery Software"
         ],
         "xaxis": "x",
         "y": [
          15
         ],
         "yaxis": "y"
        },
        {
         "hovertemplate": "<b>%{hovertext}</b><br><br>Descripción=%{x}<br>Contratos Activos=%{marker.size}<extra></extra>",
         "hovertext": [
          "0584 License/Maintenance fees for Server Operating System and Utility Software"
         ],
         "legendgroup": "0584 License/Maintenance fees for Server Operating System and Utility Software",
         "marker": {
          "color": "#FF6692",
          "size": [
           45
          ],
          "sizemode": "area",
          "sizeref": 0.12,
          "symbol": "circle"
         },
         "mode": "markers",
         "name": "0584 License/Maintenance fees for Server Operating System and Utility Software",
         "orientation": "v",
         "showlegend": true,
         "type": "scatter",
         "x": [
          "0584 License/Maintenance fees for Server Operating System and Utility Software"
         ],
         "xaxis": "x",
         "y": [
          45
         ],
         "yaxis": "y"
        },
        {
         "hovertemplate": "<b>%{hovertext}</b><br><br>Descripción=%{x}<br>Contratos Activos=%{marker.size}<extra></extra>",
         "hovertext": [
          "0664 Repair & Maintenance of Communications/Networking Equipment"
         ],
         "legendgroup": "0664 Repair & Maintenance of Communications/Networking Equipment",
         "marker": {
          "color": "#B6E880",
          "size": [
           15
          ],
          "sizemode": "area",
          "sizeref": 0.12,
          "symbol": "circle"
         },
         "mode": "markers",
         "name": "0664 Repair & Maintenance of Communications/Networking Equipment",
         "orientation": "v",
         "showlegend": true,
         "type": "scatter",
         "x": [
          "0664 Repair & Maintenance of Communications/Networking Equipment"
         ],
         "xaxis": "x",
         "y": [
          15
         ],
         "yaxis": "y"
        },
        {
         "hovertemplate": "<b>%{hovertext}</b><br><br>Descripción=%{x}<br>Contratos Activos=%{marker.size}<extra></extra>",
         "hovertext": [
          "0812 Information Technology Managed Services"
         ],
         "legendgroup": "0812 Information Technology Managed Services",
         "marker": {
          "color": "#FF97FF",
          "size": [
           15
          ],
          "sizemode": "area",
          "sizeref": 0.12,
          "symbol": "circle"
         },
         "mode": "markers",
         "name": "0812 Information Technology Managed Services",
         "orientation": "v",
         "showlegend": true,
         "type": "scatter",
         "x": [
          "0812 Information Technology Managed Services"
         ],
         "xaxis": "x",
         "y": [
          15
         ],
         "yaxis": "y"
        },
        {
         "hovertemplate": "<b>%{hovertext}</b><br><br>Descripción=%{x}<br>Contratos Activos=%{marker.size}<extra></extra>",
         "hovertext": [
          "0813 Temporary help services"
         ],
         "legendgroup": "0813 Temporary help services",
         "marker": {
          "color": "#FECB52",
          "size": [
           15
          ],
          "sizemode": "area",
          "sizeref": 0.12,
          "symbol": "circle"
         },
         "mode": "markers",
         "name": "0813 Temporary help services",
         "orientation": "v",
         "showlegend": true,
         "type": "scatter",
         "x": [
          "0813 Temporary help services"
         ],
         "xaxis": "x",
         "y": [
          15
         ],
         "yaxis": "y"
        },
        {
         "hovertemplate": "<b>%{hovertext}</b><br><br>Descripción=%{x}<br>Contratos Activos=%{marker.size}<extra></extra>",
         "hovertext": [
          "0859 - Other Business Services not Elsewhere Specified"
         ],
         "legendgroup": "0859 - Other Business Services not Elsewhere Specified",
         "marker": {
          "color": "#636efa",
          "size": [
           15
          ],
          "sizemode": "area",
          "sizeref": 0.12,
          "symbol": "circle"
         },
         "mode": "markers",
         "name": "0859 - Other Business Services not Elsewhere Specified",
         "orientation": "v",
         "showlegend": true,
         "type": "scatter",
         "x": [
          "0859 - Other Business Services not Elsewhere Specified"
         ],
         "xaxis": "x",
         "y": [
          15
         ],
         "yaxis": "y"
        },
        {
         "hovertemplate": "<b>%{hovertext}</b><br><br>Descripción=%{x}<br>Contratos Activos=%{marker.size}<extra></extra>",
         "hovertext": [
          "0859 – Other Business Services not Elsewhere Specified - Warehousing"
         ],
         "legendgroup": "0859 – Other Business Services not Elsewhere Specified - Warehousing",
         "marker": {
          "color": "#EF553B",
          "size": [
           4
          ],
          "sizemode": "area",
          "sizeref": 0.12,
          "symbol": "circle"
         },
         "mode": "markers",
         "name": "0859 – Other Business Services not Elsewhere Specified - Warehousing",
         "orientation": "v",
         "showlegend": true,
         "type": "scatter",
         "x": [
          "0859 – Other Business Services not Elsewhere Specified - Warehousing"
         ],
         "xaxis": "x",
         "y": [
          4
         ],
         "yaxis": "y"
        },
        {
         "hovertemplate": "<b>%{hovertext}</b><br><br>Descripción=%{x}<br>Contratos Activos=%{marker.size}<extra></extra>",
         "hovertext": [
          "1179 - Miscellaneous Manufactured Articles"
         ],
         "legendgroup": "1179 - Miscellaneous Manufactured Articles",
         "marker": {
          "color": "#00cc96",
          "size": [
           15
          ],
          "sizemode": "area",
          "sizeref": 0.12,
          "symbol": "circle"
         },
         "mode": "markers",
         "name": "1179 - Miscellaneous Manufactured Articles",
         "orientation": "v",
         "showlegend": true,
         "type": "scatter",
         "x": [
          "1179 - Miscellaneous Manufactured Articles"
         ],
         "xaxis": "x",
         "y": [
          15
         ],
         "yaxis": "y"
        },
        {
         "hovertemplate": "<b>%{hovertext}</b><br><br>Descripción=%{x}<br>Contratos Activos=%{marker.size}<extra></extra>",
         "hovertext": [
          "1231 Office furniture and furnishings, incl. Parts"
         ],
         "legendgroup": "1231 Office furniture and furnishings, incl. Parts",
         "marker": {
          "color": "#ab63fa",
          "size": [
           30
          ],
          "sizemode": "area",
          "sizeref": 0.12,
          "symbol": "circle"
         },
         "mode": "markers",
         "name": "1231 Office furniture and furnishings, incl. Parts",
         "orientation": "v",
         "showlegend": true,
         "type": "scatter",
         "x": [
          "1231 Office furniture and furnishings, incl. Parts"
         ],
         "xaxis": "x",
         "y": [
          30
         ],
         "yaxis": "y"
        },
        {
         "hovertemplate": "<b>%{hovertext}</b><br><br>Descripción=%{x}<br>Contratos Activos=%{marker.size}<extra></extra>",
         "hovertext": [
          "1282 Computer Equipment - Servers (includes related parts and peripherals)"
         ],
         "legendgroup": "1282 Computer Equipment - Servers (includes related parts and peripherals)",
         "marker": {
          "color": "#FFA15A",
          "size": [
           15
          ],
          "sizemode": "area",
          "sizeref": 0.12,
          "symbol": "circle"
         },
         "mode": "markers",
         "name": "1282 Computer Equipment - Servers (includes related parts and peripherals)",
         "orientation": "v",
         "showlegend": true,
         "type": "scatter",
         "x": [
          "1282 Computer Equipment - Servers (includes related parts and peripherals)"
         ],
         "xaxis": "x",
         "y": [
          15
         ],
         "yaxis": "y"
        },
        {
         "hovertemplate": "<b>%{hovertext}</b><br><br>Descripción=%{x}<br>Contratos Activos=%{marker.size}<extra></extra>",
         "hovertext": [
          "1283 - Computer Equipment related to Distributed Computing Environment (DCE) - Desktop/Personal/Portable (Includes all related parts and peripherals)"
         ],
         "legendgroup": "1283 - Computer Equipment related to Distributed Computing Environment (DCE) - Desktop/Personal/Portable (Includes all related parts and peripherals)",
         "marker": {
          "color": "#19d3f3",
          "size": [
           15
          ],
          "sizemode": "area",
          "sizeref": 0.12,
          "symbol": "circle"
         },
         "mode": "markers",
         "name": "1283 - Computer Equipment related to Distributed Computing Environment (DCE) - Desktop/Personal/Portable (Includes all related parts and peripherals)",
         "orientation": "v",
         "showlegend": true,
         "type": "scatter",
         "x": [
          "1283 - Computer Equipment related to Distributed Computing Environment (DCE) - Desktop/Personal/Portable (Includes all related parts and peripherals)"
         ],
         "xaxis": "x",
         "y": [
          15
         ],
         "yaxis": "y"
        },
        {
         "hovertemplate": "<b>%{hovertext}</b><br><br>Descripción=%{x}<br>Contratos Activos=%{marker.size}<extra></extra>",
         "hovertext": [
          "1283 Computer Equipment - Client Computing Domain - Desktop/Personal/Portable (includes related parts and peripherals)"
         ],
         "legendgroup": "1283 Computer Equipment - Client Computing Domain - Desktop/Personal/Portable (includes related parts and peripherals)",
         "marker": {
          "color": "#FF6692",
          "size": [
           15
          ],
          "sizemode": "area",
          "sizeref": 0.12,
          "symbol": "circle"
         },
         "mode": "markers",
         "name": "1283 Computer Equipment - Client Computing Domain - Desktop/Personal/Portable (includes related parts and peripherals)",
         "orientation": "v",
         "showlegend": true,
         "type": "scatter",
         "x": [
          "1283 Computer Equipment - Client Computing Domain - Desktop/Personal/Portable (includes related parts and peripherals)"
         ],
         "xaxis": "x",
         "y": [
          15
         ],
         "yaxis": "y"
        },
        {
         "hovertemplate": "<b>%{hovertext}</b><br><br>Descripción=%{x}<br>Contratos Activos=%{marker.size}<extra></extra>",
         "hovertext": [
          "Accounting and Audit Services - Audits of internal controls"
         ],
         "legendgroup": "Accounting and Audit Services - Audits of internal controls",
         "marker": {
          "color": "#B6E880",
          "size": [
           4
          ],
          "sizemode": "area",
          "sizeref": 0.12,
          "symbol": "circle"
         },
         "mode": "markers",
         "name": "Accounting and Audit Services - Audits of internal controls",
         "orientation": "v",
         "showlegend": true,
         "type": "scatter",
         "x": [
          "Accounting and Audit Services - Audits of internal controls"
         ],
         "xaxis": "x",
         "y": [
          4
         ],
         "yaxis": "y"
        },
        {
         "hovertemplate": "<b>%{hovertext}</b><br><br>Descripción=%{x}<br>Contratos Activos=%{marker.size}<extra></extra>",
         "hovertext": [
          "Accounting and audit services"
         ],
         "legendgroup": "Accounting and audit services",
         "marker": {
          "color": "#FF97FF",
          "size": [
           18
          ],
          "sizemode": "area",
          "sizeref": 0.12,
          "symbol": "circle"
         },
         "mode": "markers",
         "name": "Accounting and audit services",
         "orientation": "v",
         "showlegend": true,
         "type": "scatter",
         "x": [
          "Accounting and audit services"
         ],
         "xaxis": "x",
         "y": [
          18
         ],
         "yaxis": "y"
        },
        {
         "hovertemplate": "<b>%{hovertext}</b><br><br>Descripción=%{x}<br>Contratos Activos=%{marker.size}<extra></extra>",
         "hovertext": [
          "Application software (including COTS) and application development and delivery software"
         ],
         "legendgroup": "Application software (including COTS) and application development and delivery software",
         "marker": {
          "color": "#FECB52",
          "size": [
           11
          ],
          "sizemode": "area",
          "sizeref": 0.12,
          "symbol": "circle"
         },
         "mode": "markers",
         "name": "Application software (including COTS) and application development and delivery software",
         "orientation": "v",
         "showlegend": true,
         "type": "scatter",
         "x": [
          "Application software (including COTS) and application development and delivery software"
         ],
         "xaxis": "x",
         "y": [
          11
         ],
         "yaxis": "y"
        },
        {
         "hovertemplate": "<b>%{hovertext}</b><br><br>Descripción=%{x}<br>Contratos Activos=%{marker.size}<extra></extra>",
         "hovertext": [
          "Audio-visual services"
         ],
         "legendgroup": "Audio-visual services",
         "marker": {
          "color": "#636efa",
          "size": [
           432
          ],
          "sizemode": "area",
          "sizeref": 0.12,
          "symbol": "circle"
         },
         "mode": "markers",
         "name": "Audio-visual services",
         "orientation": "v",
         "showlegend": true,
         "type": "scatter",
         "x": [
          "Audio-visual services"
         ],
         "xaxis": "x",
         "y": [
          432
         ],
         "yaxis": "y"
        },
        {
         "hovertemplate": "<b>%{hovertext}</b><br><br>Descripción=%{x}<br>Contratos Activos=%{marker.size}<extra></extra>",
         "hovertext": [
          "Business services"
         ],
         "legendgroup": "Business services",
         "marker": {
          "color": "#EF553B",
          "size": [
           88
          ],
          "sizemode": "area",
          "sizeref": 0.12,
          "symbol": "circle"
         },
         "mode": "markers",
         "name": "Business services",
         "orientation": "v",
         "showlegend": true,
         "type": "scatter",
         "x": [
          "Business services"
         ],
         "xaxis": "x",
         "y": [
          88
         ],
         "yaxis": "y"
        },
        {
         "hovertemplate": "<b>%{hovertext}</b><br><br>Descripción=%{x}<br>Contratos Activos=%{marker.size}<extra></extra>",
         "hovertext": [
          "COMPUTER EQUIPMENT RELATED TO DISTRIBUTED COMPUTING ENVIRONMENT (DCE)—DESKTOP/PERSONAL/PROTABLE (Includes all related parts and peripherals) "
         ],
         "legendgroup": "COMPUTER EQUIPMENT RELATED TO DISTRIBUTED COMPUTING ENVIRONMENT (DCE)—DESKTOP/PERSONAL/PROTABLE (Includes all related parts and peripherals) ",
         "marker": {
          "color": "#00cc96",
          "size": [
           94
          ],
          "sizemode": "area",
          "sizeref": 0.12,
          "symbol": "circle"
         },
         "mode": "markers",
         "name": "COMPUTER EQUIPMENT RELATED TO DISTRIBUTED COMPUTING ENVIRONMENT (DCE)—DESKTOP/PERSONAL/PROTABLE (Includes all related parts and peripherals) ",
         "orientation": "v",
         "showlegend": true,
         "type": "scatter",
         "x": [
          "COMPUTER EQUIPMENT RELATED TO DISTRIBUTED COMPUTING ENVIRONMENT (DCE)—DESKTOP/PERSONAL/PROTABLE (Includes all related parts and peripherals) "
         ],
         "xaxis": "x",
         "y": [
          94
         ],
         "yaxis": "y"
        },
        {
         "hovertemplate": "<b>%{hovertext}</b><br><br>Descripción=%{x}<br>Contratos Activos=%{marker.size}<extra></extra>",
         "hovertext": [
          "Client software related to Distributed Computing Environment (DCE)"
         ],
         "legendgroup": "Client software related to Distributed Computing Environment (DCE)",
         "marker": {
          "color": "#ab63fa",
          "size": [
           11
          ],
          "sizemode": "area",
          "sizeref": 0.12,
          "symbol": "circle"
         },
         "mode": "markers",
         "name": "Client software related to Distributed Computing Environment (DCE)",
         "orientation": "v",
         "showlegend": true,
         "type": "scatter",
         "x": [
          "Client software related to Distributed Computing Environment (DCE)"
         ],
         "xaxis": "x",
         "y": [
          11
         ],
         "yaxis": "y"
        },
        {
         "hovertemplate": "<b>%{hovertext}</b><br><br>Descripción=%{x}<br>Contratos Activos=%{marker.size}<extra></extra>",
         "hovertext": [
          "Communication Services"
         ],
         "legendgroup": "Communication Services",
         "marker": {
          "color": "#FFA15A",
          "size": [
           55
          ],
          "sizemode": "area",
          "sizeref": 0.12,
          "symbol": "circle"
         },
         "mode": "markers",
         "name": "Communication Services",
         "orientation": "v",
         "showlegend": true,
         "type": "scatter",
         "x": [
          "Communication Services"
         ],
         "xaxis": "x",
         "y": [
          55
         ],
         "yaxis": "y"
        },
        {
         "hovertemplate": "<b>%{hovertext}</b><br><br>Descripción=%{x}<br>Contratos Activos=%{marker.size}<extra></extra>",
         "hovertext": [
          "Communications Research Services"
         ],
         "legendgroup": "Communications Research Services",
         "marker": {
          "color": "#19d3f3",
          "size": [
           7
          ],
          "sizemode": "area",
          "sizeref": 0.12,
          "symbol": "circle"
         },
         "mode": "markers",
         "name": "Communications Research Services",
         "orientation": "v",
         "showlegend": true,
         "type": "scatter",
         "x": [
          "Communications Research Services"
         ],
         "xaxis": "x",
         "y": [
          7
         ],
         "yaxis": "y"
        },
        {
         "hovertemplate": "<b>%{hovertext}</b><br><br>Descripción=%{x}<br>Contratos Activos=%{marker.size}<extra></extra>",
         "hovertext": [
          "Computer Equipment - Desktop/Personal/Portable"
         ],
         "legendgroup": "Computer Equipment - Desktop/Personal/Portable",
         "marker": {
          "color": "#FF6692",
          "size": [
           14
          ],
          "sizemode": "area",
          "sizeref": 0.12,
          "symbol": "circle"
         },
         "mode": "markers",
         "name": "Computer Equipment - Desktop/Personal/Portable",
         "orientation": "v",
         "showlegend": true,
         "type": "scatter",
         "x": [
          "Computer Equipment - Desktop/Personal/Portable"
         ],
         "xaxis": "x",
         "y": [
          14
         ],
         "yaxis": "y"
        },
        {
         "hovertemplate": "<b>%{hovertext}</b><br><br>Descripción=%{x}<br>Contratos Activos=%{marker.size}<extra></extra>",
         "hovertext": [
          "Computer Equipment related to Production and Operations (P&O) environment - All servers, storage, printers etc."
         ],
         "legendgroup": "Computer Equipment related to Production and Operations (P&O) environment - All servers, storage, printers etc.",
         "marker": {
          "color": "#B6E880",
          "size": [
           4
          ],
          "sizemode": "area",
          "sizeref": 0.12,
          "symbol": "circle"
         },
         "mode": "markers",
         "name": "Computer Equipment related to Production and Operations (P&O) environment - All servers, storage, printers etc.",
         "orientation": "v",
         "showlegend": true,
         "type": "scatter",
         "x": [
          "Computer Equipment related to Production and Operations (P&O) environment - All servers, storage, printers etc."
         ],
         "xaxis": "x",
         "y": [
          4
         ],
         "yaxis": "y"
        },
        {
         "hovertemplate": "<b>%{hovertext}</b><br><br>Descripción=%{x}<br>Contratos Activos=%{marker.size}<extra></extra>",
         "hovertext": [
          "Computer equipment related to Distributed Computing Environment (DCE) - Desktop/personal/portable (includes all related parts and peripherals)"
         ],
         "legendgroup": "Computer equipment related to Distributed Computing Environment (DCE) - Desktop/personal/portable (includes all related parts and peripherals)",
         "marker": {
          "color": "#FF97FF",
          "size": [
           23
          ],
          "sizemode": "area",
          "sizeref": 0.12,
          "symbol": "circle"
         },
         "mode": "markers",
         "name": "Computer equipment related to Distributed Computing Environment (DCE) - Desktop/personal/portable (includes all related parts and peripherals)",
         "orientation": "v",
         "showlegend": true,
         "type": "scatter",
         "x": [
          "Computer equipment related to Distributed Computing Environment (DCE) - Desktop/personal/portable (includes all related parts and peripherals)"
         ],
         "xaxis": "x",
         "y": [
          23
         ],
         "yaxis": "y"
        },
        {
         "hovertemplate": "<b>%{hovertext}</b><br><br>Descripción=%{x}<br>Contratos Activos=%{marker.size}<extra></extra>",
         "hovertext": [
          "Computer equipment related to Distributed Computing Environment (DCE)—Desktop/personal/portable (includes all related parts and peripherals)"
         ],
         "legendgroup": "Computer equipment related to Distributed Computing Environment (DCE)—Desktop/personal/portable (includes all related parts and peripherals)",
         "marker": {
          "color": "#FECB52",
          "size": [
           44
          ],
          "sizemode": "area",
          "sizeref": 0.12,
          "symbol": "circle"
         },
         "mode": "markers",
         "name": "Computer equipment related to Distributed Computing Environment (DCE)—Desktop/personal/portable (includes all related parts and peripherals)",
         "orientation": "v",
         "showlegend": true,
         "type": "scatter",
         "x": [
          "Computer equipment related to Distributed Computing Environment (DCE)—Desktop/personal/portable (includes all related parts and peripherals)"
         ],
         "xaxis": "x",
         "y": [
          44
         ],
         "yaxis": "y"
        },
        {
         "hovertemplate": "<b>%{hovertext}</b><br><br>Descripción=%{x}<br>Contratos Activos=%{marker.size}<extra></extra>",
         "hovertext": [
          "Computer services (includes IT solutions/deliverables as well as IT managed services)"
         ],
         "legendgroup": "Computer services (includes IT solutions/deliverables as well as IT managed services)",
         "marker": {
          "color": "#636efa",
          "size": [
           11
          ],
          "sizemode": "area",
          "sizeref": 0.12,
          "symbol": "circle"
         },
         "mode": "markers",
         "name": "Computer services (includes IT solutions/deliverables as well as IT managed services)",
         "orientation": "v",
         "showlegend": true,
         "type": "scatter",
         "x": [
          "Computer services (includes IT solutions/deliverables as well as IT managed services)"
         ],
         "xaxis": "x",
         "y": [
          11
         ],
         "yaxis": "y"
        },
        {
         "hovertemplate": "<b>%{hovertext}</b><br><br>Descripción=%{x}<br>Contratos Activos=%{marker.size}<extra></extra>",
         "hovertext": [
          "Consultants en technologie de l’information et télécommunications"
         ],
         "legendgroup": "Consultants en technologie de l’information et télécommunications",
         "marker": {
          "color": "#EF553B",
          "size": [
           4
          ],
          "sizemode": "area",
          "sizeref": 0.12,
          "symbol": "circle"
         },
         "mode": "markers",
         "name": "Consultants en technologie de l’information et télécommunications",
         "orientation": "v",
         "showlegend": true,
         "type": "scatter",
         "x": [
          "Consultants en technologie de l’information et télécommunications"
         ],
         "xaxis": "x",
         "y": [
          4
         ],
         "yaxis": "y"
        },
        {
         "hovertemplate": "<b>%{hovertext}</b><br><br>Descripción=%{x}<br>Contratos Activos=%{marker.size}<extra></extra>",
         "hovertext": [
          "Courier services"
         ],
         "legendgroup": "Courier services",
         "marker": {
          "color": "#00cc96",
          "size": [
           44
          ],
          "sizemode": "area",
          "sizeref": 0.12,
          "symbol": "circle"
         },
         "mode": "markers",
         "name": "Courier services",
         "orientation": "v",
         "showlegend": true,
         "type": "scatter",
         "x": [
          "Courier services"
         ],
         "xaxis": "x",
         "y": [
          44
         ],
         "yaxis": "y"
        },
        {
         "hovertemplate": "<b>%{hovertext}</b><br><br>Descripción=%{x}<br>Contratos Activos=%{marker.size}<extra></extra>",
         "hovertext": [
          "Data & Database Access Services"
         ],
         "legendgroup": "Data & Database Access Services",
         "marker": {
          "color": "#ab63fa",
          "size": [
           7
          ],
          "sizemode": "area",
          "sizeref": 0.12,
          "symbol": "circle"
         },
         "mode": "markers",
         "name": "Data & Database Access Services",
         "orientation": "v",
         "showlegend": true,
         "type": "scatter",
         "x": [
          "Data & Database Access Services"
         ],
         "xaxis": "x",
         "y": [
          7
         ],
         "yaxis": "y"
        },
        {
         "hovertemplate": "<b>%{hovertext}</b><br><br>Descripción=%{x}<br>Contratos Activos=%{marker.size}<extra></extra>",
         "hovertext": [
          "Data and database access services"
         ],
         "legendgroup": "Data and database access services",
         "marker": {
          "color": "#FFA15A",
          "size": [
           22
          ],
          "sizemode": "area",
          "sizeref": 0.12,
          "symbol": "circle"
         },
         "mode": "markers",
         "name": "Data and database access services",
         "orientation": "v",
         "showlegend": true,
         "type": "scatter",
         "x": [
          "Data and database access services"
         ],
         "xaxis": "x",
         "y": [
          22
         ],
         "yaxis": "y"
        },
        {
         "hovertemplate": "<b>%{hovertext}</b><br><br>Descripción=%{x}<br>Contratos Activos=%{marker.size}<extra></extra>",
         "hovertext": [
          "Engineering consultants—Other"
         ],
         "legendgroup": "Engineering consultants—Other",
         "marker": {
          "color": "#19d3f3",
          "size": [
           40
          ],
          "sizemode": "area",
          "sizeref": 0.12,
          "symbol": "circle"
         },
         "mode": "markers",
         "name": "Engineering consultants—Other",
         "orientation": "v",
         "showlegend": true,
         "type": "scatter",
         "x": [
          "Engineering consultants—Other"
         ],
         "xaxis": "x",
         "y": [
          40
         ],
         "yaxis": "y"
        },
        {
         "hovertemplate": "<b>%{hovertext}</b><br><br>Descripción=%{x}<br>Contratos Activos=%{marker.size}<extra></extra>",
         "hovertext": [
          "ForeScout ever greening and support renewal"
         ],
         "legendgroup": "ForeScout ever greening and support renewal",
         "marker": {
          "color": "#FF6692",
          "size": [
           2
          ],
          "sizemode": "area",
          "sizeref": 0.12,
          "symbol": "circle"
         },
         "mode": "markers",
         "name": "ForeScout ever greening and support renewal",
         "orientation": "v",
         "showlegend": true,
         "type": "scatter",
         "x": [
          "ForeScout ever greening and support renewal"
         ],
         "xaxis": "x",
         "y": [
          2
         ],
         "yaxis": "y"
        },
        {
         "hovertemplate": "<b>%{hovertext}</b><br><br>Descripción=%{x}<br>Contratos Activos=%{marker.size}<extra></extra>",
         "hovertext": [
          "Image/Video communications equipment (includes telepresence/video conferencing equipment, cabling, parts and peripherals)"
         ],
         "legendgroup": "Image/Video communications equipment (includes telepresence/video conferencing equipment, cabling, parts and peripherals)",
         "marker": {
          "color": "#B6E880",
          "size": [
           22
          ],
          "sizemode": "area",
          "sizeref": 0.12,
          "symbol": "circle"
         },
         "mode": "markers",
         "name": "Image/Video communications equipment (includes telepresence/video conferencing equipment, cabling, parts and peripherals)",
         "orientation": "v",
         "showlegend": true,
         "type": "scatter",
         "x": [
          "Image/Video communications equipment (includes telepresence/video conferencing equipment, cabling, parts and peripherals)"
         ],
         "xaxis": "x",
         "y": [
          22
         ],
         "yaxis": "y"
        },
        {
         "hovertemplate": "<b>%{hovertext}</b><br><br>Descripción=%{x}<br>Contratos Activos=%{marker.size}<extra></extra>",
         "hovertext": [
          "Information Technology Services - Project Executive"
         ],
         "legendgroup": "Information Technology Services - Project Executive",
         "marker": {
          "color": "#FF97FF",
          "size": [
           4
          ],
          "sizemode": "area",
          "sizeref": 0.12,
          "symbol": "circle"
         },
         "mode": "markers",
         "name": "Information Technology Services - Project Executive",
         "orientation": "v",
         "showlegend": true,
         "type": "scatter",
         "x": [
          "Information Technology Services - Project Executive"
         ],
         "xaxis": "x",
         "y": [
          4
         ],
         "yaxis": "y"
        },
        {
         "hovertemplate": "<b>%{hovertext}</b><br><br>Descripción=%{x}<br>Contratos Activos=%{marker.size}<extra></extra>",
         "hovertext": [
          "Information Technology and Telecommunications Consultants"
         ],
         "legendgroup": "Information Technology and Telecommunications Consultants",
         "marker": {
          "color": "#FECB52",
          "size": [
           14
          ],
          "sizemode": "area",
          "sizeref": 0.12,
          "symbol": "circle"
         },
         "mode": "markers",
         "name": "Information Technology and Telecommunications Consultants",
         "orientation": "v",
         "showlegend": true,
         "type": "scatter",
         "x": [
          "Information Technology and Telecommunications Consultants"
         ],
         "xaxis": "x",
         "y": [
          14
         ],
         "yaxis": "y"
        },
        {
         "hovertemplate": "<b>%{hovertext}</b><br><br>Descripción=%{x}<br>Contratos Activos=%{marker.size}<extra></extra>",
         "hovertext": [
          "Information Technology and Telecommunications Consultants - Project Advisor "
         ],
         "legendgroup": "Information Technology and Telecommunications Consultants - Project Advisor ",
         "marker": {
          "color": "#636efa",
          "size": [
           4
          ],
          "sizemode": "area",
          "sizeref": 0.12,
          "symbol": "circle"
         },
         "mode": "markers",
         "name": "Information Technology and Telecommunications Consultants - Project Advisor ",
         "orientation": "v",
         "showlegend": true,
         "type": "scatter",
         "x": [
          "Information Technology and Telecommunications Consultants - Project Advisor "
         ],
         "xaxis": "x",
         "y": [
          4
         ],
         "yaxis": "y"
        },
        {
         "hovertemplate": "<b>%{hovertext}</b><br><br>Descripción=%{x}<br>Contratos Activos=%{marker.size}<extra></extra>",
         "hovertext": [
          "Information technology and telecommunications consultants"
         ],
         "legendgroup": "Information technology and telecommunications consultants",
         "marker": {
          "color": "#EF553B",
          "size": [
           90
          ],
          "sizemode": "area",
          "sizeref": 0.12,
          "symbol": "circle"
         },
         "mode": "markers",
         "name": "Information technology and telecommunications consultants",
         "orientation": "v",
         "showlegend": true,
         "type": "scatter",
         "x": [
          "Information technology and telecommunications consultants"
         ],
         "xaxis": "x",
         "y": [
          90
         ],
         "yaxis": "y"
        },
        {
         "hovertemplate": "<b>%{hovertext}</b><br><br>Descripción=%{x}<br>Contratos Activos=%{marker.size}<extra></extra>",
         "hovertext": [
          "JX7030 - ADP Software Maintenance - Other than Microcomputer"
         ],
         "legendgroup": "JX7030 - ADP Software Maintenance - Other than Microcomputer",
         "marker": {
          "color": "#00cc96",
          "size": [
           3
          ],
          "sizemode": "area",
          "sizeref": 0.12,
          "symbol": "circle"
         },
         "mode": "markers",
         "name": "JX7030 - ADP Software Maintenance - Other than Microcomputer",
         "orientation": "v",
         "showlegend": true,
         "type": "scatter",
         "x": [
          "JX7030 - ADP Software Maintenance - Other than Microcomputer"
         ],
         "xaxis": "x",
         "y": [
          3
         ],
         "yaxis": "y"
        },
        {
         "hovertemplate": "<b>%{hovertext}</b><br><br>Descripción=%{x}<br>Contratos Activos=%{marker.size}<extra></extra>",
         "hovertext": [
          "LICENSE/MAITNENANCE OF COMPUTER SOFTWARE- DISTRIBUTED COMPUTING ENVIRONMENT"
         ],
         "legendgroup": "LICENSE/MAITNENANCE OF COMPUTER SOFTWARE- DISTRIBUTED COMPUTING ENVIRONMENT",
         "marker": {
          "color": "#ab63fa",
          "size": [
           47
          ],
          "sizemode": "area",
          "sizeref": 0.12,
          "symbol": "circle"
         },
         "mode": "markers",
         "name": "LICENSE/MAITNENANCE OF COMPUTER SOFTWARE- DISTRIBUTED COMPUTING ENVIRONMENT",
         "orientation": "v",
         "showlegend": true,
         "type": "scatter",
         "x": [
          "LICENSE/MAITNENANCE OF COMPUTER SOFTWARE- DISTRIBUTED COMPUTING ENVIRONMENT"
         ],
         "xaxis": "x",
         "y": [
          47
         ],
         "yaxis": "y"
        },
        {
         "hovertemplate": "<b>%{hovertext}</b><br><br>Descripción=%{x}<br>Contratos Activos=%{marker.size}<extra></extra>",
         "hovertext": [
          "License/Maintenance fees for Client Software related to Distributed Computing Environment (DCE)"
         ],
         "legendgroup": "License/Maintenance fees for Client Software related to Distributed Computing Environment (DCE)",
         "marker": {
          "color": "#FFA15A",
          "size": [
           4
          ],
          "sizemode": "area",
          "sizeref": 0.12,
          "symbol": "circle"
         },
         "mode": "markers",
         "name": "License/Maintenance fees for Client Software related to Distributed Computing Environment (DCE)",
         "orientation": "v",
         "showlegend": true,
         "type": "scatter",
         "x": [
          "License/Maintenance fees for Client Software related to Distributed Computing Environment (DCE)"
         ],
         "xaxis": "x",
         "y": [
          4
         ],
         "yaxis": "y"
        },
        {
         "hovertemplate": "<b>%{hovertext}</b><br><br>Descripción=%{x}<br>Contratos Activos=%{marker.size}<extra></extra>",
         "hovertext": [
          "License/Maintenance fees for application software (including COTS) and application development and delivery software"
         ],
         "legendgroup": "License/Maintenance fees for application software (including COTS) and application development and delivery software",
         "marker": {
          "color": "#19d3f3",
          "size": [
           77
          ],
          "sizemode": "area",
          "sizeref": 0.12,
          "symbol": "circle"
         },
         "mode": "markers",
         "name": "License/Maintenance fees for application software (including COTS) and application development and delivery software",
         "orientation": "v",
         "showlegend": true,
         "type": "scatter",
         "x": [
          "License/Maintenance fees for application software (including COTS) and application development and delivery software"
         ],
         "xaxis": "x",
         "y": [
          77
         ],
         "yaxis": "y"
        },
        {
         "hovertemplate": "<b>%{hovertext}</b><br><br>Descripción=%{x}<br>Contratos Activos=%{marker.size}<extra></extra>",
         "hovertext": [
          "License/Maintenance fees for client software related to Distributed Computing Environment (DCE)"
         ],
         "legendgroup": "License/Maintenance fees for client software related to Distributed Computing Environment (DCE)",
         "marker": {
          "color": "#FF6692",
          "size": [
           11
          ],
          "sizemode": "area",
          "sizeref": 0.12,
          "symbol": "circle"
         },
         "mode": "markers",
         "name": "License/Maintenance fees for client software related to Distributed Computing Environment (DCE)",
         "orientation": "v",
         "showlegend": true,
         "type": "scatter",
         "x": [
          "License/Maintenance fees for client software related to Distributed Computing Environment (DCE)"
         ],
         "xaxis": "x",
         "y": [
          11
         ],
         "yaxis": "y"
        },
        {
         "hovertemplate": "<b>%{hovertext}</b><br><br>Descripción=%{x}<br>Contratos Activos=%{marker.size}<extra></extra>",
         "hovertext": [
          "Management consulting"
         ],
         "legendgroup": "Management consulting",
         "marker": {
          "color": "#B6E880",
          "size": [
           198
          ],
          "sizemode": "area",
          "sizeref": 0.12,
          "symbol": "circle"
         },
         "mode": "markers",
         "name": "Management consulting",
         "orientation": "v",
         "showlegend": true,
         "type": "scatter",
         "x": [
          "Management consulting"
         ],
         "xaxis": "x",
         "y": [
          198
         ],
         "yaxis": "y"
        },
        {
         "hovertemplate": "<b>%{hovertext}</b><br><br>Descripción=%{x}<br>Contratos Activos=%{marker.size}<extra></extra>",
         "hovertext": [
          "Management consulting "
         ],
         "legendgroup": "Management consulting ",
         "marker": {
          "color": "#FF97FF",
          "size": [
           11
          ],
          "sizemode": "area",
          "sizeref": 0.12,
          "symbol": "circle"
         },
         "mode": "markers",
         "name": "Management consulting ",
         "orientation": "v",
         "showlegend": true,
         "type": "scatter",
         "x": [
          "Management consulting "
         ],
         "xaxis": "x",
         "y": [
          11
         ],
         "yaxis": "y"
        },
        {
         "hovertemplate": "<b>%{hovertext}</b><br><br>Descripción=%{x}<br>Contratos Activos=%{marker.size}<extra></extra>",
         "hovertext": [
          "Miscellaneous Manufactured Articles"
         ],
         "legendgroup": "Miscellaneous Manufactured Articles",
         "marker": {
          "color": "#FECB52",
          "size": [
           8
          ],
          "sizemode": "area",
          "sizeref": 0.12,
          "symbol": "circle"
         },
         "mode": "markers",
         "name": "Miscellaneous Manufactured Articles",
         "orientation": "v",
         "showlegend": true,
         "type": "scatter",
         "x": [
          "Miscellaneous Manufactured Articles"
         ],
         "xaxis": "x",
         "y": [
          8
         ],
         "yaxis": "y"
        },
        {
         "hovertemplate": "<b>%{hovertext}</b><br><br>Descripción=%{x}<br>Contratos Activos=%{marker.size}<extra></extra>",
         "hovertext": [
          "NetApp Storage Area Network"
         ],
         "legendgroup": "NetApp Storage Area Network",
         "marker": {
          "color": "#636efa",
          "size": [
           2
          ],
          "sizemode": "area",
          "sizeref": 0.12,
          "symbol": "circle"
         },
         "mode": "markers",
         "name": "NetApp Storage Area Network",
         "orientation": "v",
         "showlegend": true,
         "type": "scatter",
         "x": [
          "NetApp Storage Area Network"
         ],
         "xaxis": "x",
         "y": [
          2
         ],
         "yaxis": "y"
        },
        {
         "hovertemplate": "<b>%{hovertext}</b><br><br>Descripción=%{x}<br>Contratos Activos=%{marker.size}<extra></extra>",
         "hovertext": [
          "Office furniture and furnishings, incl parts"
         ],
         "legendgroup": "Office furniture and furnishings, incl parts",
         "marker": {
          "color": "#EF553B",
          "size": [
           14
          ],
          "sizemode": "area",
          "sizeref": 0.12,
          "symbol": "circle"
         },
         "mode": "markers",
         "name": "Office furniture and furnishings, incl parts",
         "orientation": "v",
         "showlegend": true,
         "type": "scatter",
         "x": [
          "Office furniture and furnishings, incl parts"
         ],
         "xaxis": "x",
         "y": [
          14
         ],
         "yaxis": "y"
        },
        {
         "hovertemplate": "<b>%{hovertext}</b><br><br>Descripción=%{x}<br>Contratos Activos=%{marker.size}<extra></extra>",
         "hovertext": [
          "Office furniture and furnishings, including parts"
         ],
         "legendgroup": "Office furniture and furnishings, including parts",
         "marker": {
          "color": "#00cc96",
          "size": [
           22
          ],
          "sizemode": "area",
          "sizeref": 0.12,
          "symbol": "circle"
         },
         "mode": "markers",
         "name": "Office furniture and furnishings, including parts",
         "orientation": "v",
         "showlegend": true,
         "type": "scatter",
         "x": [
          "Office furniture and furnishings, including parts"
         ],
         "xaxis": "x",
         "y": [
          22
         ],
         "yaxis": "y"
        },
        {
         "hovertemplate": "<b>%{hovertext}</b><br><br>Descripción=%{x}<br>Contratos Activos=%{marker.size}<extra></extra>",
         "hovertext": [
          "Other Business Services not Elsewhere Specified"
         ],
         "legendgroup": "Other Business Services not Elsewhere Specified",
         "marker": {
          "color": "#ab63fa",
          "size": [
           45
          ],
          "sizemode": "area",
          "sizeref": 0.12,
          "symbol": "circle"
         },
         "mode": "markers",
         "name": "Other Business Services not Elsewhere Specified",
         "orientation": "v",
         "showlegend": true,
         "type": "scatter",
         "x": [
          "Other Business Services not Elsewhere Specified"
         ],
         "xaxis": "x",
         "y": [
          45
         ],
         "yaxis": "y"
        },
        {
         "hovertemplate": "<b>%{hovertext}</b><br><br>Descripción=%{x}<br>Contratos Activos=%{marker.size}<extra></extra>",
         "hovertext": [
          "Other Business services not Elsewhere Specified"
         ],
         "legendgroup": "Other Business services not Elsewhere Specified",
         "marker": {
          "color": "#FFA15A",
          "size": [
           45
          ],
          "sizemode": "area",
          "sizeref": 0.12,
          "symbol": "circle"
         },
         "mode": "markers",
         "name": "Other Business services not Elsewhere Specified",
         "orientation": "v",
         "showlegend": true,
         "type": "scatter",
         "x": [
          "Other Business services not Elsewhere Specified"
         ],
         "xaxis": "x",
         "y": [
          45
         ],
         "yaxis": "y"
        },
        {
         "hovertemplate": "<b>%{hovertext}</b><br><br>Descripción=%{x}<br>Contratos Activos=%{marker.size}<extra></extra>",
         "hovertext": [
          "Other Office Equipment and Parts"
         ],
         "legendgroup": "Other Office Equipment and Parts",
         "marker": {
          "color": "#19d3f3",
          "size": [
           15
          ],
          "sizemode": "area",
          "sizeref": 0.12,
          "symbol": "circle"
         },
         "mode": "markers",
         "name": "Other Office Equipment and Parts",
         "orientation": "v",
         "showlegend": true,
         "type": "scatter",
         "x": [
          "Other Office Equipment and Parts"
         ],
         "xaxis": "x",
         "y": [
          15
         ],
         "yaxis": "y"
        },
        {
         "hovertemplate": "<b>%{hovertext}</b><br><br>Descripción=%{x}<br>Contratos Activos=%{marker.size}<extra></extra>",
         "hovertext": [
          "Other Professional Services not Elsewhere Specified"
         ],
         "legendgroup": "Other Professional Services not Elsewhere Specified",
         "marker": {
          "color": "#FF6692",
          "size": [
           45
          ],
          "sizemode": "area",
          "sizeref": 0.12,
          "symbol": "circle"
         },
         "mode": "markers",
         "name": "Other Professional Services not Elsewhere Specified",
         "orientation": "v",
         "showlegend": true,
         "type": "scatter",
         "x": [
          "Other Professional Services not Elsewhere Specified"
         ],
         "xaxis": "x",
         "y": [
          45
         ],
         "yaxis": "y"
        },
        {
         "hovertemplate": "<b>%{hovertext}</b><br><br>Descripción=%{x}<br>Contratos Activos=%{marker.size}<extra></extra>",
         "hovertext": [
          "Other Professional Services not Elsewhere Specified - Procurement Specialist"
         ],
         "legendgroup": "Other Professional Services not Elsewhere Specified - Procurement Specialist",
         "marker": {
          "color": "#B6E880",
          "size": [
           4
          ],
          "sizemode": "area",
          "sizeref": 0.12,
          "symbol": "circle"
         },
         "mode": "markers",
         "name": "Other Professional Services not Elsewhere Specified - Procurement Specialist",
         "orientation": "v",
         "showlegend": true,
         "type": "scatter",
         "x": [
          "Other Professional Services not Elsewhere Specified - Procurement Specialist"
         ],
         "xaxis": "x",
         "y": [
          4
         ],
         "yaxis": "y"
        },
        {
         "hovertemplate": "<b>%{hovertext}</b><br><br>Descripción=%{x}<br>Contratos Activos=%{marker.size}<extra></extra>",
         "hovertext": [
          "Other Professional Services not Elsewhere Specified - Project Managers and Project Planner"
         ],
         "legendgroup": "Other Professional Services not Elsewhere Specified - Project Managers and Project Planner",
         "marker": {
          "color": "#FF97FF",
          "size": [
           4
          ],
          "sizemode": "area",
          "sizeref": 0.12,
          "symbol": "circle"
         },
         "mode": "markers",
         "name": "Other Professional Services not Elsewhere Specified - Project Managers and Project Planner",
         "orientation": "v",
         "showlegend": true,
         "type": "scatter",
         "x": [
          "Other Professional Services not Elsewhere Specified - Project Managers and Project Planner"
         ],
         "xaxis": "x",
         "y": [
          4
         ],
         "yaxis": "y"
        },
        {
         "hovertemplate": "<b>%{hovertext}</b><br><br>Descripción=%{x}<br>Contratos Activos=%{marker.size}<extra></extra>",
         "hovertext": [
          "Other business services not elsewhere specified"
         ],
         "legendgroup": "Other business services not elsewhere specified",
         "marker": {
          "color": "#FECB52",
          "size": [
           61
          ],
          "sizemode": "area",
          "sizeref": 0.12,
          "symbol": "circle"
         },
         "mode": "markers",
         "name": "Other business services not elsewhere specified",
         "orientation": "v",
         "showlegend": true,
         "type": "scatter",
         "x": [
          "Other business services not elsewhere specified"
         ],
         "xaxis": "x",
         "y": [
          61
         ],
         "yaxis": "y"
        },
        {
         "hovertemplate": "<b>%{hovertext}</b><br><br>Descripción=%{x}<br>Contratos Activos=%{marker.size}<extra></extra>",
         "hovertext": [
          "Other professional services not elsewhere specified"
         ],
         "legendgroup": "Other professional services not elsewhere specified",
         "marker": {
          "color": "#636efa",
          "size": [
           59
          ],
          "sizemode": "area",
          "sizeref": 0.12,
          "symbol": "circle"
         },
         "mode": "markers",
         "name": "Other professional services not elsewhere specified",
         "orientation": "v",
         "showlegend": true,
         "type": "scatter",
         "x": [
          "Other professional services not elsewhere specified"
         ],
         "xaxis": "x",
         "y": [
          59
         ],
         "yaxis": "y"
        },
        {
         "hovertemplate": "<b>%{hovertext}</b><br><br>Descripción=%{x}<br>Contratos Activos=%{marker.size}<extra></extra>",
         "hovertext": [
          "PRINTING SERVICES"
         ],
         "legendgroup": "PRINTING SERVICES",
         "marker": {
          "color": "#EF553B",
          "size": [
           1
          ],
          "sizemode": "area",
          "sizeref": 0.12,
          "symbol": "circle"
         },
         "mode": "markers",
         "name": "PRINTING SERVICES",
         "orientation": "v",
         "showlegend": true,
         "type": "scatter",
         "x": [
          "PRINTING SERVICES"
         ],
         "xaxis": "x",
         "y": [
          1
         ],
         "yaxis": "y"
        },
        {
         "hovertemplate": "<b>%{hovertext}</b><br><br>Descripción=%{x}<br>Contratos Activos=%{marker.size}<extra></extra>",
         "hovertext": [
          "Premium support for Blackberry EMS Collaboration"
         ],
         "legendgroup": "Premium support for Blackberry EMS Collaboration",
         "marker": {
          "color": "#00cc96",
          "size": [
           2
          ],
          "sizemode": "area",
          "sizeref": 0.12,
          "symbol": "circle"
         },
         "mode": "markers",
         "name": "Premium support for Blackberry EMS Collaboration",
         "orientation": "v",
         "showlegend": true,
         "type": "scatter",
         "x": [
          "Premium support for Blackberry EMS Collaboration"
         ],
         "xaxis": "x",
         "y": [
          2
         ],
         "yaxis": "y"
        },
        {
         "hovertemplate": "<b>%{hovertext}</b><br><br>Descripción=%{x}<br>Contratos Activos=%{marker.size}<extra></extra>",
         "hovertext": [
          "Professional services "
         ],
         "legendgroup": "Professional services ",
         "marker": {
          "color": "#ab63fa",
          "size": [
           33
          ],
          "sizemode": "area",
          "sizeref": 0.12,
          "symbol": "circle"
         },
         "mode": "markers",
         "name": "Professional services ",
         "orientation": "v",
         "showlegend": true,
         "type": "scatter",
         "x": [
          "Professional services "
         ],
         "xaxis": "x",
         "y": [
          33
         ],
         "yaxis": "y"
        },
        {
         "hovertemplate": "<b>%{hovertext}</b><br><br>Descripción=%{x}<br>Contratos Activos=%{marker.size}<extra></extra>",
         "hovertext": [
          "Protection services"
         ],
         "legendgroup": "Protection services",
         "marker": {
          "color": "#FFA15A",
          "size": [
           77
          ],
          "sizemode": "area",
          "sizeref": 0.12,
          "symbol": "circle"
         },
         "mode": "markers",
         "name": "Protection services",
         "orientation": "v",
         "showlegend": true,
         "type": "scatter",
         "x": [
          "Protection services"
         ],
         "xaxis": "x",
         "y": [
          77
         ],
         "yaxis": "y"
        },
        {
         "hovertemplate": "<b>%{hovertext}</b><br><br>Descripción=%{x}<br>Contratos Activos=%{marker.size}<extra></extra>",
         "hovertext": [
          "Public Relations Services "
         ],
         "legendgroup": "Public Relations Services ",
         "marker": {
          "color": "#19d3f3",
          "size": [
           4
          ],
          "sizemode": "area",
          "sizeref": 0.12,
          "symbol": "circle"
         },
         "mode": "markers",
         "name": "Public Relations Services ",
         "orientation": "v",
         "showlegend": true,
         "type": "scatter",
         "x": [
          "Public Relations Services "
         ],
         "xaxis": "x",
         "y": [
          4
         ],
         "yaxis": "y"
        },
        {
         "hovertemplate": "<b>%{hovertext}</b><br><br>Descripción=%{x}<br>Contratos Activos=%{marker.size}<extra></extra>",
         "hovertext": [
          "R019 - Other Professional Services"
         ],
         "legendgroup": "R019 - Other Professional Services",
         "marker": {
          "color": "#FF6692",
          "size": [
           6
          ],
          "sizemode": "area",
          "sizeref": 0.12,
          "symbol": "circle"
         },
         "mode": "markers",
         "name": "R019 - Other Professional Services",
         "orientation": "v",
         "showlegend": true,
         "type": "scatter",
         "x": [
          "R019 - Other Professional Services"
         ],
         "xaxis": "x",
         "y": [
          6
         ],
         "yaxis": "y"
        },
        {
         "hovertemplate": "<b>%{hovertext}</b><br><br>Descripción=%{x}<br>Contratos Activos=%{marker.size}<extra></extra>",
         "hovertext": [
          "R109 Translation and Interpreting Services"
         ],
         "legendgroup": "R109 Translation and Interpreting Services",
         "marker": {
          "color": "#B6E880",
          "size": [
           3
          ],
          "sizemode": "area",
          "sizeref": 0.12,
          "symbol": "circle"
         },
         "mode": "markers",
         "name": "R109 Translation and Interpreting Services",
         "orientation": "v",
         "showlegend": true,
         "type": "scatter",
         "x": [
          "R109 Translation and Interpreting Services"
         ],
         "xaxis": "x",
         "y": [
          3
         ],
         "yaxis": "y"
        },
        {
         "hovertemplate": "<b>%{hovertext}</b><br><br>Descripción=%{x}<br>Contratos Activos=%{marker.size}<extra></extra>",
         "hovertext": [
          "R123 Program review and Development"
         ],
         "legendgroup": "R123 Program review and Development",
         "marker": {
          "color": "#FF97FF",
          "size": [
           3
          ],
          "sizemode": "area",
          "sizeref": 0.12,
          "symbol": "circle"
         },
         "mode": "markers",
         "name": "R123 Program review and Development",
         "orientation": "v",
         "showlegend": true,
         "type": "scatter",
         "x": [
          "R123 Program review and Development"
         ],
         "xaxis": "x",
         "y": [
          3
         ],
         "yaxis": "y"
        },
        {
         "hovertemplate": "<b>%{hovertext}</b><br><br>Descripción=%{x}<br>Contratos Activos=%{marker.size}<extra></extra>",
         "hovertext": [
          "Rental - Other"
         ],
         "legendgroup": "Rental - Other",
         "marker": {
          "color": "#FECB52",
          "size": [
           15
          ],
          "sizemode": "area",
          "sizeref": 0.12,
          "symbol": "circle"
         },
         "mode": "markers",
         "name": "Rental - Other",
         "orientation": "v",
         "showlegend": true,
         "type": "scatter",
         "x": [
          "Rental - Other"
         ],
         "xaxis": "x",
         "y": [
          15
         ],
         "yaxis": "y"
        },
        {
         "hovertemplate": "<b>%{hovertext}</b><br><br>Descripción=%{x}<br>Contratos Activos=%{marker.size}<extra></extra>",
         "hovertext": [
          "Rental of aircraft"
         ],
         "legendgroup": "Rental of aircraft",
         "marker": {
          "color": "#636efa",
          "size": [
           33
          ],
          "sizemode": "area",
          "sizeref": 0.12,
          "symbol": "circle"
         },
         "mode": "markers",
         "name": "Rental of aircraft",
         "orientation": "v",
         "showlegend": true,
         "type": "scatter",
         "x": [
          "Rental of aircraft"
         ],
         "xaxis": "x",
         "y": [
          33
         ],
         "yaxis": "y"
        },
        {
         "hovertemplate": "<b>%{hovertext}</b><br><br>Descripción=%{x}<br>Contratos Activos=%{marker.size}<extra></extra>",
         "hovertext": [
          "Rental of machinery, office furniture and fixtures and other equipment"
         ],
         "legendgroup": "Rental of machinery, office furniture and fixtures and other equipment",
         "marker": {
          "color": "#EF553B",
          "size": [
           33
          ],
          "sizemode": "area",
          "sizeref": 0.12,
          "symbol": "circle"
         },
         "mode": "markers",
         "name": "Rental of machinery, office furniture and fixtures and other equipment",
         "orientation": "v",
         "showlegend": true,
         "type": "scatter",
         "x": [
          "Rental of machinery, office furniture and fixtures and other equipment"
         ],
         "xaxis": "x",
         "y": [
          33
         ],
         "yaxis": "y"
        },
        {
         "hovertemplate": "<b>%{hovertext}</b><br><br>Descripción=%{x}<br>Contratos Activos=%{marker.size}<extra></extra>",
         "hovertext": [
          "Scientific consultants"
         ],
         "legendgroup": "Scientific consultants",
         "marker": {
          "color": "#00cc96",
          "size": [
           10
          ],
          "sizemode": "area",
          "sizeref": 0.12,
          "symbol": "circle"
         },
         "mode": "markers",
         "name": "Scientific consultants",
         "orientation": "v",
         "showlegend": true,
         "type": "scatter",
         "x": [
          "Scientific consultants"
         ],
         "xaxis": "x",
         "y": [
          10
         ],
         "yaxis": "y"
        },
        {
         "hovertemplate": "<b>%{hovertext}</b><br><br>Descripción=%{x}<br>Contratos Activos=%{marker.size}<extra></extra>",
         "hovertext": [
          "Second Language Training"
         ],
         "legendgroup": "Second Language Training",
         "marker": {
          "color": "#ab63fa",
          "size": [
           26
          ],
          "sizemode": "area",
          "sizeref": 0.12,
          "symbol": "circle"
         },
         "mode": "markers",
         "name": "Second Language Training",
         "orientation": "v",
         "showlegend": true,
         "type": "scatter",
         "x": [
          "Second Language Training"
         ],
         "xaxis": "x",
         "y": [
          26
         ],
         "yaxis": "y"
        },
        {
         "hovertemplate": "<b>%{hovertext}</b><br><br>Descripción=%{x}<br>Contratos Activos=%{marker.size}<extra></extra>",
         "hovertext": [
          "Services d’approvisionnement -Spécialiste en approvisionnement for general work"
         ],
         "legendgroup": "Services d’approvisionnement -Spécialiste en approvisionnement for general work",
         "marker": {
          "color": "#FFA15A",
          "size": [
           4
          ],
          "sizemode": "area",
          "sizeref": 0.12,
          "symbol": "circle"
         },
         "mode": "markers",
         "name": "Services d’approvisionnement -Spécialiste en approvisionnement for general work",
         "orientation": "v",
         "showlegend": true,
         "type": "scatter",
         "x": [
          "Services d’approvisionnement -Spécialiste en approvisionnement for general work"
         ],
         "xaxis": "x",
         "y": [
          4
         ],
         "yaxis": "y"
        },
        {
         "hovertemplate": "<b>%{hovertext}</b><br><br>Descripción=%{x}<br>Contratos Activos=%{marker.size}<extra></extra>",
         "hovertext": [
          "Software - Blackberry renewal and acquisition"
         ],
         "legendgroup": "Software - Blackberry renewal and acquisition",
         "marker": {
          "color": "#19d3f3",
          "size": [
           2
          ],
          "sizemode": "area",
          "sizeref": 0.12,
          "symbol": "circle"
         },
         "mode": "markers",
         "name": "Software - Blackberry renewal and acquisition",
         "orientation": "v",
         "showlegend": true,
         "type": "scatter",
         "x": [
          "Software - Blackberry renewal and acquisition"
         ],
         "xaxis": "x",
         "y": [
          2
         ],
         "yaxis": "y"
        },
        {
         "hovertemplate": "<b>%{hovertext}</b><br><br>Descripción=%{x}<br>Contratos Activos=%{marker.size}<extra></extra>",
         "hovertext": [
          "Support core mandate activities"
         ],
         "legendgroup": "Support core mandate activities",
         "marker": {
          "color": "#FF6692",
          "size": [
           4
          ],
          "sizemode": "area",
          "sizeref": 0.12,
          "symbol": "circle"
         },
         "mode": "markers",
         "name": "Support core mandate activities",
         "orientation": "v",
         "showlegend": true,
         "type": "scatter",
         "x": [
          "Support core mandate activities"
         ],
         "xaxis": "x",
         "y": [
          4
         ],
         "yaxis": "y"
        },
        {
         "hovertemplate": "<b>%{hovertext}</b><br><br>Descripción=%{x}<br>Contratos Activos=%{marker.size}<extra></extra>",
         "hovertext": [
          "TEMP HELP SERVICES"
         ],
         "legendgroup": "TEMP HELP SERVICES",
         "marker": {
          "color": "#B6E880",
          "size": [
           47
          ],
          "sizemode": "area",
          "sizeref": 0.12,
          "symbol": "circle"
         },
         "mode": "markers",
         "name": "TEMP HELP SERVICES",
         "orientation": "v",
         "showlegend": true,
         "type": "scatter",
         "x": [
          "TEMP HELP SERVICES"
         ],
         "xaxis": "x",
         "y": [
          47
         ],
         "yaxis": "y"
        },
        {
         "hovertemplate": "<b>%{hovertext}</b><br><br>Descripción=%{x}<br>Contratos Activos=%{marker.size}<extra></extra>",
         "hovertext": [
          "Temporary Help"
         ],
         "legendgroup": "Temporary Help",
         "marker": {
          "color": "#FF97FF",
          "size": [
           99
          ],
          "sizemode": "area",
          "sizeref": 0.12,
          "symbol": "circle"
         },
         "mode": "markers",
         "name": "Temporary Help",
         "orientation": "v",
         "showlegend": true,
         "type": "scatter",
         "x": [
          "Temporary Help"
         ],
         "xaxis": "x",
         "y": [
          99
         ],
         "yaxis": "y"
        },
        {
         "hovertemplate": "<b>%{hovertext}</b><br><br>Descripción=%{x}<br>Contratos Activos=%{marker.size}<extra></extra>",
         "hovertext": [
          "Temporary help services"
         ],
         "legendgroup": "Temporary help services",
         "marker": {
          "color": "#FECB52",
          "size": [
           66
          ],
          "sizemode": "area",
          "sizeref": 0.12,
          "symbol": "circle"
         },
         "mode": "markers",
         "name": "Temporary help services",
         "orientation": "v",
         "showlegend": true,
         "type": "scatter",
         "x": [
          "Temporary help services"
         ],
         "xaxis": "x",
         "y": [
          66
         ],
         "yaxis": "y"
        },
        {
         "hovertemplate": "<b>%{hovertext}</b><br><br>Descripción=%{x}<br>Contratos Activos=%{marker.size}<extra></extra>",
         "hovertext": [
          "Training Consultants"
         ],
         "legendgroup": "Training Consultants",
         "marker": {
          "color": "#636efa",
          "size": [
           30
          ],
          "sizemode": "area",
          "sizeref": 0.12,
          "symbol": "circle"
         },
         "mode": "markers",
         "name": "Training Consultants",
         "orientation": "v",
         "showlegend": true,
         "type": "scatter",
         "x": [
          "Training Consultants"
         ],
         "xaxis": "x",
         "y": [
          30
         ],
         "yaxis": "y"
        },
        {
         "hovertemplate": "<b>%{hovertext}</b><br><br>Descripción=%{x}<br>Contratos Activos=%{marker.size}<extra></extra>",
         "hovertext": [
          "Training and Curriculum Development"
         ],
         "legendgroup": "Training and Curriculum Development",
         "marker": {
          "color": "#EF553B",
          "size": [
           11
          ],
          "sizemode": "area",
          "sizeref": 0.12,
          "symbol": "circle"
         },
         "mode": "markers",
         "name": "Training and Curriculum Development",
         "orientation": "v",
         "showlegend": true,
         "type": "scatter",
         "x": [
          "Training and Curriculum Development"
         ],
         "xaxis": "x",
         "y": [
          11
         ],
         "yaxis": "y"
        },
        {
         "hovertemplate": "<b>%{hovertext}</b><br><br>Descripción=%{x}<br>Contratos Activos=%{marker.size}<extra></extra>",
         "hovertext": [
          "Training and educational services"
         ],
         "legendgroup": "Training and educational services",
         "marker": {
          "color": "#00cc96",
          "size": [
           44
          ],
          "sizemode": "area",
          "sizeref": 0.12,
          "symbol": "circle"
         },
         "mode": "markers",
         "name": "Training and educational services",
         "orientation": "v",
         "showlegend": true,
         "type": "scatter",
         "x": [
          "Training and educational services"
         ],
         "xaxis": "x",
         "y": [
          44
         ],
         "yaxis": "y"
        },
        {
         "hovertemplate": "<b>%{hovertext}</b><br><br>Descripción=%{x}<br>Contratos Activos=%{marker.size}<extra></extra>",
         "hovertext": [
          "Training consultants"
         ],
         "legendgroup": "Training consultants",
         "marker": {
          "color": "#ab63fa",
          "size": [
           2
          ],
          "sizemode": "area",
          "sizeref": 0.12,
          "symbol": "circle"
         },
         "mode": "markers",
         "name": "Training consultants",
         "orientation": "v",
         "showlegend": true,
         "type": "scatter",
         "x": [
          "Training consultants"
         ],
         "xaxis": "x",
         "y": [
          2
         ],
         "yaxis": "y"
        },
        {
         "hovertemplate": "<b>%{hovertext}</b><br><br>Descripción=%{x}<br>Contratos Activos=%{marker.size}<extra></extra>",
         "hovertext": [
          "Translation services"
         ],
         "legendgroup": "Translation services",
         "marker": {
          "color": "#FFA15A",
          "size": [
           7
          ],
          "sizemode": "area",
          "sizeref": 0.12,
          "symbol": "circle"
         },
         "mode": "markers",
         "name": "Translation services",
         "orientation": "v",
         "showlegend": true,
         "type": "scatter",
         "x": [
          "Translation services"
         ],
         "xaxis": "x",
         "y": [
          7
         ],
         "yaxis": "y"
        },
        {
         "hovertemplate": "<b>%{hovertext}</b><br><br>Descripción=%{x}<br>Contratos Activos=%{marker.size}<extra></extra>",
         "hovertext": [
          "U006 - Vocational and Technical training"
         ],
         "legendgroup": "U006 - Vocational and Technical training",
         "marker": {
          "color": "#19d3f3",
          "size": [
           3
          ],
          "sizemode": "area",
          "sizeref": 0.12,
          "symbol": "circle"
         },
         "mode": "markers",
         "name": "U006 - Vocational and Technical training",
         "orientation": "v",
         "showlegend": true,
         "type": "scatter",
         "x": [
          "U006 - Vocational and Technical training"
         ],
         "xaxis": "x",
         "y": [
          3
         ],
         "yaxis": "y"
        },
        {
         "hovertemplate": "<b>%{hovertext}</b><br><br>Descripción=%{x}<br>Contratos Activos=%{marker.size}<extra></extra>",
         "hovertext": [
          "Voice Communications Services (includes Analog and/or Digital voice communication services)"
         ],
         "legendgroup": "Voice Communications Services (includes Analog and/or Digital voice communication services)",
         "marker": {
          "color": "#FF6692",
          "size": [
           14
          ],
          "sizemode": "area",
          "sizeref": 0.12,
          "symbol": "circle"
         },
         "mode": "markers",
         "name": "Voice Communications Services (includes Analog and/or Digital voice communication services)",
         "orientation": "v",
         "showlegend": true,
         "type": "scatter",
         "x": [
          "Voice Communications Services (includes Analog and/or Digital voice communication services)"
         ],
         "xaxis": "x",
         "y": [
          14
         ],
         "yaxis": "y"
        },
        {
         "hovertemplate": "<b>%{hovertext}</b><br><br>Descripción=%{x}<br>Contratos Activos=%{marker.size}<extra></extra>",
         "hovertext": [
          "W210 - Software Licences"
         ],
         "legendgroup": "W210 - Software Licences",
         "marker": {
          "color": "#B6E880",
          "size": [
           3
          ],
          "sizemode": "area",
          "sizeref": 0.12,
          "symbol": "circle"
         },
         "mode": "markers",
         "name": "W210 - Software Licences",
         "orientation": "v",
         "showlegend": true,
         "type": "scatter",
         "x": [
          "W210 - Software Licences"
         ],
         "xaxis": "x",
         "y": [
          3
         ],
         "yaxis": "y"
        },
        {
         "hovertemplate": "<b>%{hovertext}</b><br><br>Descripción=%{x}<br>Contratos Activos=%{marker.size}<extra></extra>",
         "hovertext": [
          "WL9915 Works of Art, Lease for 2 years"
         ],
         "legendgroup": "WL9915 Works of Art, Lease for 2 years",
         "marker": {
          "color": "#FF97FF",
          "size": [
           3
          ],
          "sizemode": "area",
          "sizeref": 0.12,
          "symbol": "circle"
         },
         "mode": "markers",
         "name": "WL9915 Works of Art, Lease for 2 years",
         "orientation": "v",
         "showlegend": true,
         "type": "scatter",
         "x": [
          "WL9915 Works of Art, Lease for 2 years"
         ],
         "xaxis": "x",
         "y": [
          3
         ],
         "yaxis": "y"
        }
       ],
       "layout": {
        "legend": {
         "itemsizing": "constant",
         "title": {
          "text": "Descripción"
         },
         "tracegroupgap": 0
        },
        "showlegend": false,
        "template": {
         "data": {
          "bar": [
           {
            "error_x": {
             "color": "#2a3f5f"
            },
            "error_y": {
             "color": "#2a3f5f"
            },
            "marker": {
             "line": {
              "color": "#E5ECF6",
              "width": 0.5
             },
             "pattern": {
              "fillmode": "overlay",
              "size": 10,
              "solidity": 0.2
             }
            },
            "type": "bar"
           }
          ],
          "barpolar": [
           {
            "marker": {
             "line": {
              "color": "#E5ECF6",
              "width": 0.5
             },
             "pattern": {
              "fillmode": "overlay",
              "size": 10,
              "solidity": 0.2
             }
            },
            "type": "barpolar"
           }
          ],
          "carpet": [
           {
            "aaxis": {
             "endlinecolor": "#2a3f5f",
             "gridcolor": "white",
             "linecolor": "white",
             "minorgridcolor": "white",
             "startlinecolor": "#2a3f5f"
            },
            "baxis": {
             "endlinecolor": "#2a3f5f",
             "gridcolor": "white",
             "linecolor": "white",
             "minorgridcolor": "white",
             "startlinecolor": "#2a3f5f"
            },
            "type": "carpet"
           }
          ],
          "choropleth": [
           {
            "colorbar": {
             "outlinewidth": 0,
             "ticks": ""
            },
            "type": "choropleth"
           }
          ],
          "contour": [
           {
            "colorbar": {
             "outlinewidth": 0,
             "ticks": ""
            },
            "colorscale": [
             [
              0,
              "#0d0887"
             ],
             [
              0.1111111111111111,
              "#46039f"
             ],
             [
              0.2222222222222222,
              "#7201a8"
             ],
             [
              0.3333333333333333,
              "#9c179e"
             ],
             [
              0.4444444444444444,
              "#bd3786"
             ],
             [
              0.5555555555555556,
              "#d8576b"
             ],
             [
              0.6666666666666666,
              "#ed7953"
             ],
             [
              0.7777777777777778,
              "#fb9f3a"
             ],
             [
              0.8888888888888888,
              "#fdca26"
             ],
             [
              1,
              "#f0f921"
             ]
            ],
            "type": "contour"
           }
          ],
          "contourcarpet": [
           {
            "colorbar": {
             "outlinewidth": 0,
             "ticks": ""
            },
            "type": "contourcarpet"
           }
          ],
          "heatmap": [
           {
            "colorbar": {
             "outlinewidth": 0,
             "ticks": ""
            },
            "colorscale": [
             [
              0,
              "#0d0887"
             ],
             [
              0.1111111111111111,
              "#46039f"
             ],
             [
              0.2222222222222222,
              "#7201a8"
             ],
             [
              0.3333333333333333,
              "#9c179e"
             ],
             [
              0.4444444444444444,
              "#bd3786"
             ],
             [
              0.5555555555555556,
              "#d8576b"
             ],
             [
              0.6666666666666666,
              "#ed7953"
             ],
             [
              0.7777777777777778,
              "#fb9f3a"
             ],
             [
              0.8888888888888888,
              "#fdca26"
             ],
             [
              1,
              "#f0f921"
             ]
            ],
            "type": "heatmap"
           }
          ],
          "heatmapgl": [
           {
            "colorbar": {
             "outlinewidth": 0,
             "ticks": ""
            },
            "colorscale": [
             [
              0,
              "#0d0887"
             ],
             [
              0.1111111111111111,
              "#46039f"
             ],
             [
              0.2222222222222222,
              "#7201a8"
             ],
             [
              0.3333333333333333,
              "#9c179e"
             ],
             [
              0.4444444444444444,
              "#bd3786"
             ],
             [
              0.5555555555555556,
              "#d8576b"
             ],
             [
              0.6666666666666666,
              "#ed7953"
             ],
             [
              0.7777777777777778,
              "#fb9f3a"
             ],
             [
              0.8888888888888888,
              "#fdca26"
             ],
             [
              1,
              "#f0f921"
             ]
            ],
            "type": "heatmapgl"
           }
          ],
          "histogram": [
           {
            "marker": {
             "pattern": {
              "fillmode": "overlay",
              "size": 10,
              "solidity": 0.2
             }
            },
            "type": "histogram"
           }
          ],
          "histogram2d": [
           {
            "colorbar": {
             "outlinewidth": 0,
             "ticks": ""
            },
            "colorscale": [
             [
              0,
              "#0d0887"
             ],
             [
              0.1111111111111111,
              "#46039f"
             ],
             [
              0.2222222222222222,
              "#7201a8"
             ],
             [
              0.3333333333333333,
              "#9c179e"
             ],
             [
              0.4444444444444444,
              "#bd3786"
             ],
             [
              0.5555555555555556,
              "#d8576b"
             ],
             [
              0.6666666666666666,
              "#ed7953"
             ],
             [
              0.7777777777777778,
              "#fb9f3a"
             ],
             [
              0.8888888888888888,
              "#fdca26"
             ],
             [
              1,
              "#f0f921"
             ]
            ],
            "type": "histogram2d"
           }
          ],
          "histogram2dcontour": [
           {
            "colorbar": {
             "outlinewidth": 0,
             "ticks": ""
            },
            "colorscale": [
             [
              0,
              "#0d0887"
             ],
             [
              0.1111111111111111,
              "#46039f"
             ],
             [
              0.2222222222222222,
              "#7201a8"
             ],
             [
              0.3333333333333333,
              "#9c179e"
             ],
             [
              0.4444444444444444,
              "#bd3786"
             ],
             [
              0.5555555555555556,
              "#d8576b"
             ],
             [
              0.6666666666666666,
              "#ed7953"
             ],
             [
              0.7777777777777778,
              "#fb9f3a"
             ],
             [
              0.8888888888888888,
              "#fdca26"
             ],
             [
              1,
              "#f0f921"
             ]
            ],
            "type": "histogram2dcontour"
           }
          ],
          "mesh3d": [
           {
            "colorbar": {
             "outlinewidth": 0,
             "ticks": ""
            },
            "type": "mesh3d"
           }
          ],
          "parcoords": [
           {
            "line": {
             "colorbar": {
              "outlinewidth": 0,
              "ticks": ""
             }
            },
            "type": "parcoords"
           }
          ],
          "pie": [
           {
            "automargin": true,
            "type": "pie"
           }
          ],
          "scatter": [
           {
            "fillpattern": {
             "fillmode": "overlay",
             "size": 10,
             "solidity": 0.2
            },
            "type": "scatter"
           }
          ],
          "scatter3d": [
           {
            "line": {
             "colorbar": {
              "outlinewidth": 0,
              "ticks": ""
             }
            },
            "marker": {
             "colorbar": {
              "outlinewidth": 0,
              "ticks": ""
             }
            },
            "type": "scatter3d"
           }
          ],
          "scattercarpet": [
           {
            "marker": {
             "colorbar": {
              "outlinewidth": 0,
              "ticks": ""
             }
            },
            "type": "scattercarpet"
           }
          ],
          "scattergeo": [
           {
            "marker": {
             "colorbar": {
              "outlinewidth": 0,
              "ticks": ""
             }
            },
            "type": "scattergeo"
           }
          ],
          "scattergl": [
           {
            "marker": {
             "colorbar": {
              "outlinewidth": 0,
              "ticks": ""
             }
            },
            "type": "scattergl"
           }
          ],
          "scattermapbox": [
           {
            "marker": {
             "colorbar": {
              "outlinewidth": 0,
              "ticks": ""
             }
            },
            "type": "scattermapbox"
           }
          ],
          "scatterpolar": [
           {
            "marker": {
             "colorbar": {
              "outlinewidth": 0,
              "ticks": ""
             }
            },
            "type": "scatterpolar"
           }
          ],
          "scatterpolargl": [
           {
            "marker": {
             "colorbar": {
              "outlinewidth": 0,
              "ticks": ""
             }
            },
            "type": "scatterpolargl"
           }
          ],
          "scatterternary": [
           {
            "marker": {
             "colorbar": {
              "outlinewidth": 0,
              "ticks": ""
             }
            },
            "type": "scatterternary"
           }
          ],
          "surface": [
           {
            "colorbar": {
             "outlinewidth": 0,
             "ticks": ""
            },
            "colorscale": [
             [
              0,
              "#0d0887"
             ],
             [
              0.1111111111111111,
              "#46039f"
             ],
             [
              0.2222222222222222,
              "#7201a8"
             ],
             [
              0.3333333333333333,
              "#9c179e"
             ],
             [
              0.4444444444444444,
              "#bd3786"
             ],
             [
              0.5555555555555556,
              "#d8576b"
             ],
             [
              0.6666666666666666,
              "#ed7953"
             ],
             [
              0.7777777777777778,
              "#fb9f3a"
             ],
             [
              0.8888888888888888,
              "#fdca26"
             ],
             [
              1,
              "#f0f921"
             ]
            ],
            "type": "surface"
           }
          ],
          "table": [
           {
            "cells": {
             "fill": {
              "color": "#EBF0F8"
             },
             "line": {
              "color": "white"
             }
            },
            "header": {
             "fill": {
              "color": "#C8D4E3"
             },
             "line": {
              "color": "white"
             }
            },
            "type": "table"
           }
          ]
         },
         "layout": {
          "annotationdefaults": {
           "arrowcolor": "#2a3f5f",
           "arrowhead": 0,
           "arrowwidth": 1
          },
          "autotypenumbers": "strict",
          "coloraxis": {
           "colorbar": {
            "outlinewidth": 0,
            "ticks": ""
           }
          },
          "colorscale": {
           "diverging": [
            [
             0,
             "#8e0152"
            ],
            [
             0.1,
             "#c51b7d"
            ],
            [
             0.2,
             "#de77ae"
            ],
            [
             0.3,
             "#f1b6da"
            ],
            [
             0.4,
             "#fde0ef"
            ],
            [
             0.5,
             "#f7f7f7"
            ],
            [
             0.6,
             "#e6f5d0"
            ],
            [
             0.7,
             "#b8e186"
            ],
            [
             0.8,
             "#7fbc41"
            ],
            [
             0.9,
             "#4d9221"
            ],
            [
             1,
             "#276419"
            ]
           ],
           "sequential": [
            [
             0,
             "#0d0887"
            ],
            [
             0.1111111111111111,
             "#46039f"
            ],
            [
             0.2222222222222222,
             "#7201a8"
            ],
            [
             0.3333333333333333,
             "#9c179e"
            ],
            [
             0.4444444444444444,
             "#bd3786"
            ],
            [
             0.5555555555555556,
             "#d8576b"
            ],
            [
             0.6666666666666666,
             "#ed7953"
            ],
            [
             0.7777777777777778,
             "#fb9f3a"
            ],
            [
             0.8888888888888888,
             "#fdca26"
            ],
            [
             1,
             "#f0f921"
            ]
           ],
           "sequentialminus": [
            [
             0,
             "#0d0887"
            ],
            [
             0.1111111111111111,
             "#46039f"
            ],
            [
             0.2222222222222222,
             "#7201a8"
            ],
            [
             0.3333333333333333,
             "#9c179e"
            ],
            [
             0.4444444444444444,
             "#bd3786"
            ],
            [
             0.5555555555555556,
             "#d8576b"
            ],
            [
             0.6666666666666666,
             "#ed7953"
            ],
            [
             0.7777777777777778,
             "#fb9f3a"
            ],
            [
             0.8888888888888888,
             "#fdca26"
            ],
            [
             1,
             "#f0f921"
            ]
           ]
          },
          "colorway": [
           "#636efa",
           "#EF553B",
           "#00cc96",
           "#ab63fa",
           "#FFA15A",
           "#19d3f3",
           "#FF6692",
           "#B6E880",
           "#FF97FF",
           "#FECB52"
          ],
          "font": {
           "color": "#2a3f5f"
          },
          "geo": {
           "bgcolor": "white",
           "lakecolor": "white",
           "landcolor": "#E5ECF6",
           "showlakes": true,
           "showland": true,
           "subunitcolor": "white"
          },
          "hoverlabel": {
           "align": "left"
          },
          "hovermode": "closest",
          "mapbox": {
           "style": "light"
          },
          "paper_bgcolor": "white",
          "plot_bgcolor": "#E5ECF6",
          "polar": {
           "angularaxis": {
            "gridcolor": "white",
            "linecolor": "white",
            "ticks": ""
           },
           "bgcolor": "#E5ECF6",
           "radialaxis": {
            "gridcolor": "white",
            "linecolor": "white",
            "ticks": ""
           }
          },
          "scene": {
           "xaxis": {
            "backgroundcolor": "#E5ECF6",
            "gridcolor": "white",
            "gridwidth": 2,
            "linecolor": "white",
            "showbackground": true,
            "ticks": "",
            "zerolinecolor": "white"
           },
           "yaxis": {
            "backgroundcolor": "#E5ECF6",
            "gridcolor": "white",
            "gridwidth": 2,
            "linecolor": "white",
            "showbackground": true,
            "ticks": "",
            "zerolinecolor": "white"
           },
           "zaxis": {
            "backgroundcolor": "#E5ECF6",
            "gridcolor": "white",
            "gridwidth": 2,
            "linecolor": "white",
            "showbackground": true,
            "ticks": "",
            "zerolinecolor": "white"
           }
          },
          "shapedefaults": {
           "line": {
            "color": "#2a3f5f"
           }
          },
          "ternary": {
           "aaxis": {
            "gridcolor": "white",
            "linecolor": "white",
            "ticks": ""
           },
           "baxis": {
            "gridcolor": "white",
            "linecolor": "white",
            "ticks": ""
           },
           "bgcolor": "#E5ECF6",
           "caxis": {
            "gridcolor": "white",
            "linecolor": "white",
            "ticks": ""
           }
          },
          "title": {
           "x": 0.05
          },
          "xaxis": {
           "automargin": true,
           "gridcolor": "white",
           "linecolor": "white",
           "ticks": "",
           "title": {
            "standoff": 15
           },
           "zerolinecolor": "white",
           "zerolinewidth": 2
          },
          "yaxis": {
           "automargin": true,
           "gridcolor": "white",
           "linecolor": "white",
           "ticks": "",
           "title": {
            "standoff": 15
           },
           "zerolinecolor": "white",
           "zerolinewidth": 2
          }
         }
        },
        "title": {
         "text": "Contratos Activos por Descripción"
        },
        "xaxis": {
         "anchor": "y",
         "categoryarray": [
          " CHAIRPERSONS MERIT AWARD",
          " CLIENT SOFTWARE - DCE",
          " COMMUNICATIONS PREOFESSIONAL SERVICES",
          " COMMUNICATIONS PROFESSIONAL SERVICES",
          " COMPUTER EQUIPMENT RELATED TO PRODUCTION AND OPERATIONS (P&O) ENVIRONMENT —ALL SERVERS, STORAGE, PRINTERS ETC (Includes all related parts and peripherals) ",
          " Computer equipment related to Distributed Computing Environment (DCE) - Desktop/personal/portable (includes all related parts and peripherals)",
          " Information Technology and Telecommunications Consultants - IT Procurement Specialist ",
          " Information Technology and Telecommunications Consultants - Junior and Senior Network Operations Analysts ",
          " Information Technology and Telecommunications Consultants - Senior IT Procurement Specialist",
          " Information Technology and Telecommunications Consultants - Senior Project Manager ",
          " Information Technology and Telecommunications Consultants - Senior Technical Architect",
          " Information technology and telecommunications consultants",
          " LANGUAGE TRAINING ",
          " LICENSE/MAITNENANCE OF COMPUTER SOFTWARE- DISTRIBUTED COMPUTING ENVIRONMENT",
          " Management Consulting - Facilitation Services",
          " Management Consulting - Project Managers and Project Planner ",
          " Management Consulting - Senior Communications Specialist",
          " Management Consulting - Senior Staffing Consultant",
          " OFFICE FURNITURE AND FURNISHING",
          " OTHER BUSINESS SERVICES",
          " Office and Stationers Supplies",
          " PROTECTION SERVICES",
          " Printed Matter, Including Books, Newspapers, Pictures, Manuscripts and Forms",
          " Public relations services",
          " RENTAL OF OFFICE EQUIPMENT",
          " TEMP HELP SERVICES",
          "0230 Voice Communications Services (inc analog/digital voice comm services)",
          "0321 – Printing Services",
          "0332 Audio visual services",
          "0351 Communications professional services not elsewhere specified",
          "0401 – Accounting and Audit Services - Internal Audit Services",
          "0410 Legal Services",
          "0448 – Purchase of Training Packages and Courses",
          "0473 Information Technology and Telecommunications Consultants",
          "0473 – Information Technology and Telecommunications Consultants - Business Systems Analyst",
          "0473 – Information Technology and Telecommunications Consultants - Change Management Consultant",
          "0473 – Information Technology and Telecommunications Consultants - Network Operations Analysts",
          "0473 – Information Technology and Telecommunications Consultants - Platform Analyst level 3",
          "0473 – Information Technology and Telecommunications Consultants - Programmer Analyst Level 2 ",
          "0473 – Information Technology and Telecommunications Consultants - Project Advisor",
          "0473 – Information Technology and Telecommunications Consultants - Senior Change Management Consultant",
          "0473 – Information Technology and Telecommunications Consultants - System Analyst Level 3",
          "0473 – Information Technology and Telecommunications Consultants - Technical Architect Level 3",
          "0474 – Information Management Services",
          "0475 – Information Technology Services",
          "0491 - Other Prof. Serv. - Management consulting - OGD or programs",
          "0492 - Other Prof. Serv. - Research contracts (specify)",
          "0492 Research Contracts",
          "0499 - Other Professional Services not elsewhere Specified",
          "0499 Other professional services not elsewhere specified",
          "0499 – Other Professional Services not Elsewhere Specified - Project Manager and Project Planner",
          "0499 – Other Professional Services not Elsewhere Specified - Project Manager and Project Planner ",
          "0499 – Other Professional Services not Elsewhere Specified - Senior IT Procurement Specialist",
          "0533 - Rental of Machinery, Office Furniture and Fixtures and Other Equipment ",
          "0570 Rental - other",
          "0583 License/Maintenance fees for Application Software (including COTS) & Application Development & Delivery Software",
          "0584 License/Maintenance fees for Server Operating System and Utility Software",
          "0664 Repair & Maintenance of Communications/Networking Equipment",
          "0812 Information Technology Managed Services",
          "0813 Temporary help services",
          "0859 - Other Business Services not Elsewhere Specified",
          "0859 – Other Business Services not Elsewhere Specified - Warehousing",
          "1179 - Miscellaneous Manufactured Articles",
          "1231 Office furniture and furnishings, incl. Parts",
          "1282 Computer Equipment - Servers (includes related parts and peripherals)",
          "1283 - Computer Equipment related to Distributed Computing Environment (DCE) - Desktop/Personal/Portable (Includes all related parts and peripherals)",
          "1283 Computer Equipment - Client Computing Domain - Desktop/Personal/Portable (includes related parts and peripherals)",
          "Accounting and Audit Services - Audits of internal controls",
          "Accounting and audit services",
          "Application software (including COTS) and application development and delivery software",
          "Audio-visual services",
          "Business services",
          "COMPUTER EQUIPMENT RELATED TO DISTRIBUTED COMPUTING ENVIRONMENT (DCE)—DESKTOP/PERSONAL/PROTABLE (Includes all related parts and peripherals) ",
          "Client software related to Distributed Computing Environment (DCE)",
          "Communication Services",
          "Communications Research Services",
          "Computer Equipment - Desktop/Personal/Portable",
          "Computer Equipment related to Production and Operations (P&O) environment - All servers, storage, printers etc.",
          "Computer equipment related to Distributed Computing Environment (DCE) - Desktop/personal/portable (includes all related parts and peripherals)",
          "Computer equipment related to Distributed Computing Environment (DCE)—Desktop/personal/portable (includes all related parts and peripherals)",
          "Computer services (includes IT solutions/deliverables as well as IT managed services)",
          "Consultants en technologie de l’information et télécommunications",
          "Courier services",
          "Data & Database Access Services",
          "Data and database access services",
          "Engineering consultants—Other",
          "ForeScout ever greening and support renewal",
          "Image/Video communications equipment (includes telepresence/video conferencing equipment, cabling, parts and peripherals)",
          "Information Technology Services - Project Executive",
          "Information Technology and Telecommunications Consultants",
          "Information Technology and Telecommunications Consultants - Project Advisor ",
          "Information technology and telecommunications consultants",
          "JX7030 - ADP Software Maintenance - Other than Microcomputer",
          "LICENSE/MAITNENANCE OF COMPUTER SOFTWARE- DISTRIBUTED COMPUTING ENVIRONMENT",
          "License/Maintenance fees for Client Software related to Distributed Computing Environment (DCE)",
          "License/Maintenance fees for application software (including COTS) and application development and delivery software",
          "License/Maintenance fees for client software related to Distributed Computing Environment (DCE)",
          "Management consulting",
          "Management consulting ",
          "Miscellaneous Manufactured Articles",
          "NetApp Storage Area Network",
          "Office furniture and furnishings, incl parts",
          "Office furniture and furnishings, including parts",
          "Other Business Services not Elsewhere Specified",
          "Other Business services not Elsewhere Specified",
          "Other Office Equipment and Parts",
          "Other Professional Services not Elsewhere Specified",
          "Other Professional Services not Elsewhere Specified - Procurement Specialist",
          "Other Professional Services not Elsewhere Specified - Project Managers and Project Planner",
          "Other business services not elsewhere specified",
          "Other professional services not elsewhere specified",
          "PRINTING SERVICES",
          "Premium support for Blackberry EMS Collaboration",
          "Professional services ",
          "Protection services",
          "Public Relations Services ",
          "R019 - Other Professional Services",
          "R109 Translation and Interpreting Services",
          "R123 Program review and Development",
          "Rental - Other",
          "Rental of aircraft",
          "Rental of machinery, office furniture and fixtures and other equipment",
          "Scientific consultants",
          "Second Language Training",
          "Services d’approvisionnement -Spécialiste en approvisionnement for general work",
          "Software - Blackberry renewal and acquisition",
          "Support core mandate activities",
          "TEMP HELP SERVICES",
          "Temporary Help",
          "Temporary help services",
          "Training Consultants",
          "Training and Curriculum Development",
          "Training and educational services",
          "Training consultants",
          "Translation services",
          "U006 - Vocational and Technical training",
          "Voice Communications Services (includes Analog and/or Digital voice communication services)",
          "W210 - Software Licences",
          "WL9915 Works of Art, Lease for 2 years"
         ],
         "categoryorder": "array",
         "domain": [
          0,
          1
         ],
         "showticklabels": false,
         "title": {
          "text": "Descripción"
         }
        },
        "yaxis": {
         "anchor": "x",
         "domain": [
          0,
          1
         ],
         "title": {
          "text": "Contratos Activos"
         }
        }
       }
      }
     },
     "metadata": {},
     "output_type": "display_data"
    }
   ],
   "source": [
    "# Contar contratos activos por descripción en inglés\n",
    "contratos_por_desc = df.groupby('description_en').size().reset_index(name='count')\n",
    "\n",
    "# Crear el gráfico de burbujas para descripciones\n",
    "fig_desc = px.scatter(\n",
    "    contratos_por_desc,\n",
    "    x='description_en',\n",
    "    y='count',\n",
    "    size='count',\n",
    "    color='description_en',  # Asignar un color diferente a cada grupo\n",
    "    hover_name='description_en',\n",
    "    title='Contratos Activos por Descripción',\n",
    "    labels={'count': 'Contratos Activos', 'description_en': 'Descripción'},\n",
    "    size_max=60\n",
    ")\n",
    "\n",
    "fig_desc.update_layout(\n",
    "    xaxis=dict(showticklabels=False),  # Ajustar la rotación de etiquetas si son muchas\n",
    "    showlegend=False  # Ocultar leyenda si hay muchas categorías\n",
    ")\n",
    "\n",
    "fig_desc.show()"
   ]
  },
  {
   "cell_type": "code",
   "execution_count": 70,
   "metadata": {},
   "outputs": [
    {
     "name": "stdout",
     "output_type": "stream",
     "text": [
      "Conteo de Contratos Activos por Descripción:\n",
      "Descripción: Audio-visual services - Contratos Activos: 432\n",
      "Descripción:  LICENSE/MAITNENANCE OF COMPUTER SOFTWARE- DISTRIBUTED COMPUTING ENVIRONMENT - Contratos Activos: 235\n",
      "Descripción: Management consulting - Contratos Activos: 198\n",
      "Descripción: Temporary Help - Contratos Activos: 99\n",
      "Descripción:  OTHER BUSINESS SERVICES - Contratos Activos: 94\n",
      "Descripción:  COMPUTER EQUIPMENT RELATED TO PRODUCTION AND OPERATIONS (P&O) ENVIRONMENT —ALL SERVERS, STORAGE, PRINTERS ETC (Includes all related parts and peripherals)  - Contratos Activos: 94\n",
      "Descripción:  PROTECTION SERVICES - Contratos Activos: 94\n",
      "Descripción: COMPUTER EQUIPMENT RELATED TO DISTRIBUTED COMPUTING ENVIRONMENT (DCE)—DESKTOP/PERSONAL/PROTABLE (Includes all related parts and peripherals)  - Contratos Activos: 94\n",
      "Descripción:  LANGUAGE TRAINING  - Contratos Activos: 94\n",
      "Descripción: Information technology and telecommunications consultants - Contratos Activos: 90\n",
      "Descripción: Business services - Contratos Activos: 88\n",
      "Descripción: Protection services - Contratos Activos: 77\n",
      "Descripción: License/Maintenance fees for application software (including COTS) and application development and delivery software - Contratos Activos: 77\n",
      "Descripción: Temporary help services - Contratos Activos: 66\n",
      "Descripción: Other business services not elsewhere specified - Contratos Activos: 61\n",
      "Descripción: Other professional services not elsewhere specified - Contratos Activos: 59\n",
      "Descripción: Communication Services - Contratos Activos: 55\n",
      "Descripción: LICENSE/MAITNENANCE OF COMPUTER SOFTWARE- DISTRIBUTED COMPUTING ENVIRONMENT - Contratos Activos: 47\n",
      "Descripción:  TEMP HELP SERVICES - Contratos Activos: 47\n",
      "Descripción:  RENTAL OF OFFICE EQUIPMENT - Contratos Activos: 47\n",
      "Descripción:  COMMUNICATIONS PROFESSIONAL SERVICES - Contratos Activos: 47\n",
      "Descripción:  OFFICE FURNITURE AND FURNISHING - Contratos Activos: 47\n",
      "Descripción:  CLIENT SOFTWARE - DCE - Contratos Activos: 47\n",
      "Descripción: TEMP HELP SERVICES - Contratos Activos: 47\n",
      "Descripción:  COMMUNICATIONS PREOFESSIONAL SERVICES - Contratos Activos: 47\n",
      "Descripción:  CHAIRPERSONS MERIT AWARD - Contratos Activos: 47\n",
      "Descripción: Other Professional Services not Elsewhere Specified - Contratos Activos: 45\n",
      "Descripción: 0533 - Rental of Machinery, Office Furniture and Fixtures and Other Equipment  - Contratos Activos: 45\n",
      "Descripción: Other Business Services not Elsewhere Specified - Contratos Activos: 45\n",
      "Descripción: 0499 Other professional services not elsewhere specified - Contratos Activos: 45\n",
      "Descripción: 0584 License/Maintenance fees for Server Operating System and Utility Software - Contratos Activos: 45\n",
      "Descripción: 0473 Information Technology and Telecommunications Consultants - Contratos Activos: 45\n",
      "Descripción: Other Business services not Elsewhere Specified - Contratos Activos: 45\n",
      "Descripción: Courier services - Contratos Activos: 44\n",
      "Descripción: Training and educational services - Contratos Activos: 44\n",
      "Descripción: Computer equipment related to Distributed Computing Environment (DCE)—Desktop/personal/portable (includes all related parts and peripherals) - Contratos Activos: 44\n",
      "Descripción: Engineering consultants—Other - Contratos Activos: 40\n",
      "Descripción: Rental of aircraft - Contratos Activos: 33\n",
      "Descripción: Professional services  - Contratos Activos: 33\n",
      "Descripción: Rental of machinery, office furniture and fixtures and other equipment - Contratos Activos: 33\n",
      "Descripción: 0410 Legal Services - Contratos Activos: 30\n",
      "Descripción: Training Consultants - Contratos Activos: 30\n",
      "Descripción: 1231 Office furniture and furnishings, incl. Parts - Contratos Activos: 30\n",
      "Descripción: Second Language Training - Contratos Activos: 26\n",
      "Descripción: Computer equipment related to Distributed Computing Environment (DCE) - Desktop/personal/portable (includes all related parts and peripherals) - Contratos Activos: 23\n",
      "Descripción: Data and database access services - Contratos Activos: 22\n",
      "Descripción: Office furniture and furnishings, including parts - Contratos Activos: 22\n",
      "Descripción: Image/Video communications equipment (includes telepresence/video conferencing equipment, cabling, parts and peripherals) - Contratos Activos: 22\n",
      "Descripción: Accounting and audit services - Contratos Activos: 18\n",
      "Descripción:  Office and Stationers Supplies - Contratos Activos: 16\n",
      "Descripción: 1179 - Miscellaneous Manufactured Articles - Contratos Activos: 15\n",
      "Descripción: 0351 Communications professional services not elsewhere specified - Contratos Activos: 15\n",
      "Descripción: Other Office Equipment and Parts - Contratos Activos: 15\n",
      "Descripción: 1283 Computer Equipment - Client Computing Domain - Desktop/Personal/Portable (includes related parts and peripherals) - Contratos Activos: 15\n",
      "Descripción: 1283 - Computer Equipment related to Distributed Computing Environment (DCE) - Desktop/Personal/Portable (Includes all related parts and peripherals) - Contratos Activos: 15\n",
      "Descripción: 1282 Computer Equipment - Servers (includes related parts and peripherals) - Contratos Activos: 15\n",
      "Descripción: 0859 - Other Business Services not Elsewhere Specified - Contratos Activos: 15\n",
      "Descripción: 0813 Temporary help services - Contratos Activos: 15\n",
      "Descripción: 0812 Information Technology Managed Services - Contratos Activos: 15\n",
      "Descripción: 0664 Repair & Maintenance of Communications/Networking Equipment - Contratos Activos: 15\n",
      "Descripción: 0583 License/Maintenance fees for Application Software (including COTS) & Application Development & Delivery Software - Contratos Activos: 15\n",
      "Descripción: 0570 Rental - other - Contratos Activos: 15\n",
      "Descripción: Rental - Other - Contratos Activos: 15\n",
      "Descripción: 0230 Voice Communications Services (inc analog/digital voice comm services) - Contratos Activos: 15\n",
      "Descripción: 0499 - Other Professional Services not elsewhere Specified - Contratos Activos: 15\n",
      "Descripción: 0492 Research Contracts - Contratos Activos: 15\n",
      "Descripción: 0332 Audio visual services - Contratos Activos: 15\n",
      "Descripción: Office furniture and furnishings, incl parts - Contratos Activos: 14\n",
      "Descripción: Voice Communications Services (includes Analog and/or Digital voice communication services) - Contratos Activos: 14\n",
      "Descripción: Information Technology and Telecommunications Consultants - Contratos Activos: 14\n",
      "Descripción: Computer Equipment - Desktop/Personal/Portable - Contratos Activos: 14\n",
      "Descripción:  Management Consulting - Project Managers and Project Planner  - Contratos Activos: 12\n",
      "Descripción: 0321 – Printing Services - Contratos Activos: 12\n",
      "Descripción:  Public relations services - Contratos Activos: 12\n",
      "Descripción:  Printed Matter, Including Books, Newspapers, Pictures, Manuscripts and Forms - Contratos Activos: 12\n",
      "Descripción: Training and Curriculum Development - Contratos Activos: 11\n",
      "Descripción: Management consulting  - Contratos Activos: 11\n",
      "Descripción: Computer services (includes IT solutions/deliverables as well as IT managed services) - Contratos Activos: 11\n",
      "Descripción: License/Maintenance fees for client software related to Distributed Computing Environment (DCE) - Contratos Activos: 11\n",
      "Descripción: Application software (including COTS) and application development and delivery software - Contratos Activos: 11\n",
      "Descripción: Client software related to Distributed Computing Environment (DCE) - Contratos Activos: 11\n",
      "Descripción:  Computer equipment related to Distributed Computing Environment (DCE) - Desktop/personal/portable (includes all related parts and peripherals) - Contratos Activos: 11\n",
      "Descripción:  Information technology and telecommunications consultants - Contratos Activos: 11\n",
      "Descripción: Scientific consultants - Contratos Activos: 10\n",
      "Descripción: 0475 – Information Technology Services - Contratos Activos: 8\n",
      "Descripción: Miscellaneous Manufactured Articles - Contratos Activos: 8\n",
      "Descripción: 0474 – Information Management Services - Contratos Activos: 8\n",
      "Descripción: Communications Research Services - Contratos Activos: 7\n",
      "Descripción: Data & Database Access Services - Contratos Activos: 7\n",
      "Descripción: Translation services - Contratos Activos: 7\n",
      "Descripción: R019 - Other Professional Services - Contratos Activos: 6\n",
      "Descripción:  Management Consulting - Senior Staffing Consultant - Contratos Activos: 4\n",
      "Descripción:  Management Consulting - Senior Communications Specialist - Contratos Activos: 4\n",
      "Descripción: Computer Equipment related to Production and Operations (P&O) environment - All servers, storage, printers etc. - Contratos Activos: 4\n",
      "Descripción: 0401 – Accounting and Audit Services - Internal Audit Services - Contratos Activos: 4\n",
      "Descripción: 0448 – Purchase of Training Packages and Courses - Contratos Activos: 4\n",
      "Descripción: 0473 – Information Technology and Telecommunications Consultants - Business Systems Analyst - Contratos Activos: 4\n",
      "Descripción: Public Relations Services  - Contratos Activos: 4\n",
      "Descripción: Services d’approvisionnement -Spécialiste en approvisionnement for general work - Contratos Activos: 4\n",
      "Descripción:  Management Consulting - Facilitation Services - Contratos Activos: 4\n",
      "Descripción: Consultants en technologie de l’information et télécommunications - Contratos Activos: 4\n",
      "Descripción: Support core mandate activities - Contratos Activos: 4\n",
      "Descripción:  Information Technology and Telecommunications Consultants - Senior Technical Architect - Contratos Activos: 4\n",
      "Descripción:  Information Technology and Telecommunications Consultants - Senior Project Manager  - Contratos Activos: 4\n",
      "Descripción:  Information Technology and Telecommunications Consultants - Senior IT Procurement Specialist - Contratos Activos: 4\n",
      "Descripción:  Information Technology and Telecommunications Consultants - Junior and Senior Network Operations Analysts  - Contratos Activos: 4\n",
      "Descripción:  Information Technology and Telecommunications Consultants - IT Procurement Specialist  - Contratos Activos: 4\n",
      "Descripción: 0473 – Information Technology and Telecommunications Consultants - Change Management Consultant - Contratos Activos: 4\n",
      "Descripción: 0473 – Information Technology and Telecommunications Consultants - Network Operations Analysts - Contratos Activos: 4\n",
      "Descripción: Other Professional Services not Elsewhere Specified - Project Managers and Project Planner - Contratos Activos: 4\n",
      "Descripción: 0473 – Information Technology and Telecommunications Consultants - Technical Architect Level 3 - Contratos Activos: 4\n",
      "Descripción: Accounting and Audit Services - Audits of internal controls - Contratos Activos: 4\n",
      "Descripción: 0859 – Other Business Services not Elsewhere Specified - Warehousing - Contratos Activos: 4\n",
      "Descripción: Information Technology Services - Project Executive - Contratos Activos: 4\n",
      "Descripción: 0499 – Other Professional Services not Elsewhere Specified - Senior IT Procurement Specialist - Contratos Activos: 4\n",
      "Descripción: Information Technology and Telecommunications Consultants - Project Advisor  - Contratos Activos: 4\n",
      "Descripción: 0499 – Other Professional Services not Elsewhere Specified - Project Manager and Project Planner  - Contratos Activos: 4\n",
      "Descripción: 0499 – Other Professional Services not Elsewhere Specified - Project Manager and Project Planner - Contratos Activos: 4\n",
      "Descripción: Other Professional Services not Elsewhere Specified - Procurement Specialist - Contratos Activos: 4\n",
      "Descripción: License/Maintenance fees for Client Software related to Distributed Computing Environment (DCE) - Contratos Activos: 4\n",
      "Descripción: 0473 – Information Technology and Telecommunications Consultants - System Analyst Level 3 - Contratos Activos: 4\n",
      "Descripción: 0473 – Information Technology and Telecommunications Consultants - Senior Change Management Consultant - Contratos Activos: 4\n",
      "Descripción: 0473 – Information Technology and Telecommunications Consultants - Platform Analyst level 3 - Contratos Activos: 4\n",
      "Descripción: 0473 – Information Technology and Telecommunications Consultants - Programmer Analyst Level 2  - Contratos Activos: 4\n",
      "Descripción: 0473 – Information Technology and Telecommunications Consultants - Project Advisor - Contratos Activos: 4\n",
      "Descripción: R109 Translation and Interpreting Services - Contratos Activos: 3\n",
      "Descripción: JX7030 - ADP Software Maintenance - Other than Microcomputer - Contratos Activos: 3\n",
      "Descripción: R123 Program review and Development - Contratos Activos: 3\n",
      "Descripción: 0492 - Other Prof. Serv. - Research contracts (specify) - Contratos Activos: 3\n",
      "Descripción: 0491 - Other Prof. Serv. - Management consulting - OGD or programs - Contratos Activos: 3\n",
      "Descripción: U006 - Vocational and Technical training - Contratos Activos: 3\n",
      "Descripción: W210 - Software Licences - Contratos Activos: 3\n",
      "Descripción: WL9915 Works of Art, Lease for 2 years - Contratos Activos: 3\n",
      "Descripción: Software - Blackberry renewal and acquisition - Contratos Activos: 2\n",
      "Descripción: NetApp Storage Area Network - Contratos Activos: 2\n",
      "Descripción: Premium support for Blackberry EMS Collaboration - Contratos Activos: 2\n",
      "Descripción: Training consultants - Contratos Activos: 2\n",
      "Descripción: ForeScout ever greening and support renewal - Contratos Activos: 2\n",
      "Descripción: PRINTING SERVICES - Contratos Activos: 1\n"
     ]
    }
   ],
   "source": [
    "# Contar contratos activos por descripción\n",
    "contratos_por_descripcion = df.groupby('description_en').size().reset_index(name='count')\n",
    "\n",
    "# Ordenar el conteo de forma descendente para ver las descripciones más comunes primero\n",
    "contratos_por_descripcion = contratos_por_descripcion.sort_values(by='count', ascending=False)\n",
    "\n",
    "# Imprimir el conteo de contratos por descripción\n",
    "print(\"Conteo de Contratos Activos por Descripción:\")\n",
    "for index, row in contratos_por_descripcion.iterrows():\n",
    "    print(f\"Descripción: {row['description_en']} - Contratos Activos: {row['count']}\")"
   ]
  },
  {
   "cell_type": "code",
   "execution_count": 72,
   "metadata": {},
   "outputs": [
    {
     "name": "stdout",
     "output_type": "stream",
     "text": [
      "count        85.000000\n",
      "mean      81984.449294\n",
      "std      102232.769283\n",
      "min       10080.000000\n",
      "25%       10080.000000\n",
      "50%       43803.000000\n",
      "75%      207486.810000\n",
      "max      290024.170000\n",
      "Name: contract_value, dtype: float64\n",
      "85\n"
     ]
    }
   ],
   "source": [
    "df_2019 = df[df['year_y'] == 2019]\n",
    "\n",
    "# Analizar valores de contratos y tipos de contratos\n",
    "print(df_2019['contract_value'].describe())\n",
    "print(df_2019.shape[0])"
   ]
  },
  {
   "cell_type": "code",
   "execution_count": 73,
   "metadata": {},
   "outputs": [
    {
     "name": "stdout",
     "output_type": "stream",
     "text": [
      "                                         comments_en  count\n",
      "2  This contract was competitively sourced. This ...     22\n",
      "1                             Sole-Sourced  Contract     11\n",
      "3  This contract was sole sourced and issued by S...      2\n",
      "0                                           Printing      1\n"
     ]
    }
   ],
   "source": [
    "# Analizar por categoría de contrato\n",
    "#categorias_2023 = df_2023.groupby('commodity_type').size().reset_index(name='count')\n",
    "categorias_2019 = df_2019.groupby('comments_en').size().reset_index(name='count')\n",
    "print(categorias_2019.sort_values('count', ascending=False).head(50))"
   ]
  },
  {
   "cell_type": "markdown",
   "metadata": {},
   "source": [
    "What does it mean if there are contracts with year == 2021 but without contract_period_start in 2021?\n",
    "\n",
    "This indicates that these contracts were initiated in previous years but remained active in 2021. This is common for multi-year contracts that span several years and whose execution does not necessarily start or end in the same year.\n",
    "\n",
    "Why does Q1 refer to the first quarter?\n",
    "\n",
    "In common financial reporting and contract terminology, Q1 refers to \"Quarter 1,\" which is the first quarter of the year (January, February, and March).\n"
   ]
  },
  {
   "cell_type": "markdown",
   "metadata": {},
   "source": [
    "-----------------------------------------------------------------------------------------------------------------------"
   ]
  },
  {
   "cell_type": "markdown",
   "metadata": {},
   "source": [
    "Gráfico de Burbujas para owner_org_title_x\n",
    "Este gráfico mostrará la cantidad de contratos activos por organización responsable (owner_org_title_x) y los representará con burbujas de diferentes tamaños y colores."
   ]
  },
  {
   "cell_type": "markdown",
   "metadata": {},
   "source": [
    "Active Contracts by Organization:\n",
    "\n",
    "Predominant Organizations: We see that organizations such as the \"Military Grievances External Review Committee\" and \"Crown-Indigenous Relations and Northern Affairs Canada\" have the highest number of active contracts, with 1,128 and 946 contracts, respectively.\n",
    "Diversity of Contracts: The list shows a variety of organizations involved, reflecting a wide range of activities and areas of focus in government contracts.\n",
    "Contracts Related to Science and Technology: Organizations like the \"Canadian Space Agency\" and the \"Natural Sciences and Engineering Research Council of Canada\" have active contracts, indicating an investment in science and technology.\n",
    "Observations on Contract Size: The variation in the size of active contracts (indicated by the size of the bubbles) reflects the magnitude of investment across different areas."
   ]
  },
  {
   "cell_type": "markdown",
   "metadata": {},
   "source": [
    "Active Contracts by Description:\n",
    "\n",
    "Audio-Visual and Software Services: The most common descriptions include audio-visual services, software licenses, and IT consulting. This suggests a high demand for technology and communication services within the government.\n",
    "Focus on Consulting and Professional Services: Many descriptions are related to management consulting, temporary help services, and other professional services, highlighting the government's reliance on external experts for various functions.\n",
    "Contracts for Protection and Maintenance Services: There is a high frequency of contracts for protection and software maintenance services, likely related to the ongoing need for security and technological updates.\n",
    "Diversity in Contract Types: The list reflects a wide variety of services and products, indicating the breadth and complexity of the government’s operational needs."
   ]
  },
  {
   "cell_type": "markdown",
   "metadata": {},
   "source": [
    "--------------------------------------------------------------------------------------"
   ]
  },
  {
   "cell_type": "markdown",
   "metadata": {},
   "source": [
    "Analysis and Relationship between Organizations and Contract Descriptions\n",
    "\n",
    "Investment in Technology and Digital Services During the Pandemic:\n",
    "\n",
    "Pandemic Impact: The COVID-19 pandemic accelerated digital transformation across many organizations, including those with non-technical missions, such as military organizations. This transformation likely led to increased contracting for technology, software, and audiovisual services to support remote operations, communication, and project management in a remote work environment.\n",
    "\n",
    "Audiovisual Contracts: The predominance of audiovisual and technology-related descriptions suggests that many organizations, regardless of their primary mission, invested in these areas to ensure operational continuity, such as creating digital content, providing online training, and facilitating virtual communication.\n",
    "\n",
    "Outsourcing of External Services:\n",
    "\n",
    "Outsourcing and Consulting: The high volume of contracts for technology and audiovisual services suggests a strategy of outsourcing to acquire skills that are not available internally within government organizations. This allows for a rapid response to new demands without the need for immediate internal restructuring.\n",
    "\n",
    "Operational Flexibility: Organizations like the \"Military Grievances External Review Committee\" may have prioritized operational flexibility by contracting technology services to support their activities during the pandemic, even if these services are not directly related to their original mission.\n",
    "\n",
    "Disconnect between Organizational Purpose and Types of Contracts:\n",
    "\n",
    "Contracting Independent of Core Mission: Observing that a military organization has a large number of active contracts with a predominant focus on audiovisual services suggests that contracting may be driven more by urgent operational needs (such as technology and communication) than by the organization’s core mission (military or defense).\n",
    "\n",
    "Capacity Expansion: This trend may indicate an effort by organizations to expand their capabilities in critical areas for business continuity, beyond their usual operations."
   ]
  },
  {
   "cell_type": "markdown",
   "metadata": {},
   "source": [
    "-------------------------------------------------------------------------------------------------------------------------------------------------------------------------"
   ]
  },
  {
   "cell_type": "markdown",
   "metadata": {},
   "source": [
    "Ongoing Monitoring of 2024\n",
    "\n",
    "Monthly Trend Analysis: Break down the 2024 data by month to identify if there are specific months with pronounced declines."
   ]
  },
  {
   "cell_type": "code",
   "execution_count": 75,
   "metadata": {},
   "outputs": [
    {
     "data": {
      "application/vnd.plotly.v1+json": {
       "config": {
        "plotlyServerURL": "https://plot.ly"
       },
       "data": [
        {
         "hovertemplate": "month_x=%{x}<br>count=%{y}<extra></extra>",
         "legendgroup": "",
         "line": {
          "color": "#636efa",
          "dash": "solid"
         },
         "marker": {
          "symbol": "circle"
         },
         "mode": "lines",
         "name": "",
         "orientation": "v",
         "showlegend": false,
         "type": "scatter",
         "x": [
          1,
          2,
          3,
          4,
          5,
          6,
          7
         ],
         "xaxis": "x",
         "y": [
          50,
          115,
          59,
          92,
          30,
          87,
          27
         ],
         "yaxis": "y"
        }
       ],
       "layout": {
        "legend": {
         "tracegroupgap": 0
        },
        "template": {
         "data": {
          "bar": [
           {
            "error_x": {
             "color": "#2a3f5f"
            },
            "error_y": {
             "color": "#2a3f5f"
            },
            "marker": {
             "line": {
              "color": "#E5ECF6",
              "width": 0.5
             },
             "pattern": {
              "fillmode": "overlay",
              "size": 10,
              "solidity": 0.2
             }
            },
            "type": "bar"
           }
          ],
          "barpolar": [
           {
            "marker": {
             "line": {
              "color": "#E5ECF6",
              "width": 0.5
             },
             "pattern": {
              "fillmode": "overlay",
              "size": 10,
              "solidity": 0.2
             }
            },
            "type": "barpolar"
           }
          ],
          "carpet": [
           {
            "aaxis": {
             "endlinecolor": "#2a3f5f",
             "gridcolor": "white",
             "linecolor": "white",
             "minorgridcolor": "white",
             "startlinecolor": "#2a3f5f"
            },
            "baxis": {
             "endlinecolor": "#2a3f5f",
             "gridcolor": "white",
             "linecolor": "white",
             "minorgridcolor": "white",
             "startlinecolor": "#2a3f5f"
            },
            "type": "carpet"
           }
          ],
          "choropleth": [
           {
            "colorbar": {
             "outlinewidth": 0,
             "ticks": ""
            },
            "type": "choropleth"
           }
          ],
          "contour": [
           {
            "colorbar": {
             "outlinewidth": 0,
             "ticks": ""
            },
            "colorscale": [
             [
              0,
              "#0d0887"
             ],
             [
              0.1111111111111111,
              "#46039f"
             ],
             [
              0.2222222222222222,
              "#7201a8"
             ],
             [
              0.3333333333333333,
              "#9c179e"
             ],
             [
              0.4444444444444444,
              "#bd3786"
             ],
             [
              0.5555555555555556,
              "#d8576b"
             ],
             [
              0.6666666666666666,
              "#ed7953"
             ],
             [
              0.7777777777777778,
              "#fb9f3a"
             ],
             [
              0.8888888888888888,
              "#fdca26"
             ],
             [
              1,
              "#f0f921"
             ]
            ],
            "type": "contour"
           }
          ],
          "contourcarpet": [
           {
            "colorbar": {
             "outlinewidth": 0,
             "ticks": ""
            },
            "type": "contourcarpet"
           }
          ],
          "heatmap": [
           {
            "colorbar": {
             "outlinewidth": 0,
             "ticks": ""
            },
            "colorscale": [
             [
              0,
              "#0d0887"
             ],
             [
              0.1111111111111111,
              "#46039f"
             ],
             [
              0.2222222222222222,
              "#7201a8"
             ],
             [
              0.3333333333333333,
              "#9c179e"
             ],
             [
              0.4444444444444444,
              "#bd3786"
             ],
             [
              0.5555555555555556,
              "#d8576b"
             ],
             [
              0.6666666666666666,
              "#ed7953"
             ],
             [
              0.7777777777777778,
              "#fb9f3a"
             ],
             [
              0.8888888888888888,
              "#fdca26"
             ],
             [
              1,
              "#f0f921"
             ]
            ],
            "type": "heatmap"
           }
          ],
          "heatmapgl": [
           {
            "colorbar": {
             "outlinewidth": 0,
             "ticks": ""
            },
            "colorscale": [
             [
              0,
              "#0d0887"
             ],
             [
              0.1111111111111111,
              "#46039f"
             ],
             [
              0.2222222222222222,
              "#7201a8"
             ],
             [
              0.3333333333333333,
              "#9c179e"
             ],
             [
              0.4444444444444444,
              "#bd3786"
             ],
             [
              0.5555555555555556,
              "#d8576b"
             ],
             [
              0.6666666666666666,
              "#ed7953"
             ],
             [
              0.7777777777777778,
              "#fb9f3a"
             ],
             [
              0.8888888888888888,
              "#fdca26"
             ],
             [
              1,
              "#f0f921"
             ]
            ],
            "type": "heatmapgl"
           }
          ],
          "histogram": [
           {
            "marker": {
             "pattern": {
              "fillmode": "overlay",
              "size": 10,
              "solidity": 0.2
             }
            },
            "type": "histogram"
           }
          ],
          "histogram2d": [
           {
            "colorbar": {
             "outlinewidth": 0,
             "ticks": ""
            },
            "colorscale": [
             [
              0,
              "#0d0887"
             ],
             [
              0.1111111111111111,
              "#46039f"
             ],
             [
              0.2222222222222222,
              "#7201a8"
             ],
             [
              0.3333333333333333,
              "#9c179e"
             ],
             [
              0.4444444444444444,
              "#bd3786"
             ],
             [
              0.5555555555555556,
              "#d8576b"
             ],
             [
              0.6666666666666666,
              "#ed7953"
             ],
             [
              0.7777777777777778,
              "#fb9f3a"
             ],
             [
              0.8888888888888888,
              "#fdca26"
             ],
             [
              1,
              "#f0f921"
             ]
            ],
            "type": "histogram2d"
           }
          ],
          "histogram2dcontour": [
           {
            "colorbar": {
             "outlinewidth": 0,
             "ticks": ""
            },
            "colorscale": [
             [
              0,
              "#0d0887"
             ],
             [
              0.1111111111111111,
              "#46039f"
             ],
             [
              0.2222222222222222,
              "#7201a8"
             ],
             [
              0.3333333333333333,
              "#9c179e"
             ],
             [
              0.4444444444444444,
              "#bd3786"
             ],
             [
              0.5555555555555556,
              "#d8576b"
             ],
             [
              0.6666666666666666,
              "#ed7953"
             ],
             [
              0.7777777777777778,
              "#fb9f3a"
             ],
             [
              0.8888888888888888,
              "#fdca26"
             ],
             [
              1,
              "#f0f921"
             ]
            ],
            "type": "histogram2dcontour"
           }
          ],
          "mesh3d": [
           {
            "colorbar": {
             "outlinewidth": 0,
             "ticks": ""
            },
            "type": "mesh3d"
           }
          ],
          "parcoords": [
           {
            "line": {
             "colorbar": {
              "outlinewidth": 0,
              "ticks": ""
             }
            },
            "type": "parcoords"
           }
          ],
          "pie": [
           {
            "automargin": true,
            "type": "pie"
           }
          ],
          "scatter": [
           {
            "fillpattern": {
             "fillmode": "overlay",
             "size": 10,
             "solidity": 0.2
            },
            "type": "scatter"
           }
          ],
          "scatter3d": [
           {
            "line": {
             "colorbar": {
              "outlinewidth": 0,
              "ticks": ""
             }
            },
            "marker": {
             "colorbar": {
              "outlinewidth": 0,
              "ticks": ""
             }
            },
            "type": "scatter3d"
           }
          ],
          "scattercarpet": [
           {
            "marker": {
             "colorbar": {
              "outlinewidth": 0,
              "ticks": ""
             }
            },
            "type": "scattercarpet"
           }
          ],
          "scattergeo": [
           {
            "marker": {
             "colorbar": {
              "outlinewidth": 0,
              "ticks": ""
             }
            },
            "type": "scattergeo"
           }
          ],
          "scattergl": [
           {
            "marker": {
             "colorbar": {
              "outlinewidth": 0,
              "ticks": ""
             }
            },
            "type": "scattergl"
           }
          ],
          "scattermapbox": [
           {
            "marker": {
             "colorbar": {
              "outlinewidth": 0,
              "ticks": ""
             }
            },
            "type": "scattermapbox"
           }
          ],
          "scatterpolar": [
           {
            "marker": {
             "colorbar": {
              "outlinewidth": 0,
              "ticks": ""
             }
            },
            "type": "scatterpolar"
           }
          ],
          "scatterpolargl": [
           {
            "marker": {
             "colorbar": {
              "outlinewidth": 0,
              "ticks": ""
             }
            },
            "type": "scatterpolargl"
           }
          ],
          "scatterternary": [
           {
            "marker": {
             "colorbar": {
              "outlinewidth": 0,
              "ticks": ""
             }
            },
            "type": "scatterternary"
           }
          ],
          "surface": [
           {
            "colorbar": {
             "outlinewidth": 0,
             "ticks": ""
            },
            "colorscale": [
             [
              0,
              "#0d0887"
             ],
             [
              0.1111111111111111,
              "#46039f"
             ],
             [
              0.2222222222222222,
              "#7201a8"
             ],
             [
              0.3333333333333333,
              "#9c179e"
             ],
             [
              0.4444444444444444,
              "#bd3786"
             ],
             [
              0.5555555555555556,
              "#d8576b"
             ],
             [
              0.6666666666666666,
              "#ed7953"
             ],
             [
              0.7777777777777778,
              "#fb9f3a"
             ],
             [
              0.8888888888888888,
              "#fdca26"
             ],
             [
              1,
              "#f0f921"
             ]
            ],
            "type": "surface"
           }
          ],
          "table": [
           {
            "cells": {
             "fill": {
              "color": "#EBF0F8"
             },
             "line": {
              "color": "white"
             }
            },
            "header": {
             "fill": {
              "color": "#C8D4E3"
             },
             "line": {
              "color": "white"
             }
            },
            "type": "table"
           }
          ]
         },
         "layout": {
          "annotationdefaults": {
           "arrowcolor": "#2a3f5f",
           "arrowhead": 0,
           "arrowwidth": 1
          },
          "autotypenumbers": "strict",
          "coloraxis": {
           "colorbar": {
            "outlinewidth": 0,
            "ticks": ""
           }
          },
          "colorscale": {
           "diverging": [
            [
             0,
             "#8e0152"
            ],
            [
             0.1,
             "#c51b7d"
            ],
            [
             0.2,
             "#de77ae"
            ],
            [
             0.3,
             "#f1b6da"
            ],
            [
             0.4,
             "#fde0ef"
            ],
            [
             0.5,
             "#f7f7f7"
            ],
            [
             0.6,
             "#e6f5d0"
            ],
            [
             0.7,
             "#b8e186"
            ],
            [
             0.8,
             "#7fbc41"
            ],
            [
             0.9,
             "#4d9221"
            ],
            [
             1,
             "#276419"
            ]
           ],
           "sequential": [
            [
             0,
             "#0d0887"
            ],
            [
             0.1111111111111111,
             "#46039f"
            ],
            [
             0.2222222222222222,
             "#7201a8"
            ],
            [
             0.3333333333333333,
             "#9c179e"
            ],
            [
             0.4444444444444444,
             "#bd3786"
            ],
            [
             0.5555555555555556,
             "#d8576b"
            ],
            [
             0.6666666666666666,
             "#ed7953"
            ],
            [
             0.7777777777777778,
             "#fb9f3a"
            ],
            [
             0.8888888888888888,
             "#fdca26"
            ],
            [
             1,
             "#f0f921"
            ]
           ],
           "sequentialminus": [
            [
             0,
             "#0d0887"
            ],
            [
             0.1111111111111111,
             "#46039f"
            ],
            [
             0.2222222222222222,
             "#7201a8"
            ],
            [
             0.3333333333333333,
             "#9c179e"
            ],
            [
             0.4444444444444444,
             "#bd3786"
            ],
            [
             0.5555555555555556,
             "#d8576b"
            ],
            [
             0.6666666666666666,
             "#ed7953"
            ],
            [
             0.7777777777777778,
             "#fb9f3a"
            ],
            [
             0.8888888888888888,
             "#fdca26"
            ],
            [
             1,
             "#f0f921"
            ]
           ]
          },
          "colorway": [
           "#636efa",
           "#EF553B",
           "#00cc96",
           "#ab63fa",
           "#FFA15A",
           "#19d3f3",
           "#FF6692",
           "#B6E880",
           "#FF97FF",
           "#FECB52"
          ],
          "font": {
           "color": "#2a3f5f"
          },
          "geo": {
           "bgcolor": "white",
           "lakecolor": "white",
           "landcolor": "#E5ECF6",
           "showlakes": true,
           "showland": true,
           "subunitcolor": "white"
          },
          "hoverlabel": {
           "align": "left"
          },
          "hovermode": "closest",
          "mapbox": {
           "style": "light"
          },
          "paper_bgcolor": "white",
          "plot_bgcolor": "#E5ECF6",
          "polar": {
           "angularaxis": {
            "gridcolor": "white",
            "linecolor": "white",
            "ticks": ""
           },
           "bgcolor": "#E5ECF6",
           "radialaxis": {
            "gridcolor": "white",
            "linecolor": "white",
            "ticks": ""
           }
          },
          "scene": {
           "xaxis": {
            "backgroundcolor": "#E5ECF6",
            "gridcolor": "white",
            "gridwidth": 2,
            "linecolor": "white",
            "showbackground": true,
            "ticks": "",
            "zerolinecolor": "white"
           },
           "yaxis": {
            "backgroundcolor": "#E5ECF6",
            "gridcolor": "white",
            "gridwidth": 2,
            "linecolor": "white",
            "showbackground": true,
            "ticks": "",
            "zerolinecolor": "white"
           },
           "zaxis": {
            "backgroundcolor": "#E5ECF6",
            "gridcolor": "white",
            "gridwidth": 2,
            "linecolor": "white",
            "showbackground": true,
            "ticks": "",
            "zerolinecolor": "white"
           }
          },
          "shapedefaults": {
           "line": {
            "color": "#2a3f5f"
           }
          },
          "ternary": {
           "aaxis": {
            "gridcolor": "white",
            "linecolor": "white",
            "ticks": ""
           },
           "baxis": {
            "gridcolor": "white",
            "linecolor": "white",
            "ticks": ""
           },
           "bgcolor": "#E5ECF6",
           "caxis": {
            "gridcolor": "white",
            "linecolor": "white",
            "ticks": ""
           }
          },
          "title": {
           "x": 0.05
          },
          "xaxis": {
           "automargin": true,
           "gridcolor": "white",
           "linecolor": "white",
           "ticks": "",
           "title": {
            "standoff": 15
           },
           "zerolinecolor": "white",
           "zerolinewidth": 2
          },
          "yaxis": {
           "automargin": true,
           "gridcolor": "white",
           "linecolor": "white",
           "ticks": "",
           "title": {
            "standoff": 15
           },
           "zerolinecolor": "white",
           "zerolinewidth": 2
          }
         }
        },
        "title": {
         "text": "Tendencia Mensual en 2024"
        },
        "xaxis": {
         "anchor": "y",
         "domain": [
          0,
          1
         ],
         "title": {
          "text": "month_x"
         }
        },
        "yaxis": {
         "anchor": "x",
         "domain": [
          0,
          1
         ],
         "title": {
          "text": "count"
         }
        }
       }
      }
     },
     "metadata": {},
     "output_type": "display_data"
    }
   ],
   "source": [
    "df_2024 = df[df['year_x'] == 2024]\n",
    "\n",
    "# Análisis por mes\n",
    "mensual_2024 = df_2024.groupby('month_x').size().reset_index(name='count')\n",
    "fig = px.line(mensual_2024, x='month_x', y='count', title='Tendencia Mensual en 2024')\n",
    "fig.show()\n"
   ]
  },
  {
   "cell_type": "markdown",
   "metadata": {},
   "source": [
    "Trend in 2024:\n",
    "\n",
    "Observation: The monthly trend chart for 2024 shows fluctuations with peaks and troughs.\n",
    "Potential Causes: This could be related to the scheduling and planning of contracts or specific events in certain months.\n",
    "Detailed Analysis: Without additional data, it is difficult to pinpoint the exact reason, but these fluctuations indicate instability in the contracting processes that should be monitored."
   ]
  },
  {
   "cell_type": "markdown",
   "metadata": {},
   "source": [
    "--------------------------------------------------------------------------------------------"
   ]
  },
  {
   "cell_type": "markdown",
   "metadata": {},
   "source": [
    "We will now begin the analysis using the dataframe that contains all records, including those that matched in the merge, as well as those originating from each dataset individually."
   ]
  },
  {
   "cell_type": "code",
   "execution_count": 93,
   "metadata": {},
   "outputs": [
    {
     "data": {
      "text/html": [
       "<div>\n",
       "<style scoped>\n",
       "    .dataframe tbody tr th:only-of-type {\n",
       "        vertical-align: middle;\n",
       "    }\n",
       "\n",
       "    .dataframe tbody tr th {\n",
       "        vertical-align: top;\n",
       "    }\n",
       "\n",
       "    .dataframe thead th {\n",
       "        text-align: right;\n",
       "    }\n",
       "</style>\n",
       "<table border=\"1\" class=\"dataframe\">\n",
       "  <thead>\n",
       "    <tr style=\"text-align: right;\">\n",
       "      <th></th>\n",
       "      <th>year_x</th>\n",
       "      <th>month_x</th>\n",
       "      <th>owner_org</th>\n",
       "      <th>owner_org_title_x</th>\n",
       "      <th>reference_number</th>\n",
       "      <th>procurement_id</th>\n",
       "      <th>vendor_name</th>\n",
       "      <th>vendor_postal_code</th>\n",
       "      <th>buyer_name</th>\n",
       "      <th>contract_date</th>\n",
       "      <th>economic_object_code</th>\n",
       "      <th>description_en</th>\n",
       "      <th>description_fr</th>\n",
       "      <th>contract_period_start</th>\n",
       "      <th>delivery_date</th>\n",
       "      <th>contract_value</th>\n",
       "      <th>original_value</th>\n",
       "      <th>amendment_value</th>\n",
       "      <th>comments_en</th>\n",
       "      <th>comments_fr</th>\n",
       "      <th>additional_comments_en</th>\n",
       "      <th>additional_comments_fr</th>\n",
       "      <th>agreement_type_code</th>\n",
       "      <th>trade_agreement</th>\n",
       "      <th>land_claims</th>\n",
       "      <th>commodity_type</th>\n",
       "      <th>commodity_code</th>\n",
       "      <th>country_of_vendor</th>\n",
       "      <th>solicitation_procedure</th>\n",
       "      <th>limited_tendering_reason</th>\n",
       "      <th>trade_agreement_exceptions</th>\n",
       "      <th>aboriginal_business</th>\n",
       "      <th>aboriginal_business_incidental</th>\n",
       "      <th>intellectual_property</th>\n",
       "      <th>potential_commercial_exploitation</th>\n",
       "      <th>former_public_servant</th>\n",
       "      <th>contracting_entity</th>\n",
       "      <th>standing_offer_number</th>\n",
       "      <th>instrument_type</th>\n",
       "      <th>ministers_office</th>\n",
       "      <th>number_of_bids</th>\n",
       "      <th>article_6_exceptions</th>\n",
       "      <th>award_criteria</th>\n",
       "      <th>socioeconomic_indicator</th>\n",
       "      <th>reporting_period</th>\n",
       "      <th>record_created</th>\n",
       "      <th>record_modified</th>\n",
       "      <th>user_modified</th>\n",
       "      <th>owner_org_title_y</th>\n",
       "      <th>year_y</th>\n",
       "      <th>month_y</th>\n",
       "      <th>_merge</th>\n",
       "    </tr>\n",
       "  </thead>\n",
       "  <tbody>\n",
       "    <tr>\n",
       "      <th>0</th>\n",
       "      <td>2020</td>\n",
       "      <td>4</td>\n",
       "      <td>casdo-ocena</td>\n",
       "      <td>Accessibility Standards Canada | Normes d’acce...</td>\n",
       "      <td>NaN</td>\n",
       "      <td>NaN</td>\n",
       "      <td>NaN</td>\n",
       "      <td>NaN</td>\n",
       "      <td>NaN</td>\n",
       "      <td>NaN</td>\n",
       "      <td>NaN</td>\n",
       "      <td>NaN</td>\n",
       "      <td>NaN</td>\n",
       "      <td>NaN</td>\n",
       "      <td>NaN</td>\n",
       "      <td>NaN</td>\n",
       "      <td>NaN</td>\n",
       "      <td>NaN</td>\n",
       "      <td>NaN</td>\n",
       "      <td>NaN</td>\n",
       "      <td>NaN</td>\n",
       "      <td>NaN</td>\n",
       "      <td>NaN</td>\n",
       "      <td>NaN</td>\n",
       "      <td>NaN</td>\n",
       "      <td>NaN</td>\n",
       "      <td>NaN</td>\n",
       "      <td>NaN</td>\n",
       "      <td>NaN</td>\n",
       "      <td>NaN</td>\n",
       "      <td>NaN</td>\n",
       "      <td>NaN</td>\n",
       "      <td>NaN</td>\n",
       "      <td>NaN</td>\n",
       "      <td>NaN</td>\n",
       "      <td>NaN</td>\n",
       "      <td>NaN</td>\n",
       "      <td>NaN</td>\n",
       "      <td>NaN</td>\n",
       "      <td>NaN</td>\n",
       "      <td>NaN</td>\n",
       "      <td>NaN</td>\n",
       "      <td>NaN</td>\n",
       "      <td>NaN</td>\n",
       "      <td>NaN</td>\n",
       "      <td>NaN</td>\n",
       "      <td>NaN</td>\n",
       "      <td>NaN</td>\n",
       "      <td>NaN</td>\n",
       "      <td>&lt;NA&gt;</td>\n",
       "      <td>&lt;NA&gt;</td>\n",
       "      <td>left_only</td>\n",
       "    </tr>\n",
       "    <tr>\n",
       "      <th>1</th>\n",
       "      <td>2020</td>\n",
       "      <td>5</td>\n",
       "      <td>casdo-ocena</td>\n",
       "      <td>Accessibility Standards Canada | Normes d’acce...</td>\n",
       "      <td>NaN</td>\n",
       "      <td>NaN</td>\n",
       "      <td>NaN</td>\n",
       "      <td>NaN</td>\n",
       "      <td>NaN</td>\n",
       "      <td>NaN</td>\n",
       "      <td>NaN</td>\n",
       "      <td>NaN</td>\n",
       "      <td>NaN</td>\n",
       "      <td>NaN</td>\n",
       "      <td>NaN</td>\n",
       "      <td>NaN</td>\n",
       "      <td>NaN</td>\n",
       "      <td>NaN</td>\n",
       "      <td>NaN</td>\n",
       "      <td>NaN</td>\n",
       "      <td>NaN</td>\n",
       "      <td>NaN</td>\n",
       "      <td>NaN</td>\n",
       "      <td>NaN</td>\n",
       "      <td>NaN</td>\n",
       "      <td>NaN</td>\n",
       "      <td>NaN</td>\n",
       "      <td>NaN</td>\n",
       "      <td>NaN</td>\n",
       "      <td>NaN</td>\n",
       "      <td>NaN</td>\n",
       "      <td>NaN</td>\n",
       "      <td>NaN</td>\n",
       "      <td>NaN</td>\n",
       "      <td>NaN</td>\n",
       "      <td>NaN</td>\n",
       "      <td>NaN</td>\n",
       "      <td>NaN</td>\n",
       "      <td>NaN</td>\n",
       "      <td>NaN</td>\n",
       "      <td>NaN</td>\n",
       "      <td>NaN</td>\n",
       "      <td>NaN</td>\n",
       "      <td>NaN</td>\n",
       "      <td>NaN</td>\n",
       "      <td>NaN</td>\n",
       "      <td>NaN</td>\n",
       "      <td>NaN</td>\n",
       "      <td>NaN</td>\n",
       "      <td>&lt;NA&gt;</td>\n",
       "      <td>&lt;NA&gt;</td>\n",
       "      <td>left_only</td>\n",
       "    </tr>\n",
       "    <tr>\n",
       "      <th>2</th>\n",
       "      <td>2022</td>\n",
       "      <td>10</td>\n",
       "      <td>casdo-ocena</td>\n",
       "      <td>Accessibility Standards Canada | Normes d’acce...</td>\n",
       "      <td>NaN</td>\n",
       "      <td>NaN</td>\n",
       "      <td>NaN</td>\n",
       "      <td>NaN</td>\n",
       "      <td>NaN</td>\n",
       "      <td>NaN</td>\n",
       "      <td>NaN</td>\n",
       "      <td>NaN</td>\n",
       "      <td>NaN</td>\n",
       "      <td>NaN</td>\n",
       "      <td>NaN</td>\n",
       "      <td>NaN</td>\n",
       "      <td>NaN</td>\n",
       "      <td>NaN</td>\n",
       "      <td>NaN</td>\n",
       "      <td>NaN</td>\n",
       "      <td>NaN</td>\n",
       "      <td>NaN</td>\n",
       "      <td>NaN</td>\n",
       "      <td>NaN</td>\n",
       "      <td>NaN</td>\n",
       "      <td>NaN</td>\n",
       "      <td>NaN</td>\n",
       "      <td>NaN</td>\n",
       "      <td>NaN</td>\n",
       "      <td>NaN</td>\n",
       "      <td>NaN</td>\n",
       "      <td>NaN</td>\n",
       "      <td>NaN</td>\n",
       "      <td>NaN</td>\n",
       "      <td>NaN</td>\n",
       "      <td>NaN</td>\n",
       "      <td>NaN</td>\n",
       "      <td>NaN</td>\n",
       "      <td>NaN</td>\n",
       "      <td>NaN</td>\n",
       "      <td>NaN</td>\n",
       "      <td>NaN</td>\n",
       "      <td>NaN</td>\n",
       "      <td>NaN</td>\n",
       "      <td>NaN</td>\n",
       "      <td>NaN</td>\n",
       "      <td>NaN</td>\n",
       "      <td>NaN</td>\n",
       "      <td>NaN</td>\n",
       "      <td>&lt;NA&gt;</td>\n",
       "      <td>&lt;NA&gt;</td>\n",
       "      <td>left_only</td>\n",
       "    </tr>\n",
       "    <tr>\n",
       "      <th>3</th>\n",
       "      <td>2022</td>\n",
       "      <td>1</td>\n",
       "      <td>casdo-ocena</td>\n",
       "      <td>Accessibility Standards Canada | Normes d’acce...</td>\n",
       "      <td>NaN</td>\n",
       "      <td>NaN</td>\n",
       "      <td>NaN</td>\n",
       "      <td>NaN</td>\n",
       "      <td>NaN</td>\n",
       "      <td>NaN</td>\n",
       "      <td>NaN</td>\n",
       "      <td>NaN</td>\n",
       "      <td>NaN</td>\n",
       "      <td>NaN</td>\n",
       "      <td>NaN</td>\n",
       "      <td>NaN</td>\n",
       "      <td>NaN</td>\n",
       "      <td>NaN</td>\n",
       "      <td>NaN</td>\n",
       "      <td>NaN</td>\n",
       "      <td>NaN</td>\n",
       "      <td>NaN</td>\n",
       "      <td>NaN</td>\n",
       "      <td>NaN</td>\n",
       "      <td>NaN</td>\n",
       "      <td>NaN</td>\n",
       "      <td>NaN</td>\n",
       "      <td>NaN</td>\n",
       "      <td>NaN</td>\n",
       "      <td>NaN</td>\n",
       "      <td>NaN</td>\n",
       "      <td>NaN</td>\n",
       "      <td>NaN</td>\n",
       "      <td>NaN</td>\n",
       "      <td>NaN</td>\n",
       "      <td>NaN</td>\n",
       "      <td>NaN</td>\n",
       "      <td>NaN</td>\n",
       "      <td>NaN</td>\n",
       "      <td>NaN</td>\n",
       "      <td>NaN</td>\n",
       "      <td>NaN</td>\n",
       "      <td>NaN</td>\n",
       "      <td>NaN</td>\n",
       "      <td>NaN</td>\n",
       "      <td>NaN</td>\n",
       "      <td>NaN</td>\n",
       "      <td>NaN</td>\n",
       "      <td>NaN</td>\n",
       "      <td>&lt;NA&gt;</td>\n",
       "      <td>&lt;NA&gt;</td>\n",
       "      <td>left_only</td>\n",
       "    </tr>\n",
       "    <tr>\n",
       "      <th>4</th>\n",
       "      <td>2022</td>\n",
       "      <td>2</td>\n",
       "      <td>casdo-ocena</td>\n",
       "      <td>Accessibility Standards Canada | Normes d’acce...</td>\n",
       "      <td>NaN</td>\n",
       "      <td>NaN</td>\n",
       "      <td>NaN</td>\n",
       "      <td>NaN</td>\n",
       "      <td>NaN</td>\n",
       "      <td>NaN</td>\n",
       "      <td>NaN</td>\n",
       "      <td>NaN</td>\n",
       "      <td>NaN</td>\n",
       "      <td>NaN</td>\n",
       "      <td>NaN</td>\n",
       "      <td>NaN</td>\n",
       "      <td>NaN</td>\n",
       "      <td>NaN</td>\n",
       "      <td>NaN</td>\n",
       "      <td>NaN</td>\n",
       "      <td>NaN</td>\n",
       "      <td>NaN</td>\n",
       "      <td>NaN</td>\n",
       "      <td>NaN</td>\n",
       "      <td>NaN</td>\n",
       "      <td>NaN</td>\n",
       "      <td>NaN</td>\n",
       "      <td>NaN</td>\n",
       "      <td>NaN</td>\n",
       "      <td>NaN</td>\n",
       "      <td>NaN</td>\n",
       "      <td>NaN</td>\n",
       "      <td>NaN</td>\n",
       "      <td>NaN</td>\n",
       "      <td>NaN</td>\n",
       "      <td>NaN</td>\n",
       "      <td>NaN</td>\n",
       "      <td>NaN</td>\n",
       "      <td>NaN</td>\n",
       "      <td>NaN</td>\n",
       "      <td>NaN</td>\n",
       "      <td>NaN</td>\n",
       "      <td>NaN</td>\n",
       "      <td>NaN</td>\n",
       "      <td>NaN</td>\n",
       "      <td>NaN</td>\n",
       "      <td>NaN</td>\n",
       "      <td>NaN</td>\n",
       "      <td>NaN</td>\n",
       "      <td>&lt;NA&gt;</td>\n",
       "      <td>&lt;NA&gt;</td>\n",
       "      <td>left_only</td>\n",
       "    </tr>\n",
       "    <tr>\n",
       "      <th>...</th>\n",
       "      <td>...</td>\n",
       "      <td>...</td>\n",
       "      <td>...</td>\n",
       "      <td>...</td>\n",
       "      <td>...</td>\n",
       "      <td>...</td>\n",
       "      <td>...</td>\n",
       "      <td>...</td>\n",
       "      <td>...</td>\n",
       "      <td>...</td>\n",
       "      <td>...</td>\n",
       "      <td>...</td>\n",
       "      <td>...</td>\n",
       "      <td>...</td>\n",
       "      <td>...</td>\n",
       "      <td>...</td>\n",
       "      <td>...</td>\n",
       "      <td>...</td>\n",
       "      <td>...</td>\n",
       "      <td>...</td>\n",
       "      <td>...</td>\n",
       "      <td>...</td>\n",
       "      <td>...</td>\n",
       "      <td>...</td>\n",
       "      <td>...</td>\n",
       "      <td>...</td>\n",
       "      <td>...</td>\n",
       "      <td>...</td>\n",
       "      <td>...</td>\n",
       "      <td>...</td>\n",
       "      <td>...</td>\n",
       "      <td>...</td>\n",
       "      <td>...</td>\n",
       "      <td>...</td>\n",
       "      <td>...</td>\n",
       "      <td>...</td>\n",
       "      <td>...</td>\n",
       "      <td>...</td>\n",
       "      <td>...</td>\n",
       "      <td>...</td>\n",
       "      <td>...</td>\n",
       "      <td>...</td>\n",
       "      <td>...</td>\n",
       "      <td>...</td>\n",
       "      <td>...</td>\n",
       "      <td>...</td>\n",
       "      <td>...</td>\n",
       "      <td>...</td>\n",
       "      <td>...</td>\n",
       "      <td>...</td>\n",
       "      <td>...</td>\n",
       "      <td>...</td>\n",
       "    </tr>\n",
       "    <tr>\n",
       "      <th>9915</th>\n",
       "      <td>&lt;NA&gt;</td>\n",
       "      <td>&lt;NA&gt;</td>\n",
       "      <td>tbs-sct</td>\n",
       "      <td>NaN</td>\n",
       "      <td>C-2017-2018-Q3-00007</td>\n",
       "      <td>2406218540</td>\n",
       "      <td>Avenai Inc.</td>\n",
       "      <td>NaN</td>\n",
       "      <td>NaN</td>\n",
       "      <td>2017-10-17</td>\n",
       "      <td>499</td>\n",
       "      <td>Other professional services not elsewhere spec...</td>\n",
       "      <td>Autres services professionnels non précisés ai...</td>\n",
       "      <td>2017-10-17</td>\n",
       "      <td>2018-01-31</td>\n",
       "      <td>25000.00</td>\n",
       "      <td>25000.00</td>\n",
       "      <td>0.0</td>\n",
       "      <td>NaN</td>\n",
       "      <td>NaN</td>\n",
       "      <td>Project Executive to support the modernization...</td>\n",
       "      <td>Responsable de projet qui appuiera le cadre de...</td>\n",
       "      <td>Y</td>\n",
       "      <td>NaN</td>\n",
       "      <td>NaN</td>\n",
       "      <td>S</td>\n",
       "      <td>R199</td>\n",
       "      <td>CA</td>\n",
       "      <td>TN</td>\n",
       "      <td>85</td>\n",
       "      <td>0</td>\n",
       "      <td>NaN</td>\n",
       "      <td>N</td>\n",
       "      <td>A65</td>\n",
       "      <td>N</td>\n",
       "      <td>N</td>\n",
       "      <td>PWSOSA</td>\n",
       "      <td>E60ZT-152199/126/ZT</td>\n",
       "      <td>C</td>\n",
       "      <td>NaN</td>\n",
       "      <td>NaN</td>\n",
       "      <td>NaN</td>\n",
       "      <td>NaN</td>\n",
       "      <td>NaN</td>\n",
       "      <td>2017-2018-Q3</td>\n",
       "      <td>NaN</td>\n",
       "      <td>NaN</td>\n",
       "      <td>*</td>\n",
       "      <td>NaN</td>\n",
       "      <td>2017</td>\n",
       "      <td>10</td>\n",
       "      <td>right_only</td>\n",
       "    </tr>\n",
       "    <tr>\n",
       "      <th>9916</th>\n",
       "      <td>&lt;NA&gt;</td>\n",
       "      <td>&lt;NA&gt;</td>\n",
       "      <td>tbs-sct</td>\n",
       "      <td>NaN</td>\n",
       "      <td>C-2017-2018-Q3-00019</td>\n",
       "      <td>2406218188</td>\n",
       "      <td>Excel Human Resources Inc.</td>\n",
       "      <td>NaN</td>\n",
       "      <td>NaN</td>\n",
       "      <td>2017-11-24</td>\n",
       "      <td>499</td>\n",
       "      <td>Other professional services not elsewhere spec...</td>\n",
       "      <td>Autres services professionnels non précisés ai...</td>\n",
       "      <td>2017-11-24</td>\n",
       "      <td>2018-03-31</td>\n",
       "      <td>24940.49</td>\n",
       "      <td>24940.49</td>\n",
       "      <td>0.0</td>\n",
       "      <td>NaN</td>\n",
       "      <td>NaN</td>\n",
       "      <td>Privacy Impact Assessment (PIA) Specialist to ...</td>\n",
       "      <td>Spécialiste de l’évaluation des facteurs relat...</td>\n",
       "      <td>Y</td>\n",
       "      <td>NaN</td>\n",
       "      <td>NaN</td>\n",
       "      <td>S</td>\n",
       "      <td>R019</td>\n",
       "      <td>CA</td>\n",
       "      <td>TN</td>\n",
       "      <td>85</td>\n",
       "      <td>0</td>\n",
       "      <td>NaN</td>\n",
       "      <td>N</td>\n",
       "      <td>A65</td>\n",
       "      <td>N</td>\n",
       "      <td>N</td>\n",
       "      <td>PWSOSA</td>\n",
       "      <td>NaN</td>\n",
       "      <td>C</td>\n",
       "      <td>NaN</td>\n",
       "      <td>NaN</td>\n",
       "      <td>NaN</td>\n",
       "      <td>NaN</td>\n",
       "      <td>NaN</td>\n",
       "      <td>2017-2018-Q3</td>\n",
       "      <td>NaN</td>\n",
       "      <td>NaN</td>\n",
       "      <td>*</td>\n",
       "      <td>NaN</td>\n",
       "      <td>2017</td>\n",
       "      <td>11</td>\n",
       "      <td>right_only</td>\n",
       "    </tr>\n",
       "    <tr>\n",
       "      <th>9917</th>\n",
       "      <td>&lt;NA&gt;</td>\n",
       "      <td>&lt;NA&gt;</td>\n",
       "      <td>tbs-sct</td>\n",
       "      <td>NaN</td>\n",
       "      <td>C-2018-2019-Q2-00026</td>\n",
       "      <td>2406219160</td>\n",
       "      <td>Ernst &amp; Young LLP</td>\n",
       "      <td>NaN</td>\n",
       "      <td>NaN</td>\n",
       "      <td>2018-08-27</td>\n",
       "      <td>491</td>\n",
       "      <td>Management consulting</td>\n",
       "      <td>Services de conseillers en gestion</td>\n",
       "      <td>2018-08-27</td>\n",
       "      <td>2018-12-31</td>\n",
       "      <td>300000.00</td>\n",
       "      <td>300000.00</td>\n",
       "      <td>0.0</td>\n",
       "      <td>NaN</td>\n",
       "      <td>NaN</td>\n",
       "      <td>Senior Consultants and Subject Matter Experts ...</td>\n",
       "      <td>Experts-conseils principaux et experts en la m...</td>\n",
       "      <td>NaN</td>\n",
       "      <td>NaN</td>\n",
       "      <td>NaN</td>\n",
       "      <td>S</td>\n",
       "      <td>R019</td>\n",
       "      <td>CA</td>\n",
       "      <td>AC</td>\n",
       "      <td>71</td>\n",
       "      <td>0</td>\n",
       "      <td>NaN</td>\n",
       "      <td>N</td>\n",
       "      <td>A65</td>\n",
       "      <td>N</td>\n",
       "      <td>N</td>\n",
       "      <td>NaN</td>\n",
       "      <td>NaN</td>\n",
       "      <td>C</td>\n",
       "      <td>NaN</td>\n",
       "      <td>NaN</td>\n",
       "      <td>NaN</td>\n",
       "      <td>NaN</td>\n",
       "      <td>NaN</td>\n",
       "      <td>2018-2019-Q2</td>\n",
       "      <td>NaN</td>\n",
       "      <td>NaN</td>\n",
       "      <td>*</td>\n",
       "      <td>NaN</td>\n",
       "      <td>2018</td>\n",
       "      <td>8</td>\n",
       "      <td>right_only</td>\n",
       "    </tr>\n",
       "    <tr>\n",
       "      <th>9918</th>\n",
       "      <td>&lt;NA&gt;</td>\n",
       "      <td>&lt;NA&gt;</td>\n",
       "      <td>tbs-sct</td>\n",
       "      <td>NaN</td>\n",
       "      <td>C-2017-2018-Q3-00049</td>\n",
       "      <td>2406218134</td>\n",
       "      <td>The Corporate Executive</td>\n",
       "      <td>NaN</td>\n",
       "      <td>NaN</td>\n",
       "      <td>2017-09-28</td>\n",
       "      <td>1143</td>\n",
       "      <td>Printed matter, including books, newspapers, p...</td>\n",
       "      <td>Matière imprimée, incluant livres, journaux, i...</td>\n",
       "      <td>2017-09-28</td>\n",
       "      <td>2018-09-27</td>\n",
       "      <td>60011.12</td>\n",
       "      <td>60011.12</td>\n",
       "      <td>0.0</td>\n",
       "      <td>This contract was omitted from a previous publ...</td>\n",
       "      <td>Ce marché a été omis dans une divulgation publ...</td>\n",
       "      <td>Annual subscription to CEB Corporate Leadershi...</td>\n",
       "      <td>Abonnement annuel au CEB Corporate Leadership ...</td>\n",
       "      <td>Y</td>\n",
       "      <td>NaN</td>\n",
       "      <td>NaN</td>\n",
       "      <td>S</td>\n",
       "      <td>D307</td>\n",
       "      <td>CA</td>\n",
       "      <td>TC</td>\n",
       "      <td>0</td>\n",
       "      <td>0</td>\n",
       "      <td>NaN</td>\n",
       "      <td>N</td>\n",
       "      <td>A65</td>\n",
       "      <td>N</td>\n",
       "      <td>N</td>\n",
       "      <td>PWSOSA</td>\n",
       "      <td>E60ZM-160001</td>\n",
       "      <td>C</td>\n",
       "      <td>NaN</td>\n",
       "      <td>NaN</td>\n",
       "      <td>NaN</td>\n",
       "      <td>NaN</td>\n",
       "      <td>NaN</td>\n",
       "      <td>2017-2018-Q4</td>\n",
       "      <td>NaN</td>\n",
       "      <td>NaN</td>\n",
       "      <td>*</td>\n",
       "      <td>NaN</td>\n",
       "      <td>2017</td>\n",
       "      <td>9</td>\n",
       "      <td>right_only</td>\n",
       "    </tr>\n",
       "    <tr>\n",
       "      <th>9919</th>\n",
       "      <td>&lt;NA&gt;</td>\n",
       "      <td>&lt;NA&gt;</td>\n",
       "      <td>tbs-sct</td>\n",
       "      <td>NaN</td>\n",
       "      <td>C-2018-2019-Q3-00048</td>\n",
       "      <td>2406219232</td>\n",
       "      <td>Pleiad Canada Inc.</td>\n",
       "      <td>NaN</td>\n",
       "      <td>NaN</td>\n",
       "      <td>2018-11-02</td>\n",
       "      <td>491</td>\n",
       "      <td>Management consulting</td>\n",
       "      <td>Services de conseillers en gestion</td>\n",
       "      <td>2018-11-02</td>\n",
       "      <td>2020-03-31</td>\n",
       "      <td>534074.16</td>\n",
       "      <td>534074.16</td>\n",
       "      <td>0.0</td>\n",
       "      <td>NaN</td>\n",
       "      <td>NaN</td>\n",
       "      <td>Procurement Specialist to assist the Project A...</td>\n",
       "      <td>Le spécialiste de l’approvisionnement aidera l...</td>\n",
       "      <td>Y</td>\n",
       "      <td>NaN</td>\n",
       "      <td>NaN</td>\n",
       "      <td>S</td>\n",
       "      <td>R019</td>\n",
       "      <td>CA</td>\n",
       "      <td>TC</td>\n",
       "      <td>0</td>\n",
       "      <td>0</td>\n",
       "      <td>NaN</td>\n",
       "      <td>N</td>\n",
       "      <td>A65</td>\n",
       "      <td>N</td>\n",
       "      <td>NaN</td>\n",
       "      <td>PWSOSA</td>\n",
       "      <td>NaN</td>\n",
       "      <td>C</td>\n",
       "      <td>NaN</td>\n",
       "      <td>NaN</td>\n",
       "      <td>NaN</td>\n",
       "      <td>NaN</td>\n",
       "      <td>NaN</td>\n",
       "      <td>2018-2019-Q3</td>\n",
       "      <td>NaN</td>\n",
       "      <td>NaN</td>\n",
       "      <td>*</td>\n",
       "      <td>NaN</td>\n",
       "      <td>2018</td>\n",
       "      <td>11</td>\n",
       "      <td>right_only</td>\n",
       "    </tr>\n",
       "  </tbody>\n",
       "</table>\n",
       "<p>9920 rows × 52 columns</p>\n",
       "</div>"
      ],
      "text/plain": [
       "      year_x  month_x    owner_org  \\\n",
       "0       2020        4  casdo-ocena   \n",
       "1       2020        5  casdo-ocena   \n",
       "2       2022       10  casdo-ocena   \n",
       "3       2022        1  casdo-ocena   \n",
       "4       2022        2  casdo-ocena   \n",
       "...      ...      ...          ...   \n",
       "9915    <NA>     <NA>      tbs-sct   \n",
       "9916    <NA>     <NA>      tbs-sct   \n",
       "9917    <NA>     <NA>      tbs-sct   \n",
       "9918    <NA>     <NA>      tbs-sct   \n",
       "9919    <NA>     <NA>      tbs-sct   \n",
       "\n",
       "                                      owner_org_title_x      reference_number  \\\n",
       "0     Accessibility Standards Canada | Normes d’acce...                   NaN   \n",
       "1     Accessibility Standards Canada | Normes d’acce...                   NaN   \n",
       "2     Accessibility Standards Canada | Normes d’acce...                   NaN   \n",
       "3     Accessibility Standards Canada | Normes d’acce...                   NaN   \n",
       "4     Accessibility Standards Canada | Normes d’acce...                   NaN   \n",
       "...                                                 ...                   ...   \n",
       "9915                                                NaN  C-2017-2018-Q3-00007   \n",
       "9916                                                NaN  C-2017-2018-Q3-00019   \n",
       "9917                                                NaN  C-2018-2019-Q2-00026   \n",
       "9918                                                NaN  C-2017-2018-Q3-00049   \n",
       "9919                                                NaN  C-2018-2019-Q3-00048   \n",
       "\n",
       "     procurement_id                 vendor_name  vendor_postal_code  \\\n",
       "0               NaN                         NaN                 NaN   \n",
       "1               NaN                         NaN                 NaN   \n",
       "2               NaN                         NaN                 NaN   \n",
       "3               NaN                         NaN                 NaN   \n",
       "4               NaN                         NaN                 NaN   \n",
       "...             ...                         ...                 ...   \n",
       "9915     2406218540                 Avenai Inc.                 NaN   \n",
       "9916     2406218188  Excel Human Resources Inc.                 NaN   \n",
       "9917     2406219160           Ernst & Young LLP                 NaN   \n",
       "9918     2406218134     The Corporate Executive                 NaN   \n",
       "9919     2406219232          Pleiad Canada Inc.                 NaN   \n",
       "\n",
       "      buyer_name contract_date economic_object_code  \\\n",
       "0            NaN           NaN                  NaN   \n",
       "1            NaN           NaN                  NaN   \n",
       "2            NaN           NaN                  NaN   \n",
       "3            NaN           NaN                  NaN   \n",
       "4            NaN           NaN                  NaN   \n",
       "...          ...           ...                  ...   \n",
       "9915         NaN    2017-10-17                  499   \n",
       "9916         NaN    2017-11-24                  499   \n",
       "9917         NaN    2018-08-27                  491   \n",
       "9918         NaN    2017-09-28                 1143   \n",
       "9919         NaN    2018-11-02                  491   \n",
       "\n",
       "                                         description_en  \\\n",
       "0                                                   NaN   \n",
       "1                                                   NaN   \n",
       "2                                                   NaN   \n",
       "3                                                   NaN   \n",
       "4                                                   NaN   \n",
       "...                                                 ...   \n",
       "9915  Other professional services not elsewhere spec...   \n",
       "9916  Other professional services not elsewhere spec...   \n",
       "9917                              Management consulting   \n",
       "9918  Printed matter, including books, newspapers, p...   \n",
       "9919                              Management consulting   \n",
       "\n",
       "                                         description_fr contract_period_start  \\\n",
       "0                                                   NaN                   NaN   \n",
       "1                                                   NaN                   NaN   \n",
       "2                                                   NaN                   NaN   \n",
       "3                                                   NaN                   NaN   \n",
       "4                                                   NaN                   NaN   \n",
       "...                                                 ...                   ...   \n",
       "9915  Autres services professionnels non précisés ai...            2017-10-17   \n",
       "9916  Autres services professionnels non précisés ai...            2017-11-24   \n",
       "9917                 Services de conseillers en gestion            2018-08-27   \n",
       "9918  Matière imprimée, incluant livres, journaux, i...            2017-09-28   \n",
       "9919                 Services de conseillers en gestion            2018-11-02   \n",
       "\n",
       "     delivery_date  contract_value  original_value  amendment_value  \\\n",
       "0              NaN             NaN             NaN              NaN   \n",
       "1              NaN             NaN             NaN              NaN   \n",
       "2              NaN             NaN             NaN              NaN   \n",
       "3              NaN             NaN             NaN              NaN   \n",
       "4              NaN             NaN             NaN              NaN   \n",
       "...            ...             ...             ...              ...   \n",
       "9915    2018-01-31        25000.00        25000.00              0.0   \n",
       "9916    2018-03-31        24940.49        24940.49              0.0   \n",
       "9917    2018-12-31       300000.00       300000.00              0.0   \n",
       "9918    2018-09-27        60011.12        60011.12              0.0   \n",
       "9919    2020-03-31       534074.16       534074.16              0.0   \n",
       "\n",
       "                                            comments_en  \\\n",
       "0                                                   NaN   \n",
       "1                                                   NaN   \n",
       "2                                                   NaN   \n",
       "3                                                   NaN   \n",
       "4                                                   NaN   \n",
       "...                                                 ...   \n",
       "9915                                                NaN   \n",
       "9916                                                NaN   \n",
       "9917                                                NaN   \n",
       "9918  This contract was omitted from a previous publ...   \n",
       "9919                                                NaN   \n",
       "\n",
       "                                            comments_fr  \\\n",
       "0                                                   NaN   \n",
       "1                                                   NaN   \n",
       "2                                                   NaN   \n",
       "3                                                   NaN   \n",
       "4                                                   NaN   \n",
       "...                                                 ...   \n",
       "9915                                                NaN   \n",
       "9916                                                NaN   \n",
       "9917                                                NaN   \n",
       "9918  Ce marché a été omis dans une divulgation publ...   \n",
       "9919                                                NaN   \n",
       "\n",
       "                                 additional_comments_en  \\\n",
       "0                                                   NaN   \n",
       "1                                                   NaN   \n",
       "2                                                   NaN   \n",
       "3                                                   NaN   \n",
       "4                                                   NaN   \n",
       "...                                                 ...   \n",
       "9915  Project Executive to support the modernization...   \n",
       "9916  Privacy Impact Assessment (PIA) Specialist to ...   \n",
       "9917  Senior Consultants and Subject Matter Experts ...   \n",
       "9918  Annual subscription to CEB Corporate Leadershi...   \n",
       "9919  Procurement Specialist to assist the Project A...   \n",
       "\n",
       "                                 additional_comments_fr agreement_type_code  \\\n",
       "0                                                   NaN                 NaN   \n",
       "1                                                   NaN                 NaN   \n",
       "2                                                   NaN                 NaN   \n",
       "3                                                   NaN                 NaN   \n",
       "4                                                   NaN                 NaN   \n",
       "...                                                 ...                 ...   \n",
       "9915  Responsable de projet qui appuiera le cadre de...                   Y   \n",
       "9916  Spécialiste de l’évaluation des facteurs relat...                   Y   \n",
       "9917  Experts-conseils principaux et experts en la m...                 NaN   \n",
       "9918  Abonnement annuel au CEB Corporate Leadership ...                   Y   \n",
       "9919  Le spécialiste de l’approvisionnement aidera l...                   Y   \n",
       "\n",
       "      trade_agreement  land_claims commodity_type commodity_code  \\\n",
       "0                 NaN          NaN            NaN            NaN   \n",
       "1                 NaN          NaN            NaN            NaN   \n",
       "2                 NaN          NaN            NaN            NaN   \n",
       "3                 NaN          NaN            NaN            NaN   \n",
       "4                 NaN          NaN            NaN            NaN   \n",
       "...               ...          ...            ...            ...   \n",
       "9915              NaN          NaN              S           R199   \n",
       "9916              NaN          NaN              S           R019   \n",
       "9917              NaN          NaN              S           R019   \n",
       "9918              NaN          NaN              S           D307   \n",
       "9919              NaN          NaN              S           R019   \n",
       "\n",
       "     country_of_vendor solicitation_procedure limited_tendering_reason  \\\n",
       "0                  NaN                    NaN                      NaN   \n",
       "1                  NaN                    NaN                      NaN   \n",
       "2                  NaN                    NaN                      NaN   \n",
       "3                  NaN                    NaN                      NaN   \n",
       "4                  NaN                    NaN                      NaN   \n",
       "...                ...                    ...                      ...   \n",
       "9915                CA                     TN                       85   \n",
       "9916                CA                     TN                       85   \n",
       "9917                CA                     AC                       71   \n",
       "9918                CA                     TC                        0   \n",
       "9919                CA                     TC                        0   \n",
       "\n",
       "     trade_agreement_exceptions  aboriginal_business  \\\n",
       "0                           NaN                  NaN   \n",
       "1                           NaN                  NaN   \n",
       "2                           NaN                  NaN   \n",
       "3                           NaN                  NaN   \n",
       "4                           NaN                  NaN   \n",
       "...                         ...                  ...   \n",
       "9915                          0                  NaN   \n",
       "9916                          0                  NaN   \n",
       "9917                          0                  NaN   \n",
       "9918                          0                  NaN   \n",
       "9919                          0                  NaN   \n",
       "\n",
       "     aboriginal_business_incidental intellectual_property  \\\n",
       "0                               NaN                   NaN   \n",
       "1                               NaN                   NaN   \n",
       "2                               NaN                   NaN   \n",
       "3                               NaN                   NaN   \n",
       "4                               NaN                   NaN   \n",
       "...                             ...                   ...   \n",
       "9915                              N                   A65   \n",
       "9916                              N                   A65   \n",
       "9917                              N                   A65   \n",
       "9918                              N                   A65   \n",
       "9919                              N                   A65   \n",
       "\n",
       "     potential_commercial_exploitation former_public_servant  \\\n",
       "0                                  NaN                   NaN   \n",
       "1                                  NaN                   NaN   \n",
       "2                                  NaN                   NaN   \n",
       "3                                  NaN                   NaN   \n",
       "4                                  NaN                   NaN   \n",
       "...                                ...                   ...   \n",
       "9915                                 N                     N   \n",
       "9916                                 N                     N   \n",
       "9917                                 N                     N   \n",
       "9918                                 N                     N   \n",
       "9919                                 N                   NaN   \n",
       "\n",
       "     contracting_entity standing_offer_number instrument_type  \\\n",
       "0                   NaN                   NaN             NaN   \n",
       "1                   NaN                   NaN             NaN   \n",
       "2                   NaN                   NaN             NaN   \n",
       "3                   NaN                   NaN             NaN   \n",
       "4                   NaN                   NaN             NaN   \n",
       "...                 ...                   ...             ...   \n",
       "9915             PWSOSA   E60ZT-152199/126/ZT               C   \n",
       "9916             PWSOSA                   NaN               C   \n",
       "9917                NaN                   NaN               C   \n",
       "9918             PWSOSA          E60ZM-160001               C   \n",
       "9919             PWSOSA                   NaN               C   \n",
       "\n",
       "     ministers_office  number_of_bids  article_6_exceptions  award_criteria  \\\n",
       "0                 NaN             NaN                   NaN             NaN   \n",
       "1                 NaN             NaN                   NaN             NaN   \n",
       "2                 NaN             NaN                   NaN             NaN   \n",
       "3                 NaN             NaN                   NaN             NaN   \n",
       "4                 NaN             NaN                   NaN             NaN   \n",
       "...               ...             ...                   ...             ...   \n",
       "9915              NaN             NaN                   NaN             NaN   \n",
       "9916              NaN             NaN                   NaN             NaN   \n",
       "9917              NaN             NaN                   NaN             NaN   \n",
       "9918              NaN             NaN                   NaN             NaN   \n",
       "9919              NaN             NaN                   NaN             NaN   \n",
       "\n",
       "      socioeconomic_indicator reporting_period  record_created  \\\n",
       "0                         NaN              NaN             NaN   \n",
       "1                         NaN              NaN             NaN   \n",
       "2                         NaN              NaN             NaN   \n",
       "3                         NaN              NaN             NaN   \n",
       "4                         NaN              NaN             NaN   \n",
       "...                       ...              ...             ...   \n",
       "9915                      NaN     2017-2018-Q3             NaN   \n",
       "9916                      NaN     2017-2018-Q3             NaN   \n",
       "9917                      NaN     2018-2019-Q2             NaN   \n",
       "9918                      NaN     2017-2018-Q4             NaN   \n",
       "9919                      NaN     2018-2019-Q3             NaN   \n",
       "\n",
       "      record_modified user_modified  owner_org_title_y  year_y  month_y  \\\n",
       "0                 NaN           NaN                NaN    <NA>     <NA>   \n",
       "1                 NaN           NaN                NaN    <NA>     <NA>   \n",
       "2                 NaN           NaN                NaN    <NA>     <NA>   \n",
       "3                 NaN           NaN                NaN    <NA>     <NA>   \n",
       "4                 NaN           NaN                NaN    <NA>     <NA>   \n",
       "...               ...           ...                ...     ...      ...   \n",
       "9915              NaN             *                NaN    2017       10   \n",
       "9916              NaN             *                NaN    2017       11   \n",
       "9917              NaN             *                NaN    2018        8   \n",
       "9918              NaN             *                NaN    2017        9   \n",
       "9919              NaN             *                NaN    2018       11   \n",
       "\n",
       "          _merge  \n",
       "0      left_only  \n",
       "1      left_only  \n",
       "2      left_only  \n",
       "3      left_only  \n",
       "4      left_only  \n",
       "...          ...  \n",
       "9915  right_only  \n",
       "9916  right_only  \n",
       "9917  right_only  \n",
       "9918  right_only  \n",
       "9919  right_only  \n",
       "\n",
       "[9920 rows x 52 columns]"
      ]
     },
     "metadata": {},
     "output_type": "display_data"
    }
   ],
   "source": [
    "df_all = pd.read_csv('C:/Users/natal/OneDrive/Escritorio/Canadian Pr/datasets/combined_data_all_corrected.csv', \n",
    "                 dtype={'year_x': 'Int64', 'month_x': 'Int64','year_y': 'Int64', 'month_y': 'Int64'})\n",
    "pd.set_option('display.max_columns', None)\n",
    "display(df_all)"
   ]
  },
  {
   "cell_type": "code",
   "execution_count": 83,
   "metadata": {},
   "outputs": [
    {
     "name": "stdout",
     "output_type": "stream",
     "text": [
      "0       2020\n",
      "1       2020\n",
      "2       2022\n",
      "3       2022\n",
      "4       2022\n",
      "        ... \n",
      "9915    <NA>\n",
      "9916    <NA>\n",
      "9917    <NA>\n",
      "9918    <NA>\n",
      "9919    <NA>\n",
      "Name: year_x, Length: 9920, dtype: Int64\n",
      "0       2020\n",
      "1       2020\n",
      "2       2022\n",
      "3       2022\n",
      "4       2022\n",
      "        ... \n",
      "9915    <NA>\n",
      "9916    <NA>\n",
      "9917    <NA>\n",
      "9918    <NA>\n",
      "9919    <NA>\n",
      "Name: year_y, Length: 9920, dtype: Int64\n"
     ]
    }
   ],
   "source": [
    "# Asegúrate de que 'year' es numérico\n",
    "df_all['year_x'] = pd.to_numeric(df_all['year_x'], errors='coerce')\n",
    "print(df_all['year_x'])\n",
    "# Asegúrate de que 'year' es numérico\n",
    "df_all['year_y'] = pd.to_numeric(df_all['year_y'], errors='coerce')\n",
    "print(df_all['year_y'])"
   ]
  },
  {
   "cell_type": "markdown",
   "metadata": {},
   "source": [
    "Separate Records by Merge Category\n",
    "\n",
    "We divide the dataset into three groups: left_only, right_only, and both to analyze differences and similarities."
   ]
  },
  {
   "cell_type": "code",
   "execution_count": 86,
   "metadata": {},
   "outputs": [
    {
     "name": "stdout",
     "output_type": "stream",
     "text": [
      "Registros 'left_only': 3799\n",
      "Registros 'right_only': 2187\n",
      "Registros 'both': 3934\n"
     ]
    }
   ],
   "source": [
    "# Filtrar los registros según la columna '_merge'\n",
    "df_left_only = df_all[df_all['_merge'] == 'left_only']\n",
    "df_right_only = df_all[df_all['_merge'] == 'right_only']\n",
    "df_both = df_all[df_all['_merge'] == 'both']\n",
    "\n",
    "# Verificar la cantidad de registros en cada categoría\n",
    "print(\"Registros 'left_only':\", df_left_only.shape[0])\n",
    "print(\"Registros 'right_only':\", df_right_only.shape[0])\n",
    "print(\"Registros 'both':\", df_both.shape[0])"
   ]
  },
  {
   "cell_type": "markdown",
   "metadata": {},
   "source": [
    "Identify Peaks by Year in Contracts and Access Requests\n",
    "\n",
    "First, we separate the records by year to identify peaks."
   ]
  },
  {
   "cell_type": "code",
   "execution_count": 84,
   "metadata": {},
   "outputs": [
    {
     "name": "stdout",
     "output_type": "stream",
     "text": [
      "Solicitudes de acceso completadas por año:\n",
      "2020     611\n",
      "2021     688\n",
      "2022     821\n",
      "2023    1102\n",
      "2024     577\n",
      "Name: year_x, dtype: Int64\n",
      "\n",
      "Contratos por año:\n",
      "Series([], Name: year_y, dtype: Int64)\n"
     ]
    }
   ],
   "source": [
    "# Separar los registros por tipo de merge\n",
    "df_completed_requests_only = df_all[df_all['_merge'] == 'left_only']\n",
    "df_contracts_only = df_all[df_all['_merge'] == 'right_only']\n",
    "\n",
    "# Contar registros por año en ambos datasets\n",
    "requests_by_year = df_completed_requests_only['year_x'].value_counts().sort_index()\n",
    "contracts_by_year = df_contracts_only['year_y'].value_counts().sort_index()\n",
    "\n",
    "# Mostrar la distribución anual\n",
    "print(\"Solicitudes de acceso completadas por año:\")\n",
    "print(requests_by_year)\n",
    "\n",
    "print(\"\\nContratos por año:\")\n",
    "print(contracts_by_year)"
   ]
  },
  {
   "cell_type": "markdown",
   "metadata": {},
   "source": [
    "Visualization of Peaks by Year\n",
    "\n",
    "We will use line charts to show trends over the years.\n",
    "\n",
    "Line Chart for Completed Access Requests and Contracts"
   ]
  },
  {
   "cell_type": "code",
   "execution_count": 13,
   "metadata": {},
   "outputs": [
    {
     "data": {
      "application/vnd.plotly.v1+json": {
       "config": {
        "plotlyServerURL": "https://plot.ly"
       },
       "data": [
        {
         "hovertemplate": "Año=%{x}<br>Cantidad de Solicitudes=%{y}<extra></extra>",
         "legendgroup": "",
         "line": {
          "color": "#636efa",
          "dash": "solid"
         },
         "marker": {
          "symbol": "circle"
         },
         "mode": "lines",
         "name": "",
         "orientation": "v",
         "showlegend": false,
         "type": "scatter",
         "x": [
          2020,
          2021,
          2022,
          2023,
          2024
         ],
         "xaxis": "x",
         "y": [
          611,
          688,
          821,
          1102,
          577
         ],
         "yaxis": "y"
        }
       ],
       "layout": {
        "legend": {
         "tracegroupgap": 0
        },
        "template": {
         "data": {
          "bar": [
           {
            "error_x": {
             "color": "#2a3f5f"
            },
            "error_y": {
             "color": "#2a3f5f"
            },
            "marker": {
             "line": {
              "color": "#E5ECF6",
              "width": 0.5
             },
             "pattern": {
              "fillmode": "overlay",
              "size": 10,
              "solidity": 0.2
             }
            },
            "type": "bar"
           }
          ],
          "barpolar": [
           {
            "marker": {
             "line": {
              "color": "#E5ECF6",
              "width": 0.5
             },
             "pattern": {
              "fillmode": "overlay",
              "size": 10,
              "solidity": 0.2
             }
            },
            "type": "barpolar"
           }
          ],
          "carpet": [
           {
            "aaxis": {
             "endlinecolor": "#2a3f5f",
             "gridcolor": "white",
             "linecolor": "white",
             "minorgridcolor": "white",
             "startlinecolor": "#2a3f5f"
            },
            "baxis": {
             "endlinecolor": "#2a3f5f",
             "gridcolor": "white",
             "linecolor": "white",
             "minorgridcolor": "white",
             "startlinecolor": "#2a3f5f"
            },
            "type": "carpet"
           }
          ],
          "choropleth": [
           {
            "colorbar": {
             "outlinewidth": 0,
             "ticks": ""
            },
            "type": "choropleth"
           }
          ],
          "contour": [
           {
            "colorbar": {
             "outlinewidth": 0,
             "ticks": ""
            },
            "colorscale": [
             [
              0,
              "#0d0887"
             ],
             [
              0.1111111111111111,
              "#46039f"
             ],
             [
              0.2222222222222222,
              "#7201a8"
             ],
             [
              0.3333333333333333,
              "#9c179e"
             ],
             [
              0.4444444444444444,
              "#bd3786"
             ],
             [
              0.5555555555555556,
              "#d8576b"
             ],
             [
              0.6666666666666666,
              "#ed7953"
             ],
             [
              0.7777777777777778,
              "#fb9f3a"
             ],
             [
              0.8888888888888888,
              "#fdca26"
             ],
             [
              1,
              "#f0f921"
             ]
            ],
            "type": "contour"
           }
          ],
          "contourcarpet": [
           {
            "colorbar": {
             "outlinewidth": 0,
             "ticks": ""
            },
            "type": "contourcarpet"
           }
          ],
          "heatmap": [
           {
            "colorbar": {
             "outlinewidth": 0,
             "ticks": ""
            },
            "colorscale": [
             [
              0,
              "#0d0887"
             ],
             [
              0.1111111111111111,
              "#46039f"
             ],
             [
              0.2222222222222222,
              "#7201a8"
             ],
             [
              0.3333333333333333,
              "#9c179e"
             ],
             [
              0.4444444444444444,
              "#bd3786"
             ],
             [
              0.5555555555555556,
              "#d8576b"
             ],
             [
              0.6666666666666666,
              "#ed7953"
             ],
             [
              0.7777777777777778,
              "#fb9f3a"
             ],
             [
              0.8888888888888888,
              "#fdca26"
             ],
             [
              1,
              "#f0f921"
             ]
            ],
            "type": "heatmap"
           }
          ],
          "heatmapgl": [
           {
            "colorbar": {
             "outlinewidth": 0,
             "ticks": ""
            },
            "colorscale": [
             [
              0,
              "#0d0887"
             ],
             [
              0.1111111111111111,
              "#46039f"
             ],
             [
              0.2222222222222222,
              "#7201a8"
             ],
             [
              0.3333333333333333,
              "#9c179e"
             ],
             [
              0.4444444444444444,
              "#bd3786"
             ],
             [
              0.5555555555555556,
              "#d8576b"
             ],
             [
              0.6666666666666666,
              "#ed7953"
             ],
             [
              0.7777777777777778,
              "#fb9f3a"
             ],
             [
              0.8888888888888888,
              "#fdca26"
             ],
             [
              1,
              "#f0f921"
             ]
            ],
            "type": "heatmapgl"
           }
          ],
          "histogram": [
           {
            "marker": {
             "pattern": {
              "fillmode": "overlay",
              "size": 10,
              "solidity": 0.2
             }
            },
            "type": "histogram"
           }
          ],
          "histogram2d": [
           {
            "colorbar": {
             "outlinewidth": 0,
             "ticks": ""
            },
            "colorscale": [
             [
              0,
              "#0d0887"
             ],
             [
              0.1111111111111111,
              "#46039f"
             ],
             [
              0.2222222222222222,
              "#7201a8"
             ],
             [
              0.3333333333333333,
              "#9c179e"
             ],
             [
              0.4444444444444444,
              "#bd3786"
             ],
             [
              0.5555555555555556,
              "#d8576b"
             ],
             [
              0.6666666666666666,
              "#ed7953"
             ],
             [
              0.7777777777777778,
              "#fb9f3a"
             ],
             [
              0.8888888888888888,
              "#fdca26"
             ],
             [
              1,
              "#f0f921"
             ]
            ],
            "type": "histogram2d"
           }
          ],
          "histogram2dcontour": [
           {
            "colorbar": {
             "outlinewidth": 0,
             "ticks": ""
            },
            "colorscale": [
             [
              0,
              "#0d0887"
             ],
             [
              0.1111111111111111,
              "#46039f"
             ],
             [
              0.2222222222222222,
              "#7201a8"
             ],
             [
              0.3333333333333333,
              "#9c179e"
             ],
             [
              0.4444444444444444,
              "#bd3786"
             ],
             [
              0.5555555555555556,
              "#d8576b"
             ],
             [
              0.6666666666666666,
              "#ed7953"
             ],
             [
              0.7777777777777778,
              "#fb9f3a"
             ],
             [
              0.8888888888888888,
              "#fdca26"
             ],
             [
              1,
              "#f0f921"
             ]
            ],
            "type": "histogram2dcontour"
           }
          ],
          "mesh3d": [
           {
            "colorbar": {
             "outlinewidth": 0,
             "ticks": ""
            },
            "type": "mesh3d"
           }
          ],
          "parcoords": [
           {
            "line": {
             "colorbar": {
              "outlinewidth": 0,
              "ticks": ""
             }
            },
            "type": "parcoords"
           }
          ],
          "pie": [
           {
            "automargin": true,
            "type": "pie"
           }
          ],
          "scatter": [
           {
            "fillpattern": {
             "fillmode": "overlay",
             "size": 10,
             "solidity": 0.2
            },
            "type": "scatter"
           }
          ],
          "scatter3d": [
           {
            "line": {
             "colorbar": {
              "outlinewidth": 0,
              "ticks": ""
             }
            },
            "marker": {
             "colorbar": {
              "outlinewidth": 0,
              "ticks": ""
             }
            },
            "type": "scatter3d"
           }
          ],
          "scattercarpet": [
           {
            "marker": {
             "colorbar": {
              "outlinewidth": 0,
              "ticks": ""
             }
            },
            "type": "scattercarpet"
           }
          ],
          "scattergeo": [
           {
            "marker": {
             "colorbar": {
              "outlinewidth": 0,
              "ticks": ""
             }
            },
            "type": "scattergeo"
           }
          ],
          "scattergl": [
           {
            "marker": {
             "colorbar": {
              "outlinewidth": 0,
              "ticks": ""
             }
            },
            "type": "scattergl"
           }
          ],
          "scattermapbox": [
           {
            "marker": {
             "colorbar": {
              "outlinewidth": 0,
              "ticks": ""
             }
            },
            "type": "scattermapbox"
           }
          ],
          "scatterpolar": [
           {
            "marker": {
             "colorbar": {
              "outlinewidth": 0,
              "ticks": ""
             }
            },
            "type": "scatterpolar"
           }
          ],
          "scatterpolargl": [
           {
            "marker": {
             "colorbar": {
              "outlinewidth": 0,
              "ticks": ""
             }
            },
            "type": "scatterpolargl"
           }
          ],
          "scatterternary": [
           {
            "marker": {
             "colorbar": {
              "outlinewidth": 0,
              "ticks": ""
             }
            },
            "type": "scatterternary"
           }
          ],
          "surface": [
           {
            "colorbar": {
             "outlinewidth": 0,
             "ticks": ""
            },
            "colorscale": [
             [
              0,
              "#0d0887"
             ],
             [
              0.1111111111111111,
              "#46039f"
             ],
             [
              0.2222222222222222,
              "#7201a8"
             ],
             [
              0.3333333333333333,
              "#9c179e"
             ],
             [
              0.4444444444444444,
              "#bd3786"
             ],
             [
              0.5555555555555556,
              "#d8576b"
             ],
             [
              0.6666666666666666,
              "#ed7953"
             ],
             [
              0.7777777777777778,
              "#fb9f3a"
             ],
             [
              0.8888888888888888,
              "#fdca26"
             ],
             [
              1,
              "#f0f921"
             ]
            ],
            "type": "surface"
           }
          ],
          "table": [
           {
            "cells": {
             "fill": {
              "color": "#EBF0F8"
             },
             "line": {
              "color": "white"
             }
            },
            "header": {
             "fill": {
              "color": "#C8D4E3"
             },
             "line": {
              "color": "white"
             }
            },
            "type": "table"
           }
          ]
         },
         "layout": {
          "annotationdefaults": {
           "arrowcolor": "#2a3f5f",
           "arrowhead": 0,
           "arrowwidth": 1
          },
          "autotypenumbers": "strict",
          "coloraxis": {
           "colorbar": {
            "outlinewidth": 0,
            "ticks": ""
           }
          },
          "colorscale": {
           "diverging": [
            [
             0,
             "#8e0152"
            ],
            [
             0.1,
             "#c51b7d"
            ],
            [
             0.2,
             "#de77ae"
            ],
            [
             0.3,
             "#f1b6da"
            ],
            [
             0.4,
             "#fde0ef"
            ],
            [
             0.5,
             "#f7f7f7"
            ],
            [
             0.6,
             "#e6f5d0"
            ],
            [
             0.7,
             "#b8e186"
            ],
            [
             0.8,
             "#7fbc41"
            ],
            [
             0.9,
             "#4d9221"
            ],
            [
             1,
             "#276419"
            ]
           ],
           "sequential": [
            [
             0,
             "#0d0887"
            ],
            [
             0.1111111111111111,
             "#46039f"
            ],
            [
             0.2222222222222222,
             "#7201a8"
            ],
            [
             0.3333333333333333,
             "#9c179e"
            ],
            [
             0.4444444444444444,
             "#bd3786"
            ],
            [
             0.5555555555555556,
             "#d8576b"
            ],
            [
             0.6666666666666666,
             "#ed7953"
            ],
            [
             0.7777777777777778,
             "#fb9f3a"
            ],
            [
             0.8888888888888888,
             "#fdca26"
            ],
            [
             1,
             "#f0f921"
            ]
           ],
           "sequentialminus": [
            [
             0,
             "#0d0887"
            ],
            [
             0.1111111111111111,
             "#46039f"
            ],
            [
             0.2222222222222222,
             "#7201a8"
            ],
            [
             0.3333333333333333,
             "#9c179e"
            ],
            [
             0.4444444444444444,
             "#bd3786"
            ],
            [
             0.5555555555555556,
             "#d8576b"
            ],
            [
             0.6666666666666666,
             "#ed7953"
            ],
            [
             0.7777777777777778,
             "#fb9f3a"
            ],
            [
             0.8888888888888888,
             "#fdca26"
            ],
            [
             1,
             "#f0f921"
            ]
           ]
          },
          "colorway": [
           "#636efa",
           "#EF553B",
           "#00cc96",
           "#ab63fa",
           "#FFA15A",
           "#19d3f3",
           "#FF6692",
           "#B6E880",
           "#FF97FF",
           "#FECB52"
          ],
          "font": {
           "color": "#2a3f5f"
          },
          "geo": {
           "bgcolor": "white",
           "lakecolor": "white",
           "landcolor": "#E5ECF6",
           "showlakes": true,
           "showland": true,
           "subunitcolor": "white"
          },
          "hoverlabel": {
           "align": "left"
          },
          "hovermode": "closest",
          "mapbox": {
           "style": "light"
          },
          "paper_bgcolor": "white",
          "plot_bgcolor": "#E5ECF6",
          "polar": {
           "angularaxis": {
            "gridcolor": "white",
            "linecolor": "white",
            "ticks": ""
           },
           "bgcolor": "#E5ECF6",
           "radialaxis": {
            "gridcolor": "white",
            "linecolor": "white",
            "ticks": ""
           }
          },
          "scene": {
           "xaxis": {
            "backgroundcolor": "#E5ECF6",
            "gridcolor": "white",
            "gridwidth": 2,
            "linecolor": "white",
            "showbackground": true,
            "ticks": "",
            "zerolinecolor": "white"
           },
           "yaxis": {
            "backgroundcolor": "#E5ECF6",
            "gridcolor": "white",
            "gridwidth": 2,
            "linecolor": "white",
            "showbackground": true,
            "ticks": "",
            "zerolinecolor": "white"
           },
           "zaxis": {
            "backgroundcolor": "#E5ECF6",
            "gridcolor": "white",
            "gridwidth": 2,
            "linecolor": "white",
            "showbackground": true,
            "ticks": "",
            "zerolinecolor": "white"
           }
          },
          "shapedefaults": {
           "line": {
            "color": "#2a3f5f"
           }
          },
          "ternary": {
           "aaxis": {
            "gridcolor": "white",
            "linecolor": "white",
            "ticks": ""
           },
           "baxis": {
            "gridcolor": "white",
            "linecolor": "white",
            "ticks": ""
           },
           "bgcolor": "#E5ECF6",
           "caxis": {
            "gridcolor": "white",
            "linecolor": "white",
            "ticks": ""
           }
          },
          "title": {
           "x": 0.05
          },
          "xaxis": {
           "automargin": true,
           "gridcolor": "white",
           "linecolor": "white",
           "ticks": "",
           "title": {
            "standoff": 15
           },
           "zerolinecolor": "white",
           "zerolinewidth": 2
          },
          "yaxis": {
           "automargin": true,
           "gridcolor": "white",
           "linecolor": "white",
           "ticks": "",
           "title": {
            "standoff": 15
           },
           "zerolinecolor": "white",
           "zerolinewidth": 2
          }
         }
        },
        "title": {
         "text": "Tendencia de Solicitudes de Acceso Completadas por Año"
        },
        "xaxis": {
         "anchor": "y",
         "domain": [
          0,
          1
         ],
         "title": {
          "text": "Año"
         }
        },
        "yaxis": {
         "anchor": "x",
         "domain": [
          0,
          1
         ],
         "title": {
          "text": "Cantidad de Solicitudes"
         }
        }
       }
      }
     },
     "metadata": {},
     "output_type": "display_data"
    }
   ],
   "source": [
    "import plotly.express as px\n",
    "\n",
    "# Gráfico para solicitudes de acceso completadas\n",
    "fig_requests = px.line(\n",
    "    requests_by_year.reset_index(), \n",
    "    x='index', \n",
    "    y='year', \n",
    "    title='Tendencia de Solicitudes de Acceso Completadas por Año',\n",
    "    labels={'index': 'Año', 'year': 'Cantidad de Solicitudes'}\n",
    ")\n",
    "fig_requests.show()"
   ]
  },
  {
   "cell_type": "markdown",
   "metadata": {},
   "source": [
    "Select the Appropriate Dataset for Lag Analysis\n",
    "Since we want to evaluate lagged impacts, we will use the all_dates dataset, which contains records from left_only, right_only, and both. This will allow us to analyze both contracts (including those from previous years) and information access requests, and observe potential correlations with a time lag.\n",
    "\n",
    "Explore Postal Code Availability\n",
    "We will check for the presence of postal codes in the contract data to assess if we can create geographic visualizations. Typically, postal codes are found in fields related to the vendor's location (vendor_postal_code), but we will verify if they are present and complete.\n",
    "\n",
    "Code for Analysis:\n",
    "\n",
    "A. Lag Analysis\n",
    "We will evaluate the lag between contracts and information access requests."
   ]
  },
  {
   "cell_type": "code",
   "execution_count": 98,
   "metadata": {},
   "outputs": [
    {
     "data": {
      "image/png": "[encoded data removed]",
      "text/plain": [
       "<Figure size 1400x700 with 1 Axes>"
      ]
     },
     "metadata": {},
     "output_type": "display_data"
    }
   ],
   "source": [
    "import pandas as pd\n",
    "import matplotlib.pyplot as plt\n",
    "\n",
    "\n",
    "# Cargar el dataset all_dates\n",
    "df_all_dates = pd.read_csv(\"C:/Users/natal/OneDrive/Escritorio/Canadian Pr/datasets/combined_data_all_corrected.csv\")\n",
    "\n",
    "# Convertir las fechas de 'contract_date' y extraer el año y mes\n",
    "df_all_dates ['contract_date'] = pd.to_datetime(df_all_dates ['contract_date'], errors='coerce')\n",
    "df_all_dates ['contract_year'] = df_all_dates ['contract_date'].dt.year\n",
    "\n",
    "# Filtrar sólo los registros 'left_only' y 'right_only' para analizar desfase\n",
    "df_left_only = df_all_dates [df_all_dates ['_merge'] == 'left_only']\n",
    "df_right_only = df_all_dates [df_all_dates ['_merge'] == 'right_only']\n",
    "\n",
    "# Contar solicitudes por año\n",
    "solicitudes_por_año = df_left_only.groupby('year_x').size().reset_index(name='solicitudes')\n",
    "\n",
    "# Contar contratos por año\n",
    "contratos_por_año = df_right_only.groupby('contract_year').size().reset_index(name='contratos')\n",
    "\n",
    "# Combinar ambos conteos por año para observar desfases\n",
    "df_merged = pd.merge(solicitudes_por_año, contratos_por_año, left_on='year_x', right_on='contract_year', how='outer')\n",
    "\n",
    "# Plot para visualizar los impactos retardados\n",
    "plt.figure(figsize=(14, 7))\n",
    "plt.plot(df_merged['year_x'], df_merged['solicitudes'], label='Solicitudes de Acceso a la Información')\n",
    "plt.plot(df_merged['contract_year'], df_merged['contratos'], label='Contratos Gubernamentales')\n",
    "plt.xlabel('Año')\n",
    "plt.ylabel('Cantidad')\n",
    "plt.title('Análisis de Desfase Temporal entre Contratos y Solicitudes')\n",
    "plt.legend()\n",
    "plt.show()\n"
   ]
  },
  {
   "cell_type": "markdown",
   "metadata": {},
   "source": [
    "Chart Analysis:\n",
    "\n",
    "Government Contracts (2013-2018):\n",
    "There is a significant increase in the number of contracts between 2014 and 2018, reaching a peak around 2018, followed by an abrupt decline.\n",
    "This pattern could suggest a rise in contracting activity during these years, possibly related to specific events or policies in those years.\n",
    "\n",
    "Information Access Requests (2020-2024):\n",
    "Requests begin to increase significantly starting in 2020, reaching their peak in 2023, which appears to align with heightened public interest in government transparency and access to information.\n",
    "The trend in requests suggests a lagged impact from previous contracts, where contracts issued in prior years may have led to an increase in information access requests in subsequent years."
   ]
  },
  {
   "cell_type": "code",
   "execution_count": 97,
   "metadata": {},
   "outputs": [
    {
     "name": "stdout",
     "output_type": "stream",
     "text": [
      "Total códigos postales únicos: 0\n",
      "[]\n"
     ]
    }
   ],
   "source": [
    "# Verificar si existen datos de códigos postales en los contratos\n",
    "if 'vendor_postal_code' in df_all_dates.columns:\n",
    "    postal_codes = df_all_dates['vendor_postal_code'].dropna().unique()\n",
    "    print(f\"Total códigos postales únicos: {len(postal_codes)}\")\n",
    "    print(postal_codes[:10])  # Mostrar los primeros 10 códigos postales\n",
    "else:\n",
    "    print(\"No se encontraron códigos postales en el dataset.\")"
   ]
  },
  {
   "cell_type": "markdown",
   "metadata": {},
   "source": [
    "Implications:\n",
    "\n",
    "Lagged Impact: The chart suggests that government contracts in previous years (2014-2018) may be related to the increase in information access requests starting in 2020. This lag could be associated with the availability of public information, controversial events, or the implementation of policies whose effects became visible to the public later on.\n",
    "\n",
    "Monitoring Strategies:\n",
    "It would be valuable to conduct a more detailed analysis, possibly at the level of contract categories or types of information requested, to more accurately assess this correlation.\n",
    "Additionally, we can investigate changes in legislation or proactive disclosure policies that coincide with the observed peaks."
   ]
  },
  {
   "cell_type": "code",
   "execution_count": null,
   "metadata": {},
   "outputs": [],
   "source": []
  }
 ],
 "metadata": {
  "kernelspec": {
   "display_name": "base",
   "language": "python",
   "name": "python3"
  },
  "language_info": {
   "codemirror_mode": {
    "name": "ipython",
    "version": 3
   },
   "file_extension": ".py",
   "mimetype": "text/x-python",
   "name": "python",
   "nbconvert_exporter": "python",
   "pygments_lexer": "ipython3",
   "version": "3.9.13"
  }
 },
 "nbformat": 4,
 "nbformat_minor": 2
}
